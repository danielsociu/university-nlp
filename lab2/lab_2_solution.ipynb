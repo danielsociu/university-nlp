{
 "cells": [
  {
   "cell_type": "markdown",
   "source": [
    "# TASK:\n",
    "\n",
    "###Deadline: 10 martie ora 23:59.\n",
    "###Formular pentru trimiterea temei: https://forms.gle/kMcWxv8e39wwXy1W7.\n",
    "\n",
    "\n",
    "Folosind datasetul urmator, https://github.com/ancatache/LaRoSeDa/tree/main/data - o colectie de review-uri pentru produse in romana, rezolvati urmatoarele cerinte:"
   ],
   "metadata": {
    "collapsed": false
   }
  },
  {
   "cell_type": "markdown",
   "source": [
    "1. Curatati si normalizati corpus-ul aplicand urmatoarele operatiii:\n",
    "\n",
    "    a) afisati caracterele diferite de literele mici ale alfabetului englez\n",
    "\n",
    "    b) transformati numerele in cuvinte folosind num2words\n",
    "\n",
    "    c) eliminati linkurile si alte referinte\n",
    "\n",
    "    d) curatati-l de semnele de punctuatie\n",
    "\n",
    "    e) impartiti textele in cuvinte (tokens), va recomandam sa folositi `spacy` incarcand unul din modelele pentru limba romana (https://spacy.io/models/ro)\n",
    "\n",
    "    f) eliminati stopwords\n",
    "\n",
    "    g) aplicati stemming\n",
    "\n",
    "    h) aplicati lematizare peste cuvintele obtinute la punctul f. Comparand cu rezultatele de la punctul g, afisati top 15 cuvinte pentru care stemul este diferit de lema, sortate descrescator dupa numarul de caractere prin care stemul difera de lema.\n",
    "\n",
    "    i) cautati top 20 trigrame (collocations)\n",
    "\n",
    "\n",
    "2. Calculati frecventele de aparitie ale fiecarui token la punctul e) si punctul g). Plotati-le cum doriti, prin wordcloud sau plotbar. Ce diferente observati? (intrucat numarul de cuvinte distincte poate fi mare, puteti plota informatii doar despre cele mai frecvente N cuvinte)\n"
   ],
   "metadata": {
    "collapsed": false
   }
  },
  {
   "cell_type": "code",
   "execution_count": 3,
   "outputs": [],
   "source": [
    "import json\n",
    "import re\n",
    "from num2words import num2words"
   ],
   "metadata": {
    "collapsed": false,
    "pycharm": {
     "name": "#%%\n"
    }
   }
  },
  {
   "cell_type": "code",
   "execution_count": 4,
   "outputs": [
    {
     "name": "stdout",
     "output_type": "stream",
     "text": [
      "['am analizat la sange toate bratarile de fitness si smartwatch-urile de pe piata de pana la 1.000 lei (bugetul maxim alocat de mine pentru aceasta investitie) si pot sa spun ca acesta avea cele mai pozite review-uri mai peste tot.... alternativa era un apple watch, al carui baterie nu tinea mult din ce am inteles (in jur de 1 zi jumatate).    despre ceas:    pro:   - l-am pus la incarcat in a 4-a zi, cu mentiunea ca inca mai avea 20% baterie (m-ar mai fi tinut o zi);  - pulsul este foarte precis - am testat comparativ cu un tensiometru si au aparut diferente de 1-2 batai pe minut (ceea ce este foarte bine);  - pasii sunt cat de cat corecti, cu o eroare de pana la 5% maximum, insa nu am stat sa verific fix pe fix sa vad daca e asa sau nu, aceasta fiind doar o estimare;  - alergatul il inregistreaza cum trebuie, la fel si exercitiile (le-am introdus la categoria \"workout\", insa sunt sigura ca si la celelalte functioneaza ok;  - somnul il monitorizeaza destul de foarte exact (daca ma ridic sa beau apa sau pana la toaleta si inapoi apare \"awake\", urmand sa inregistreze somnul in continuare daca te pui inapoi in pat sa dormi);  - este rezistent la apa;  - pot prelua sau respinge apelurile de pe telefon (functie foarte utila), insa odata ce ai raspuns, trebuie sa iei telefonul sa vorbesti efectiv.    contra:  - nu poti raspunde la mesaje de pe ceas (functie doar pentru android), insa pe mine nu ma deranjeaza asa tare;  - imi intra notificari doar pentru mesaje si apeluri.    una peste alta este un dispozitiv foarte bun si clar nu il voi returna (aveam de gand sa fac asta daca nu s-ar fi ridicat la inaltimea asteptarile pe care le aveam de la un astfel de dispozitiv).    recomand!:)', 'super', 'este un produs de calitate, iar livrarea comenzii a fost facuta intr-un timp scurt.', 'foarte ok suportul. sta bine fixat de bordul masinii. raport calitate pret bun.', 'daca aveti acest ceas si se descarca bateria foarte repede (20%-25% pe zi) trebuie sa faceti update la versiune de soft peste 12.30 (faceti cu auto update sau manual cu garmin express)  aici puteti verifica ultima versiune de soft (momentan este 12.40):  www8.garmin.com/support/download_details.jsp    cu versiunea 12.40 consuma cam 3-4% pe zi (cu senzorul de puls activ)', 'merge foarte bine! recomand', 'tableta e foarte buna. este cea originala cu meniul la prima pornire in romana. sunt multumit!', 'l-am primit cadou si sunt foarte incantata! nu este doar un smartwatch, dar si eu accesoriu, bratara metalica aratand foarte bine la mana.', 'o super boxa micuta si inimoasa de la un producator de top achizitionata la un pret wow.', 'este ok sunt multumit, cu toate ca nu am prins o reducere buna.']\n"
     ]
    }
   ],
   "source": [
    "with open(\"positive_reviews.json\", 'r') as fin:\n",
    "    positive_reviews = json.load(fin)\n",
    "with open(\"negative_reviews.json\", 'r') as fin:\n",
    "    negative_reviews = json.load(fin)\n",
    "reviews_data = [review['content'] for review in [*positive_reviews['reviews'], *negative_reviews['reviews']]]\n",
    "# small_reviews_data = reviews_data[:100]\n",
    "print(reviews_data[:10])"
   ],
   "metadata": {
    "collapsed": false,
    "pycharm": {
     "name": "#%%\n"
    }
   }
  },
  {
   "cell_type": "code",
   "execution_count": 5,
   "outputs": [
    {
     "name": "stdout",
     "output_type": "stream",
     "text": [
      "=^̇6%ī~/+å\\°.ğ✌,…↓̶¿é«！!€ä£`1\"⭐8' [&–|‘✓)@*®-ā️43]•ƒ×⛤{„ω”<❤í™à0>ű☺5$¡7á9#}’→▪(_:2»—“;?\n"
     ]
    }
   ],
   "source": [
    "# 1 a)\n",
    "# aici am 2 variante, prima e fara litere de orice fel si spatii, al 2-lea e mai permisiv\n",
    "punctuation_set = []\n",
    "# reviews_no_letters = [re.sub(r'[\\w\\s]', '', review) for review in reviews_data]\n",
    "# >=✓¿»%↓\"?@£¡}°✌‘…•\\]$;❤“`'&×⛤☺”:—™’,̇！̶{⭐#–^|(+.-▪/!~)️→®<«*[€„\n",
    "reviews_no_letters = [re.sub(r'[a-z]', '', review) for review in reviews_data]\n",
    "# ✓»%ä↓?@é¡° ✌‘6$;❤8'×4☺”53™’！̶ğ9å–⭐#á^7|▪_-02~️)«®€„\">=à¿ű1£}…•\\]`“&⛤:—,íī̇{*ā+./ω!→ƒ<([\n",
    "for punctuation in reviews_no_letters:\n",
    "    punctuation_set = list(set(punctuation_set) | set(punctuation))\n",
    "punctuation_set = \"\".join(punctuation_set)\n",
    "\n",
    "print(punctuation_set)"
   ],
   "metadata": {
    "collapsed": false,
    "pycharm": {
     "name": "#%%\n"
    }
   }
  },
  {
   "cell_type": "code",
   "execution_count": 6,
   "outputs": [
    {
     "name": "stdout",
     "output_type": "stream",
     "text": [
      "['am analizat la sange toate bratarile de fitness si smartwatch-urile de pe piata de pana la unu.zero lei (bugetul maxim alocat de mine pentru aceasta investitie) si pot sa spun ca acesta avea cele mai pozite review-uri mai peste tot.... alternativa era un apple watch, al carui baterie nu tinea mult din ce am inteles (in jur de unu zi jumatate).    despre ceas:    pro:   - l-am pus la incarcat in a patru-a zi, cu mentiunea ca inca mai avea douăzeci% baterie (m-ar mai fi tinut o zi);  - pulsul este foarte precis - am testat comparativ cu un tensiometru si au aparut diferente de unu-doi batai pe minut (ceea ce este foarte bine);  - pasii sunt cat de cat corecti, cu o eroare de pana la cinci% maximum, insa nu am stat sa verific fix pe fix sa vad daca e asa sau nu, aceasta fiind doar o estimare;  - alergatul il inregistreaza cum trebuie, la fel si exercitiile (le-am introdus la categoria \"workout\", insa sunt sigura ca si la celelalte functioneaza ok;  - somnul il monitorizeaza destul de foarte exact (daca ma ridic sa beau apa sau pana la toaleta si inapoi apare \"awake\", urmand sa inregistreze somnul in continuare daca te pui inapoi in pat sa dormi);  - este rezistent la apa;  - pot prelua sau respinge apelurile de pe telefon (functie foarte utila), insa odata ce ai raspuns, trebuie sa iei telefonul sa vorbesti efectiv.    contra:  - nu poti raspunde la mesaje de pe ceas (functie doar pentru android), insa pe mine nu ma deranjeaza asa tare;  - imi intra notificari doar pentru mesaje si apeluri.    una peste alta este un dispozitiv foarte bun si clar nu il voi returna (aveam de gand sa fac asta daca nu s-ar fi ridicat la inaltimea asteptarile pe care le aveam de la un astfel de dispozitiv).    recomand!:)', 'super', 'este un produs de calitate, iar livrarea comenzii a fost facuta intr-un timp scurt.', 'foarte ok suportul. sta bine fixat de bordul masinii. raport calitate pret bun.', 'daca aveti acest ceas si se descarca bateria foarte repede (douăzeci%-douăzeci și cinci% pe zi) trebuie sa faceti update la versiune de soft peste doisprezece.treizeci (faceti cu auto update sau manual cu garmin express)  aici puteti verifica ultima versiune de soft (momentan este doisprezece.patruzeci):  wwwopt.garmin.com/support/download_details.jsp    cu versiunea doisprezece.patruzeci consuma cam trei-patru% pe zi (cu senzorul de puls activ)', 'merge foarte bine! recomand', 'tableta e foarte buna. este cea originala cu meniul la prima pornire in romana. sunt multumit!', 'l-am primit cadou si sunt foarte incantata! nu este doar un smartwatch, dar si eu accesoriu, bratara metalica aratand foarte bine la mana.', 'o super boxa micuta si inimoasa de la un producator de top achizitionata la un pret wow.', 'este ok sunt multumit, cu toate ca nu am prins o reducere buna.']\n"
     ]
    }
   ],
   "source": [
    "# 1 b)\n",
    "reviews_with_numbers = []\n",
    "for review in reviews_data:\n",
    "    modified_data = re.sub(r\"(\\d+)\", lambda x: num2words(int(x.group(0)), lang=\"romanian\" ), review)\n",
    "    reviews_with_numbers.append(modified_data)\n",
    "print(reviews_with_numbers[:10])"
   ],
   "metadata": {
    "collapsed": false,
    "pycharm": {
     "name": "#%%\n"
    }
   }
  },
  {
   "cell_type": "code",
   "execution_count": 7,
   "outputs": [
    {
     "name": "stdout",
     "output_type": "stream",
     "text": [
      "['am analizat la sange toate bratarile de fitness si smartwatch-urile de pe piata de pana la unu.zero lei (bugetul maxim alocat de mine pentru aceasta investitie) si pot sa spun ca acesta avea cele mai pozite review-uri mai peste tot.... alternativa era un apple watch, al carui baterie nu tinea mult din ce am inteles (in jur de unu zi jumatate).    despre ceas:    pro:   - l-am pus la incarcat in a patru-a zi, cu mentiunea ca inca mai avea douăzeci% baterie (m-ar mai fi tinut o zi);  - pulsul este foarte precis - am testat comparativ cu un tensiometru si au aparut diferente de unu-doi batai pe minut (ceea ce este foarte bine);  - pasii sunt cat de cat corecti, cu o eroare de pana la cinci% maximum, insa nu am stat sa verific fix pe fix sa vad daca e asa sau nu, aceasta fiind doar o estimare;  - alergatul il inregistreaza cum trebuie, la fel si exercitiile (le-am introdus la categoria \"workout\", insa sunt sigura ca si la celelalte functioneaza ok;  - somnul il monitorizeaza destul de foarte exact (daca ma ridic sa beau apa sau pana la toaleta si inapoi apare \"awake\", urmand sa inregistreze somnul in continuare daca te pui inapoi in pat sa dormi);  - este rezistent la apa;  - pot prelua sau respinge apelurile de pe telefon (functie foarte utila), insa odata ce ai raspuns, trebuie sa iei telefonul sa vorbesti efectiv.    contra:  - nu poti raspunde la mesaje de pe ceas (functie doar pentru android), insa pe mine nu ma deranjeaza asa tare;  - imi intra notificari doar pentru mesaje si apeluri.    una peste alta este un dispozitiv foarte bun si clar nu il voi returna (aveam de gand sa fac asta daca nu s-ar fi ridicat la inaltimea asteptarile pe care le aveam de la un astfel de dispozitiv).    recomand!:)', 'super', 'este un produs de calitate, iar livrarea comenzii a fost facuta intr-un timp scurt.', 'foarte ok suportul. sta bine fixat de bordul masinii. raport calitate pret bun.', 'daca aveti acest ceas si se descarca bateria foarte repede (douăzeci%-douăzeci și cinci% pe zi) trebuie sa faceti update la versiune de soft peste doisprezece.treizeci (faceti cu auto update sau manual cu garmin express)  aici puteti verifica ultima versiune de soft (momentan este doisprezece.patruzeci):      cu versiunea doisprezece.patruzeci consuma cam trei-patru% pe zi (cu senzorul de puls activ)', 'merge foarte bine! recomand', 'tableta e foarte buna. este cea originala cu meniul la prima pornire in romana. sunt multumit!', 'l-am primit cadou si sunt foarte incantata! nu este doar un smartwatch, dar si eu accesoriu, bratara metalica aratand foarte bine la mana.', 'o super boxa micuta si inimoasa de la un producator de top achizitionata la un pret wow.', 'este ok sunt multumit, cu toate ca nu am prins o reducere buna.']\n"
     ]
    }
   ],
   "source": [
    "# 1 c)\n",
    "reviews_no_links = [re.sub(r'http\\S+|www\\S+', '', review) for review in reviews_with_numbers]\n",
    "print(reviews_no_links[:10])"
   ],
   "metadata": {
    "collapsed": false,
    "pycharm": {
     "name": "#%%\n"
    }
   }
  },
  {
   "cell_type": "code",
   "execution_count": 8,
   "outputs": [
    {
     "name": "stdout",
     "output_type": "stream",
     "text": [
      "['am analizat la sange toate bratarile de fitness si smartwatchurile de pe piata de pana la unuzero lei bugetul maxim alocat de mine pentru aceasta investitie si pot sa spun ca acesta avea cele mai pozite reviewuri mai peste tot alternativa era un apple watch al carui baterie nu tinea mult din ce am inteles in jur de unu zi jumatate despre ceas pro lam pus la incarcat in a patrua zi cu mentiunea ca inca mai avea douăzeci baterie mar mai fi tinut o zi pulsul este foarte precis am testat comparativ cu un tensiometru si au aparut diferente de unudoi batai pe minut ceea ce este foarte bine pasii sunt cat de cat corecti cu o eroare de pana la cinci maximum insa nu am stat sa verific fix pe fix sa vad daca e asa sau nu aceasta fiind doar o estimare alergatul il inregistreaza cum trebuie la fel si exercitiile leam introdus la categoria workout insa sunt sigura ca si la celelalte functioneaza ok somnul il monitorizeaza destul de foarte exact daca ma ridic sa beau apa sau pana la toaleta si inapoi apare awake urmand sa inregistreze somnul in continuare daca te pui inapoi in pat sa dormi este rezistent la apa pot prelua sau respinge apelurile de pe telefon functie foarte utila insa odata ce ai raspuns trebuie sa iei telefonul sa vorbesti efectiv contra nu poti raspunde la mesaje de pe ceas functie doar pentru android insa pe mine nu ma deranjeaza asa tare imi intra notificari doar pentru mesaje si apeluri una peste alta este un dispozitiv foarte bun si clar nu il voi returna aveam de gand sa fac asta daca nu sar fi ridicat la inaltimea asteptarile pe care le aveam de la un astfel de dispozitiv recomand', 'super', 'este un produs de calitate iar livrarea comenzii a fost facuta intrun timp scurt', 'foarte ok suportul sta bine fixat de bordul masinii raport calitate pret bun', 'daca aveti acest ceas si se descarca bateria foarte repede douăzecidouăzeci și cinci pe zi trebuie sa faceti update la versiune de soft peste doisprezecetreizeci faceti cu auto update sau manual cu garmin express aici puteti verifica ultima versiune de soft momentan este doisprezecepatruzeci cu versiunea doisprezecepatruzeci consuma cam treipatru pe zi cu senzorul de puls activ', 'merge foarte bine recomand', 'tableta e foarte buna este cea originala cu meniul la prima pornire in romana sunt multumit', 'lam primit cadou si sunt foarte incantata nu este doar un smartwatch dar si eu accesoriu bratara metalica aratand foarte bine la mana', 'o super boxa micuta si inimoasa de la un producator de top achizitionata la un pret wow', 'este ok sunt multumit cu toate ca nu am prins o reducere buna']\n"
     ]
    }
   ],
   "source": [
    "# 1 d)\n",
    "reviews_no_punctuation = [re.sub(r'[^\\w\\s]', '', review) for review in reviews_no_links]\n",
    "reviews_no_punctuation = [re.sub(r'\\s+', ' ', review) for review in reviews_no_punctuation] # removing the extra spaces.\n",
    "print(reviews_no_punctuation[:10])"
   ],
   "metadata": {
    "collapsed": false,
    "pycharm": {
     "name": "#%%\n"
    }
   }
  },
  {
   "cell_type": "code",
   "execution_count": null,
   "outputs": [],
   "source": [
    "# ! python -m spacy download ro_core_news_sm"
   ],
   "metadata": {
    "collapsed": false,
    "pycharm": {
     "name": "#%%\n"
    }
   }
  },
  {
   "cell_type": "code",
   "execution_count": 10,
   "outputs": [
    {
     "name": "stdout",
     "output_type": "stream",
     "text": [
      "[['am', 'analizat', 'la', 'sange', 'toate', 'bratarile', 'de', 'fitness', 'si', 'smartwatchurile', 'de', 'pe', 'piata', 'de', 'pana', 'la', 'unuzero', 'lei', 'bugetul', 'maxim', 'alocat', 'de', 'mine', 'pentru', 'aceasta', 'investitie', 'si', 'pot', 'sa', 'spun', 'ca', 'acesta', 'avea', 'cele', 'mai', 'pozite', 'reviewuri', 'mai', 'peste', 'tot', 'alternativa', 'era', 'un', 'apple', 'watch', 'al', 'carui', 'baterie', 'nu', 'tinea', 'mult', 'din', 'ce', 'am', 'inteles', 'in', 'jur', 'de', 'unu', 'zi', 'jumatate', 'despre', 'ceas', 'pro', 'lam', 'pus', 'la', 'incarcat', 'in', 'a', 'patrua', 'zi', 'cu', 'mentiunea', 'ca', 'inca', 'mai', 'avea', 'douăzeci', 'baterie', 'mar', 'mai', 'fi', 'tinut', 'o', 'zi', 'pulsul', 'este', 'foarte', 'precis', 'am', 'testat', 'comparativ', 'cu', 'un', 'tensiometru', 'si', 'au', 'aparut', 'diferente', 'de', 'unudoi', 'batai', 'pe', 'minut', 'ceea', 'ce', 'este', 'foarte', 'bine', 'pasii', 'sunt', 'cat', 'de', 'cat', 'corecti', 'cu', 'o', 'eroare', 'de', 'pana', 'la', 'cinci', 'maximum', 'insa', 'nu', 'am', 'stat', 'sa', 'verific', 'fix', 'pe', 'fix', 'sa', 'vad', 'daca', 'e', 'asa', 'sau', 'nu', 'aceasta', 'fiind', 'doar', 'o', 'estimare', 'alergatul', 'il', 'inregistreaza', 'cum', 'trebuie', 'la', 'fel', 'si', 'exercitiile', 'leam', 'introdus', 'la', 'categoria', 'workout', 'insa', 'sunt', 'sigura', 'ca', 'si', 'la', 'celelalte', 'functioneaza', 'ok', 'somnul', 'il', 'monitorizeaza', 'destul', 'de', 'foarte', 'exact', 'daca', 'ma', 'ridic', 'sa', 'beau', 'apa', 'sau', 'pana', 'la', 'toaleta', 'si', 'inapoi', 'apare', 'awake', 'urmand', 'sa', 'inregistreze', 'somnul', 'in', 'continuare', 'daca', 'te', 'pui', 'inapoi', 'in', 'pat', 'sa', 'dormi', 'este', 'rezistent', 'la', 'apa', 'pot', 'prelua', 'sau', 'respinge', 'apelurile', 'de', 'pe', 'telefon', 'functie', 'foarte', 'utila', 'insa', 'odata', 'ce', 'ai', 'raspuns', 'trebuie', 'sa', 'iei', 'telefonul', 'sa', 'vorbesti', 'efectiv', 'contra', 'nu', 'poti', 'raspunde', 'la', 'mesaje', 'de', 'pe', 'ceas', 'functie', 'doar', 'pentru', 'android', 'insa', 'pe', 'mine', 'nu', 'ma', 'deranjeaza', 'asa', 'tare', 'imi', 'intra', 'notificari', 'doar', 'pentru', 'mesaje', 'si', 'apeluri', 'una', 'peste', 'alta', 'este', 'un', 'dispozitiv', 'foarte', 'bun', 'si', 'clar', 'nu', 'il', 'voi', 'returna', 'aveam', 'de', 'gand', 'sa', 'fac', 'asta', 'daca', 'nu', 'sar', 'fi', 'ridicat', 'la', 'inaltimea', 'asteptarile', 'pe', 'care', 'le', 'aveam', 'de', 'la', 'un', 'astfel', 'de', 'dispozitiv', 'recomand'], ['super'], ['este', 'un', 'produs', 'de', 'calitate', 'iar', 'livrarea', 'comenzii', 'a', 'fost', 'facuta', 'intrun', 'timp', 'scurt'], ['foarte', 'ok', 'suportul', 'sta', 'bine', 'fixat', 'de', 'bordul', 'masinii', 'raport', 'calitate', 'pret', 'bun'], ['daca', 'aveti', 'acest', 'ceas', 'si', 'se', 'descarca', 'bateria', 'foarte', 'repede', 'douăzecidouăzeci', 'și', 'cinci', 'pe', 'zi', 'trebuie', 'sa', 'faceti', 'update', 'la', 'versiune', 'de', 'soft', 'peste', 'doisprezecetreizeci', 'faceti', 'cu', 'auto', 'update', 'sau', 'manual', 'cu', 'garmin', 'express', 'aici', 'puteti', 'verifica', 'ultima', 'versiune', 'de', 'soft', 'momentan', 'este', 'doisprezecepatruzeci', 'cu', 'versiunea', 'doisprezecepatruzeci', 'consuma', 'cam', 'treipatru', 'pe', 'zi', 'cu', 'senzorul', 'de', 'puls', 'activ'], ['merge', 'foarte', 'bine', 'recomand'], ['tableta', 'e', 'foarte', 'buna', 'este', 'cea', 'originala', 'cu', 'meniul', 'la', 'prima', 'pornire', 'in', 'romana', 'sunt', 'multumit'], ['lam', 'primit', 'cadou', 'si', 'sunt', 'foarte', 'incantata', 'nu', 'este', 'doar', 'un', 'smartwatch', 'dar', 'si', 'eu', 'accesoriu', 'bratara', 'metalica', 'aratand', 'foarte', 'bine', 'la', 'mana'], ['o', 'super', 'boxa', 'micuta', 'si', 'inimoasa', 'de', 'la', 'un', 'producator', 'de', 'top', 'achizitionata', 'la', 'un', 'pret', 'wow'], ['este', 'ok', 'sunt', 'multumit', 'cu', 'toate', 'ca', 'nu', 'am', 'prins', 'o', 'reducere', 'buna']]\n"
     ]
    }
   ],
   "source": [
    "# 1 e)\n",
    "import spacy\n",
    "\n",
    "nlp = spacy.load(\"ro_core_news_sm\")\n",
    "tokenizer = nlp.tokenizer\n",
    "tokenized_reviews = []\n",
    "\n",
    "# Doc is a sequence of tokens object\n",
    "for doc in tokenizer.pipe(reviews_no_punctuation, batch_size=500):\n",
    "    tokenized_reviews.append([token.text for token in doc])\n",
    "print(tokenized_reviews[:10])"
   ],
   "metadata": {
    "collapsed": false,
    "pycharm": {
     "name": "#%%\n"
    }
   }
  },
  {
   "cell_type": "code",
   "execution_count": null,
   "outputs": [],
   "source": [],
   "metadata": {
    "collapsed": false,
    "pycharm": {
     "name": "#%%\n"
    }
   }
  }
 ],
 "metadata": {
  "kernelspec": {
   "display_name": "Python 3",
   "language": "python",
   "name": "python3"
  },
  "language_info": {
   "codemirror_mode": {
    "name": "ipython",
    "version": 2
   },
   "file_extension": ".py",
   "mimetype": "text/x-python",
   "name": "python",
   "nbconvert_exporter": "python",
   "pygments_lexer": "ipython2",
   "version": "2.7.6"
  }
 },
 "nbformat": 4,
 "nbformat_minor": 0
}