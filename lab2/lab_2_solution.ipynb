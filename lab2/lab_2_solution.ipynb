{
 "cells": [
  {
   "cell_type": "markdown",
   "source": [
    "# TASK:\n",
    "\n",
    "###Deadline: 10 martie ora 23:59.\n",
    "###Formular pentru trimiterea temei: https://forms.gle/kMcWxv8e39wwXy1W7.\n",
    "\n",
    "\n",
    "Folosind datasetul urmator, https://github.com/ancatache/LaRoSeDa/tree/main/data - o colectie de review-uri pentru produse in romana, rezolvati urmatoarele cerinte:"
   ],
   "metadata": {
    "collapsed": false
   }
  },
  {
   "cell_type": "markdown",
   "source": [
    "1. Curatati si normalizati corpus-ul aplicand urmatoarele operatiii:\n",
    "\n",
    "    a) afisati caracterele diferite de literele mici ale alfabetului englez\n",
    "\n",
    "    b) transformati numerele in cuvinte folosind num2words\n",
    "\n",
    "    c) eliminati linkurile si alte referinte\n",
    "\n",
    "    d) curatati-l de semnele de punctuatie\n",
    "\n",
    "    e) impartiti textele in cuvinte (tokens), va recomandam sa folositi `spacy` incarcand unul din modelele pentru limba romana (https://spacy.io/models/ro)\n",
    "\n",
    "    f) eliminati stopwords\n",
    "\n",
    "    g) aplicati stemming\n",
    "\n",
    "    h) aplicati lematizare peste cuvintele obtinute la punctul f. Comparand cu rezultatele de la punctul g, afisati top 15 cuvinte pentru care stemul este diferit de lema, sortate descrescator dupa numarul de caractere prin care stemul difera de lema.\n",
    "\n",
    "    i) cautati top 20 trigrame (collocations)\n",
    "\n",
    "\n",
    "2. Calculati frecventele de aparitie ale fiecarui token la punctul e) si punctul g). Plotati-le cum doriti, prin wordcloud sau plotbar. Ce diferente observati? (intrucat numarul de cuvinte distincte poate fi mare, puteti plota informatii doar despre cele mai frecvente N cuvinte)\n"
   ],
   "metadata": {
    "collapsed": false
   }
  },
  {
   "cell_type": "code",
   "execution_count": 2,
   "outputs": [],
   "source": [
    "import json\n",
    "import re\n",
    "from num2words import num2words"
   ],
   "metadata": {
    "collapsed": false,
    "pycharm": {
     "name": "#%%\n"
    }
   }
  },
  {
   "cell_type": "code",
   "execution_count": 3,
   "outputs": [
    {
     "name": "stdout",
     "output_type": "stream",
     "text": [
      "['am analizat la sange toate bratarile de fitness si smartwatch-urile de pe piata de pana la 1.000 lei (bugetul maxim alocat de mine pentru aceasta investitie) si pot sa spun ca acesta avea cele mai pozite review-uri mai peste tot.... alternativa era un apple watch, al carui baterie nu tinea mult din ce am inteles (in jur de 1 zi jumatate).    despre ceas:    pro:   - l-am pus la incarcat in a 4-a zi, cu mentiunea ca inca mai avea 20% baterie (m-ar mai fi tinut o zi);  - pulsul este foarte precis - am testat comparativ cu un tensiometru si au aparut diferente de 1-2 batai pe minut (ceea ce este foarte bine);  - pasii sunt cat de cat corecti, cu o eroare de pana la 5% maximum, insa nu am stat sa verific fix pe fix sa vad daca e asa sau nu, aceasta fiind doar o estimare;  - alergatul il inregistreaza cum trebuie, la fel si exercitiile (le-am introdus la categoria \"workout\", insa sunt sigura ca si la celelalte functioneaza ok;  - somnul il monitorizeaza destul de foarte exact (daca ma ridic sa beau apa sau pana la toaleta si inapoi apare \"awake\", urmand sa inregistreze somnul in continuare daca te pui inapoi in pat sa dormi);  - este rezistent la apa;  - pot prelua sau respinge apelurile de pe telefon (functie foarte utila), insa odata ce ai raspuns, trebuie sa iei telefonul sa vorbesti efectiv.    contra:  - nu poti raspunde la mesaje de pe ceas (functie doar pentru android), insa pe mine nu ma deranjeaza asa tare;  - imi intra notificari doar pentru mesaje si apeluri.    una peste alta este un dispozitiv foarte bun si clar nu il voi returna (aveam de gand sa fac asta daca nu s-ar fi ridicat la inaltimea asteptarile pe care le aveam de la un astfel de dispozitiv).    recomand!:)', 'super', 'este un produs de calitate, iar livrarea comenzii a fost facuta intr-un timp scurt.', 'foarte ok suportul. sta bine fixat de bordul masinii. raport calitate pret bun.', 'daca aveti acest ceas si se descarca bateria foarte repede (20%-25% pe zi) trebuie sa faceti update la versiune de soft peste 12.30 (faceti cu auto update sau manual cu garmin express)  aici puteti verifica ultima versiune de soft (momentan este 12.40):  www8.garmin.com/support/download_details.jsp    cu versiunea 12.40 consuma cam 3-4% pe zi (cu senzorul de puls activ)', 'merge foarte bine! recomand', 'tableta e foarte buna. este cea originala cu meniul la prima pornire in romana. sunt multumit!', 'l-am primit cadou si sunt foarte incantata! nu este doar un smartwatch, dar si eu accesoriu, bratara metalica aratand foarte bine la mana.', 'o super boxa micuta si inimoasa de la un producator de top achizitionata la un pret wow.', 'este ok sunt multumit, cu toate ca nu am prins o reducere buna.']\n"
     ]
    }
   ],
   "source": [
    "with open(\"positive_reviews.json\", 'r') as fin:\n",
    "    positive_reviews = json.load(fin)\n",
    "with open(\"negative_reviews.json\", 'r') as fin:\n",
    "    negative_reviews = json.load(fin)\n",
    "reviews_data = [review['content'] for review in [*positive_reviews['reviews'], *negative_reviews['reviews']]]\n",
    "# small_reviews_data = reviews_data[:100]\n",
    "print(reviews_data[:10])"
   ],
   "metadata": {
    "collapsed": false,
    "pycharm": {
     "name": "#%%\n"
    }
   }
  },
  {
   "cell_type": "code",
   "execution_count": 4,
   "outputs": [
    {
     "name": "stdout",
     "output_type": "stream",
     "text": [
      "5“¡{̶̇€⭐…`#/:”9!▪à$>'→.~4–™\\•’=☺↓íā°?«+åω✓！£ī»[✌3|&*@(⛤—10ƒá\")űğé8<6×ä®%¿];,7‘„^}-_️ 2❤\n"
     ]
    }
   ],
   "source": [
    "# 1 a)\n",
    "# aici am 2 variante, prima e fara litere de orice fel si spatii, al 2-lea e mai permisiv\n",
    "punctuation_set = []\n",
    "# reviews_no_letters = [re.sub(r'[\\w\\s]', '', review) for review in reviews_data]\n",
    "# >=✓¿»%↓\"?@£¡}°✌‘…•\\]$;❤“`'&×⛤☺”:—™’,̇！̶{⭐#–^|(+.-▪/!~)️→®<«*[€„\n",
    "reviews_no_letters = [re.sub(r'[a-z]', '', review) for review in reviews_data]\n",
    "# ✓»%ä↓?@é¡° ✌‘6$;❤8'×4☺”53™’！̶ğ9å–⭐#á^7|▪_-02~️)«®€„\">=à¿ű1£}…•\\]`“&⛤:—,íī̇{*ā+./ω!→ƒ<([\n",
    "for punctuation in reviews_no_letters:\n",
    "    punctuation_set = list(set(punctuation_set) | set(punctuation))\n",
    "punctuation_set = \"\".join(punctuation_set)\n",
    "\n",
    "print(punctuation_set)"
   ],
   "metadata": {
    "collapsed": false,
    "pycharm": {
     "name": "#%%\n"
    }
   }
  },
  {
   "cell_type": "code",
   "execution_count": 5,
   "outputs": [
    {
     "name": "stdout",
     "output_type": "stream",
     "text": [
      "['am analizat la sange toate bratarile de fitness si smartwatch-urile de pe piata de pana la unu.zero lei (bugetul maxim alocat de mine pentru aceasta investitie) si pot sa spun ca acesta avea cele mai pozite review-uri mai peste tot.... alternativa era un apple watch, al carui baterie nu tinea mult din ce am inteles (in jur de unu zi jumatate).    despre ceas:    pro:   - l-am pus la incarcat in a patru-a zi, cu mentiunea ca inca mai avea douăzeci% baterie (m-ar mai fi tinut o zi);  - pulsul este foarte precis - am testat comparativ cu un tensiometru si au aparut diferente de unu-doi batai pe minut (ceea ce este foarte bine);  - pasii sunt cat de cat corecti, cu o eroare de pana la cinci% maximum, insa nu am stat sa verific fix pe fix sa vad daca e asa sau nu, aceasta fiind doar o estimare;  - alergatul il inregistreaza cum trebuie, la fel si exercitiile (le-am introdus la categoria \"workout\", insa sunt sigura ca si la celelalte functioneaza ok;  - somnul il monitorizeaza destul de foarte exact (daca ma ridic sa beau apa sau pana la toaleta si inapoi apare \"awake\", urmand sa inregistreze somnul in continuare daca te pui inapoi in pat sa dormi);  - este rezistent la apa;  - pot prelua sau respinge apelurile de pe telefon (functie foarte utila), insa odata ce ai raspuns, trebuie sa iei telefonul sa vorbesti efectiv.    contra:  - nu poti raspunde la mesaje de pe ceas (functie doar pentru android), insa pe mine nu ma deranjeaza asa tare;  - imi intra notificari doar pentru mesaje si apeluri.    una peste alta este un dispozitiv foarte bun si clar nu il voi returna (aveam de gand sa fac asta daca nu s-ar fi ridicat la inaltimea asteptarile pe care le aveam de la un astfel de dispozitiv).    recomand!:)', 'super', 'este un produs de calitate, iar livrarea comenzii a fost facuta intr-un timp scurt.', 'foarte ok suportul. sta bine fixat de bordul masinii. raport calitate pret bun.', 'daca aveti acest ceas si se descarca bateria foarte repede (douăzeci%-douăzeci și cinci% pe zi) trebuie sa faceti update la versiune de soft peste doisprezece.treizeci (faceti cu auto update sau manual cu garmin express)  aici puteti verifica ultima versiune de soft (momentan este doisprezece.patruzeci):  wwwopt.garmin.com/support/download_details.jsp    cu versiunea doisprezece.patruzeci consuma cam trei-patru% pe zi (cu senzorul de puls activ)', 'merge foarte bine! recomand', 'tableta e foarte buna. este cea originala cu meniul la prima pornire in romana. sunt multumit!', 'l-am primit cadou si sunt foarte incantata! nu este doar un smartwatch, dar si eu accesoriu, bratara metalica aratand foarte bine la mana.', 'o super boxa micuta si inimoasa de la un producator de top achizitionata la un pret wow.', 'este ok sunt multumit, cu toate ca nu am prins o reducere buna.']\n"
     ]
    }
   ],
   "source": [
    "# 1 b)\n",
    "reviews_with_numbers = []\n",
    "for review in reviews_data:\n",
    "    modified_data = re.sub(r\"(\\d+)\", lambda x: num2words(int(x.group(0)), lang=\"romanian\" ), review)\n",
    "    reviews_with_numbers.append(modified_data)\n",
    "print(reviews_with_numbers[:10])"
   ],
   "metadata": {
    "collapsed": false,
    "pycharm": {
     "name": "#%%\n"
    }
   }
  },
  {
   "cell_type": "code",
   "execution_count": 6,
   "outputs": [
    {
     "name": "stdout",
     "output_type": "stream",
     "text": [
      "['am analizat la sange toate bratarile de fitness si smartwatch-urile de pe piata de pana la unu.zero lei (bugetul maxim alocat de mine pentru aceasta investitie) si pot sa spun ca acesta avea cele mai pozite review-uri mai peste tot.... alternativa era un apple watch, al carui baterie nu tinea mult din ce am inteles (in jur de unu zi jumatate).    despre ceas:    pro:   - l-am pus la incarcat in a patru-a zi, cu mentiunea ca inca mai avea douăzeci% baterie (m-ar mai fi tinut o zi);  - pulsul este foarte precis - am testat comparativ cu un tensiometru si au aparut diferente de unu-doi batai pe minut (ceea ce este foarte bine);  - pasii sunt cat de cat corecti, cu o eroare de pana la cinci% maximum, insa nu am stat sa verific fix pe fix sa vad daca e asa sau nu, aceasta fiind doar o estimare;  - alergatul il inregistreaza cum trebuie, la fel si exercitiile (le-am introdus la categoria \"workout\", insa sunt sigura ca si la celelalte functioneaza ok;  - somnul il monitorizeaza destul de foarte exact (daca ma ridic sa beau apa sau pana la toaleta si inapoi apare \"awake\", urmand sa inregistreze somnul in continuare daca te pui inapoi in pat sa dormi);  - este rezistent la apa;  - pot prelua sau respinge apelurile de pe telefon (functie foarte utila), insa odata ce ai raspuns, trebuie sa iei telefonul sa vorbesti efectiv.    contra:  - nu poti raspunde la mesaje de pe ceas (functie doar pentru android), insa pe mine nu ma deranjeaza asa tare;  - imi intra notificari doar pentru mesaje si apeluri.    una peste alta este un dispozitiv foarte bun si clar nu il voi returna (aveam de gand sa fac asta daca nu s-ar fi ridicat la inaltimea asteptarile pe care le aveam de la un astfel de dispozitiv).    recomand!:)', 'super', 'este un produs de calitate, iar livrarea comenzii a fost facuta intr-un timp scurt.', 'foarte ok suportul. sta bine fixat de bordul masinii. raport calitate pret bun.', 'daca aveti acest ceas si se descarca bateria foarte repede (douăzeci%-douăzeci și cinci% pe zi) trebuie sa faceti update la versiune de soft peste doisprezece.treizeci (faceti cu auto update sau manual cu garmin express)  aici puteti verifica ultima versiune de soft (momentan este doisprezece.patruzeci):      cu versiunea doisprezece.patruzeci consuma cam trei-patru% pe zi (cu senzorul de puls activ)', 'merge foarte bine! recomand', 'tableta e foarte buna. este cea originala cu meniul la prima pornire in romana. sunt multumit!', 'l-am primit cadou si sunt foarte incantata! nu este doar un smartwatch, dar si eu accesoriu, bratara metalica aratand foarte bine la mana.', 'o super boxa micuta si inimoasa de la un producator de top achizitionata la un pret wow.', 'este ok sunt multumit, cu toate ca nu am prins o reducere buna.']\n"
     ]
    }
   ],
   "source": [
    "# 1 c)\n",
    "reviews_no_links = [re.sub(r'http\\S+|www\\S+', '', review) for review in reviews_with_numbers]\n",
    "print(reviews_no_links[:10])"
   ],
   "metadata": {
    "collapsed": false,
    "pycharm": {
     "name": "#%%\n"
    }
   }
  },
  {
   "cell_type": "code",
   "execution_count": 7,
   "outputs": [
    {
     "name": "stdout",
     "output_type": "stream",
     "text": [
      "['am analizat la sange toate bratarile de fitness si smartwatchurile de pe piata de pana la unuzero lei bugetul maxim alocat de mine pentru aceasta investitie si pot sa spun ca acesta avea cele mai pozite reviewuri mai peste tot alternativa era un apple watch al carui baterie nu tinea mult din ce am inteles in jur de unu zi jumatate despre ceas pro lam pus la incarcat in a patrua zi cu mentiunea ca inca mai avea douăzeci baterie mar mai fi tinut o zi pulsul este foarte precis am testat comparativ cu un tensiometru si au aparut diferente de unudoi batai pe minut ceea ce este foarte bine pasii sunt cat de cat corecti cu o eroare de pana la cinci maximum insa nu am stat sa verific fix pe fix sa vad daca e asa sau nu aceasta fiind doar o estimare alergatul il inregistreaza cum trebuie la fel si exercitiile leam introdus la categoria workout insa sunt sigura ca si la celelalte functioneaza ok somnul il monitorizeaza destul de foarte exact daca ma ridic sa beau apa sau pana la toaleta si inapoi apare awake urmand sa inregistreze somnul in continuare daca te pui inapoi in pat sa dormi este rezistent la apa pot prelua sau respinge apelurile de pe telefon functie foarte utila insa odata ce ai raspuns trebuie sa iei telefonul sa vorbesti efectiv contra nu poti raspunde la mesaje de pe ceas functie doar pentru android insa pe mine nu ma deranjeaza asa tare imi intra notificari doar pentru mesaje si apeluri una peste alta este un dispozitiv foarte bun si clar nu il voi returna aveam de gand sa fac asta daca nu sar fi ridicat la inaltimea asteptarile pe care le aveam de la un astfel de dispozitiv recomand', 'super', 'este un produs de calitate iar livrarea comenzii a fost facuta intrun timp scurt', 'foarte ok suportul sta bine fixat de bordul masinii raport calitate pret bun', 'daca aveti acest ceas si se descarca bateria foarte repede douăzecidouăzeci și cinci pe zi trebuie sa faceti update la versiune de soft peste doisprezecetreizeci faceti cu auto update sau manual cu garmin express aici puteti verifica ultima versiune de soft momentan este doisprezecepatruzeci cu versiunea doisprezecepatruzeci consuma cam treipatru pe zi cu senzorul de puls activ', 'merge foarte bine recomand', 'tableta e foarte buna este cea originala cu meniul la prima pornire in romana sunt multumit', 'lam primit cadou si sunt foarte incantata nu este doar un smartwatch dar si eu accesoriu bratara metalica aratand foarte bine la mana', 'o super boxa micuta si inimoasa de la un producator de top achizitionata la un pret wow', 'este ok sunt multumit cu toate ca nu am prins o reducere buna']\n"
     ]
    }
   ],
   "source": [
    "# 1 d)\n",
    "reviews_no_punctuation = [re.sub(r'[^\\w\\s]', '', review) for review in reviews_no_links]\n",
    "reviews_no_punctuation = [re.sub(r'\\s+', ' ', review) for review in reviews_no_punctuation] # removing the extra spaces.\n",
    "print(reviews_no_punctuation[:10])"
   ],
   "metadata": {
    "collapsed": false,
    "pycharm": {
     "name": "#%%\n"
    }
   }
  },
  {
   "cell_type": "code",
   "execution_count": 8,
   "outputs": [],
   "source": [
    "# ! python -m spacy download ro_core_news_sm"
   ],
   "metadata": {
    "collapsed": false,
    "pycharm": {
     "name": "#%%\n"
    }
   }
  },
  {
   "cell_type": "code",
   "execution_count": 9,
   "outputs": [
    {
     "name": "stdout",
     "output_type": "stream",
     "text": [
      "[['am', 'analizat', 'la', 'sange', 'toate', 'bratarile', 'de', 'fitness', 'si', 'smartwatchurile', 'de', 'pe', 'piata', 'de', 'pana', 'la', 'unuzero', 'lei', 'bugetul', 'maxim', 'alocat', 'de', 'mine', 'pentru', 'aceasta', 'investitie', 'si', 'pot', 'sa', 'spun', 'ca', 'acesta', 'avea', 'cele', 'mai', 'pozite', 'reviewuri', 'mai', 'peste', 'tot', 'alternativa', 'era', 'un', 'apple', 'watch', 'al', 'carui', 'baterie', 'nu', 'tinea', 'mult', 'din', 'ce', 'am', 'inteles', 'in', 'jur', 'de', 'unu', 'zi', 'jumatate', 'despre', 'ceas', 'pro', 'lam', 'pus', 'la', 'incarcat', 'in', 'a', 'patrua', 'zi', 'cu', 'mentiunea', 'ca', 'inca', 'mai', 'avea', 'douăzeci', 'baterie', 'mar', 'mai', 'fi', 'tinut', 'o', 'zi', 'pulsul', 'este', 'foarte', 'precis', 'am', 'testat', 'comparativ', 'cu', 'un', 'tensiometru', 'si', 'au', 'aparut', 'diferente', 'de', 'unudoi', 'batai', 'pe', 'minut', 'ceea', 'ce', 'este', 'foarte', 'bine', 'pasii', 'sunt', 'cat', 'de', 'cat', 'corecti', 'cu', 'o', 'eroare', 'de', 'pana', 'la', 'cinci', 'maximum', 'insa', 'nu', 'am', 'stat', 'sa', 'verific', 'fix', 'pe', 'fix', 'sa', 'vad', 'daca', 'e', 'asa', 'sau', 'nu', 'aceasta', 'fiind', 'doar', 'o', 'estimare', 'alergatul', 'il', 'inregistreaza', 'cum', 'trebuie', 'la', 'fel', 'si', 'exercitiile', 'leam', 'introdus', 'la', 'categoria', 'workout', 'insa', 'sunt', 'sigura', 'ca', 'si', 'la', 'celelalte', 'functioneaza', 'ok', 'somnul', 'il', 'monitorizeaza', 'destul', 'de', 'foarte', 'exact', 'daca', 'ma', 'ridic', 'sa', 'beau', 'apa', 'sau', 'pana', 'la', 'toaleta', 'si', 'inapoi', 'apare', 'awake', 'urmand', 'sa', 'inregistreze', 'somnul', 'in', 'continuare', 'daca', 'te', 'pui', 'inapoi', 'in', 'pat', 'sa', 'dormi', 'este', 'rezistent', 'la', 'apa', 'pot', 'prelua', 'sau', 'respinge', 'apelurile', 'de', 'pe', 'telefon', 'functie', 'foarte', 'utila', 'insa', 'odata', 'ce', 'ai', 'raspuns', 'trebuie', 'sa', 'iei', 'telefonul', 'sa', 'vorbesti', 'efectiv', 'contra', 'nu', 'poti', 'raspunde', 'la', 'mesaje', 'de', 'pe', 'ceas', 'functie', 'doar', 'pentru', 'android', 'insa', 'pe', 'mine', 'nu', 'ma', 'deranjeaza', 'asa', 'tare', 'imi', 'intra', 'notificari', 'doar', 'pentru', 'mesaje', 'si', 'apeluri', 'una', 'peste', 'alta', 'este', 'un', 'dispozitiv', 'foarte', 'bun', 'si', 'clar', 'nu', 'il', 'voi', 'returna', 'aveam', 'de', 'gand', 'sa', 'fac', 'asta', 'daca', 'nu', 'sar', 'fi', 'ridicat', 'la', 'inaltimea', 'asteptarile', 'pe', 'care', 'le', 'aveam', 'de', 'la', 'un', 'astfel', 'de', 'dispozitiv', 'recomand'], ['super'], ['este', 'un', 'produs', 'de', 'calitate', 'iar', 'livrarea', 'comenzii', 'a', 'fost', 'facuta', 'intrun', 'timp', 'scurt'], ['foarte', 'ok', 'suportul', 'sta', 'bine', 'fixat', 'de', 'bordul', 'masinii', 'raport', 'calitate', 'pret', 'bun'], ['daca', 'aveti', 'acest', 'ceas', 'si', 'se', 'descarca', 'bateria', 'foarte', 'repede', 'douăzecidouăzeci', 'și', 'cinci', 'pe', 'zi', 'trebuie', 'sa', 'faceti', 'update', 'la', 'versiune', 'de', 'soft', 'peste', 'doisprezecetreizeci', 'faceti', 'cu', 'auto', 'update', 'sau', 'manual', 'cu', 'garmin', 'express', 'aici', 'puteti', 'verifica', 'ultima', 'versiune', 'de', 'soft', 'momentan', 'este', 'doisprezecepatruzeci', 'cu', 'versiunea', 'doisprezecepatruzeci', 'consuma', 'cam', 'treipatru', 'pe', 'zi', 'cu', 'senzorul', 'de', 'puls', 'activ'], ['merge', 'foarte', 'bine', 'recomand'], ['tableta', 'e', 'foarte', 'buna', 'este', 'cea', 'originala', 'cu', 'meniul', 'la', 'prima', 'pornire', 'in', 'romana', 'sunt', 'multumit'], ['lam', 'primit', 'cadou', 'si', 'sunt', 'foarte', 'incantata', 'nu', 'este', 'doar', 'un', 'smartwatch', 'dar', 'si', 'eu', 'accesoriu', 'bratara', 'metalica', 'aratand', 'foarte', 'bine', 'la', 'mana'], ['o', 'super', 'boxa', 'micuta', 'si', 'inimoasa', 'de', 'la', 'un', 'producator', 'de', 'top', 'achizitionata', 'la', 'un', 'pret', 'wow'], ['este', 'ok', 'sunt', 'multumit', 'cu', 'toate', 'ca', 'nu', 'am', 'prins', 'o', 'reducere', 'buna']]\n"
     ]
    }
   ],
   "source": [
    "# 1 e)\n",
    "import spacy\n",
    "\n",
    "nlp = spacy.load(\"ro_core_news_sm\")\n",
    "tokenizer = nlp.tokenizer\n",
    "tokenized_reviews = []\n",
    "\n",
    "# Doc is a sequence of tokens object\n",
    "for doc in tokenizer.pipe(reviews_no_punctuation, batch_size=500):\n",
    "    tokenized_reviews.append([token.text for token in doc])\n",
    "print(tokenized_reviews[:10])"
   ],
   "metadata": {
    "collapsed": false,
    "pycharm": {
     "name": "#%%\n"
    }
   }
  },
  {
   "cell_type": "code",
   "execution_count": 10,
   "outputs": [
    {
     "name": "stdout",
     "output_type": "stream",
     "text": [
      "[['analizat', 'sange', 'bratarile', 'fitness', 'smartwatchurile', 'piata', 'pana', 'unuzero', 'lei', 'bugetul', 'maxim', 'alocat', 'investitie', 'spun', 'pozite', 'reviewuri', 'alternativa', 'apple', 'watch', 'carui', 'baterie', 'tinea', 'inteles', 'jur', 'jumatate', 'ceas', 'pro', 'lam', 'pus', 'incarcat', 'patrua', 'mentiunea', 'douăzeci', 'baterie', 'mar', 'tinut', 'pulsul', 'precis', 'testat', 'comparativ', 'tensiometru', 'aparut', 'diferente', 'unudoi', 'batai', 'minut', 'pasii', 'corecti', 'eroare', 'pana', 'maximum', 'stat', 'verific', 'fix', 'fix', 'vad', 'fiind', 'estimare', 'alergatul', 'inregistreaza', 'trebuie', 'exercitiile', 'leam', 'introdus', 'categoria', 'workout', 'sigura', 'celelalte', 'functioneaza', 'ok', 'somnul', 'monitorizeaza', 'destul', 'ridic', 'beau', 'apa', 'pana', 'toaleta', 'apare', 'awake', 'urmand', 'inregistreze', 'somnul', 'continuare', 'pui', 'pat', 'dormi', 'rezistent', 'apa', 'prelua', 'respinge', 'apelurile', 'telefon', 'functie', 'utila', 'raspuns', 'trebuie', 'iei', 'telefonul', 'vorbesti', 'efectiv', 'poti', 'raspunde', 'mesaje', 'ceas', 'functie', 'android', 'deranjeaza', 'tare', 'intra', 'notificari', 'mesaje', 'apeluri', 'dispozitiv', 'bun', 'clar', 'returna', 'aveam', 'gand', 'fac', 'sar', 'ridicat', 'inaltimea', 'asteptarile', 'aveam', 'dispozitiv', 'recomand'], ['super'], ['produs', 'calitate', 'livrarea', 'comenzii', 'facuta', 'intrun', 'scurt'], ['ok', 'suportul', 'sta', 'fixat', 'bordul', 'masinii', 'raport', 'calitate', 'pret', 'bun'], ['aveti', 'ceas', 'descarca', 'bateria', 'repede', 'douăzecidouăzeci', 'trebuie', 'faceti', 'update', 'versiune', 'soft', 'doisprezecetreizeci', 'faceti', 'auto', 'update', 'manual', 'garmin', 'express', 'puteti', 'verifica', 'ultima', 'versiune', 'soft', 'momentan', 'doisprezecepatruzeci', 'versiunea', 'doisprezecepatruzeci', 'consuma', 'treipatru', 'senzorul', 'puls', 'activ'], ['merge', 'recomand'], ['tableta', 'buna', 'originala', 'meniul', 'pornire', 'romana', 'multumit'], ['lam', 'primit', 'cadou', 'incantata', 'smartwatch', 'accesoriu', 'bratara', 'metalica', 'aratand', 'mana'], ['super', 'boxa', 'micuta', 'inimoasa', 'producator', 'top', 'achizitionata', 'pret', 'wow'], ['ok', 'multumit', 'prins', 'reducere', 'buna']]\n"
     ]
    }
   ],
   "source": [
    "# 1 f)\n",
    "stop_words = nlp.Defaults.stop_words\n",
    "removed_stopwords_reviews = []\n",
    "\n",
    "for review in tokenized_reviews:\n",
    "    removed_stopwords_reviews.append([word for word in review if word not in stop_words])\n",
    "print(removed_stopwords_reviews[:10])"
   ],
   "metadata": {
    "collapsed": false,
    "pycharm": {
     "name": "#%%\n"
    }
   }
  },
  {
   "cell_type": "code",
   "execution_count": 12,
   "outputs": [
    {
     "name": "stdout",
     "output_type": "stream",
     "text": [
      "[['analiz', 'sang', 'bratar', 'fitness', 'smartwatchur', 'piat', 'pan', 'unuzero', 'lei', 'buget', 'max', 'aloc', 'investit', 'spun', 'pozit', 'reviewur', 'altern', 'apple', 'watch', 'caru', 'bater', 'tin', 'inteles', 'jur', 'jumat', 'ceas', 'pro', 'lam', 'pus', 'incarc', 'patru', 'mentiun', 'douăzec', 'bater', 'mar', 'tinut', 'puls', 'precis', 'testat', 'compar', 'tensiometru', 'apar', 'diferent', 'unudo', 'bata', 'minut', 'pas', 'corect', 'eroar', 'pan', 'maximum', 'stat', 'verif', 'fix', 'fix', 'vad', 'fiind', 'estim', 'alerg', 'inregistreaz', 'trebui', 'exerc', 'leam', 'introdus', 'categor', 'workout', 'sigur', 'celelalt', 'functioneaz', 'ok', 'somn', 'monitorizeaz', 'dest', 'ridic', 'beau', 'apa', 'pan', 'toalet', 'apar', 'awak', 'urmand', 'inregistr', 'somn', 'continu', 'pui', 'pat', 'dorm', 'rezistent', 'apa', 'prelu', 'resping', 'apelur', 'telefon', 'funct', 'util', 'raspuns', 'trebui', 'iei', 'telefon', 'vorbest', 'efect', 'pot', 'raspund', 'mesaj', 'ceas', 'funct', 'android', 'deranjeaz', 'tar', 'intra', 'notificar', 'mesaj', 'apelur', 'dispoz', 'bun', 'clar', 'return', 'aveam', 'gand', 'fac', 'sar', 'ridic', 'inaltim', 'asteptar', 'aveam', 'dispoz', 'recomand'], ['super'], ['produs', 'calitat', 'livr', 'comenz', 'facut', 'intrun', 'scurt'], ['ok', 'suport', 'sta', 'fixat', 'bord', 'masin', 'raport', 'calitat', 'pret', 'bun'], ['avet', 'ceas', 'descarc', 'bater', 'reped', 'douăzecidouăzec', 'trebui', 'facet', 'updat', 'versiun', 'soft', 'doisprezecetreizec', 'facet', 'auto', 'updat', 'manual', 'garmin', 'express', 'putet', 'verif', 'ultim', 'versiun', 'soft', 'momentan', 'doisprezecepatruzec', 'versiun', 'doisprezecepatruzec', 'consum', 'treipatru', 'senzor', 'puls', 'activ'], ['merg', 'recomand'], ['tablet', 'bun', 'original', 'men', 'porn', 'roman', 'multum'], ['lam', 'primit', 'cadou', 'incant', 'smartwatch', 'accesoriu', 'bratar', 'metal', 'aratand', 'man'], ['super', 'box', 'micut', 'inim', 'produc', 'top', 'achizition', 'pret', 'wow'], ['ok', 'multum', 'prins', 'reduc', 'bun']]\n"
     ]
    }
   ],
   "source": [
    "# 1 g) porter better than snowball\n",
    "from nltk.stem.snowball import SnowballStemmer\n",
    "\n",
    "stemmed_reviews = []\n",
    "stemmer = SnowballStemmer(language='romanian')\n",
    "for review in removed_stopwords_reviews:\n",
    "    stemmed_reviews.append([])\n",
    "    for token in review:\n",
    "        stemmed_reviews[-1].append(stemmer.stem(token))\n",
    "print(stemmed_reviews[:10])"
   ],
   "metadata": {
    "collapsed": false,
    "pycharm": {
     "name": "#%%\n"
    }
   }
  },
  {
   "cell_type": "code",
   "execution_count": 30,
   "outputs": [
    {
     "name": "stdout",
     "output_type": "stream",
     "text": [
      "[['analiza', 'sange', 'bratarile', 'fitness', 'smartwatchurile', 'piata', 'pană', 'unuzero', 'leu', 'buget', 'maxim', 'aloca', 'investitie', 'spune', 'pozite', 'reviewuri', 'alternativă', 'apple', 'watch', 'carui', 'baterie', 'tinea', 'inteles', 'jura', 'jumatate', 'ceas', 'pro', 'lam', 'pune', 'incarcat', 'patrua', 'mentiunea', 'douăzeci', 'baterie', 'mar', 'tinut', 'puls', 'precis', 'testa', 'comparativ', 'tensiometru', 'aparut', 'diferente', 'unudoi', 'batai', 'minut', 'pasii', 'corecti', 'eroare', 'pană', 'maximum', 'sta', 'verifica', 'fix', 'fix', 'vad', 'fi', 'estimare', 'alergat', 'inregistreaza', 'trebui', 'exercitiile', 'leam', 'introduce', 'categorie', 'workout', 'sigur', 'celălalt', 'functioneaza', 'ok', 'somn', 'monitorizeaza', 'destul', 'ridica', 'bea', 'apă', 'pană', 'toaletă', 'apărea', 'awake', 'urmand', 'inregistreze', 'somn', 'continuare', 'pune', 'pat', 'dormi', 'rezistent', 'apă', 'prelua', 'respinge', 'apel', 'telefon', 'functie', 'util', 'raspuns', 'trebui', 'lua', 'telefon', 'vorbesti', 'efectiv', 'poti', 'raspunde', 'mesaj', 'ceas', 'functie', 'android', 'deranjeaza', 'tară', 'intra', 'notificari', 'mesaj', 'apel', 'dispozitiv', 'bun', 'clar', 'returna', 'avea', 'gand', 'face', 'sări', 'ridica', 'inaltimea', 'asteptarile', 'avea', 'dispozitiv', 'recomanda'], ['super'], ['produce', 'calitate', 'livrare', 'comandă', 'facuta', 'intrun', 'scurt'], ['ok', 'suport', 'sta', 'fixa', 'bord', 'masinii', 'raport', 'calitate', 'pret', 'bun'], ['aveti', 'ceas', 'descarca', 'baterie', 'repezi', 'douăzecidouăzeci', 'trebui', 'faceti', 'update', 'versiune', 'soft', 'doisprezecetreizeci', 'faceti', 'auto', 'update', 'manual', 'garmin', 'express', 'puteti', 'verifica', 'ultim', 'versiune', 'soft', 'momentan', 'doisprezecepatruzeci', 'versiune', 'doisprezecepatruzeci', 'consuma', 'treipatru', 'senzorul', 'puls', 'activ'], ['merge', 'recomanda'], ['tabletă', 'bună', 'original', 'meniu', 'pornire', 'roman', 'multumit'], ['lam', 'primi', 'cadou', 'incantata', 'smartwatch', 'accesoriu', 'bratara', 'metalic', 'aratand', 'mana'], ['super', 'boxă', 'micuta', 'inimos', 'producator', 'top', 'achizitionata', 'pret', 'wow'], ['ok', 'multumit', 'prinde', 'reducere', 'bună']]\n"
     ]
    }
   ],
   "source": [
    "# 1 h)\n",
    "# we use the nlp defined at exercise e)\n",
    "lemmatized_reviews = []\n",
    "for review in removed_stopwords_reviews:\n",
    "    lemmatized_reviews.append([])\n",
    "    # disabled all others besides lemmatizer so it doesn't take 10 years (anyway we need only the lemmatizer)\n",
    "    for doc in nlp.pipe(review, batch_size=50, disable=['tok2vec', 'tagger', 'parser', 'attribute_ruler', 'ner']):\n",
    "        lemmatized_reviews[-1].append(doc[0].lemma_)\n",
    "print(lemmatized_reviews[:10])"
   ],
   "metadata": {
    "collapsed": false,
    "pycharm": {
     "name": "#%%\n"
    }
   }
  },
  {
   "cell_type": "code",
   "execution_count": 49,
   "outputs": [
    {
     "name": "stdout",
     "output_type": "stream",
     "text": [
      "Word: ata                  difference: 16    stem: ata          lemma: atmosferă_absolută            \n",
      "Word: at                   difference: 15    stem: at           lemma: atmosferă_tehnică             \n",
      "Word: mp                   difference: 12    stem: mp           lemma: metri_pătrați                 \n",
      "Word: compatibilitatea     difference: 10    stem: compat       lemma: compatibilitatea              \n",
      "Word: nemaifiind           difference: 10    stem: nemaifiind   lemma: fi                            \n",
      "Word: extensibilitatea     difference: 10    stem: extens       lemma: extensibilitatea              \n",
      "Word: umidificatorului     difference: 10    stem: umidif       lemma: umidificatorului              \n",
      "Word: senzitivitatea       difference: 10    stem: senz         lemma: senzitivitatea                \n",
      "Word: functionabilitatea   difference: 10    stem: function     lemma: functionabilitatea            \n",
      "Word: responabilitatea     difference: 10    stem: respon       lemma: responabilitatea              \n",
      "Word: nevandabilitatea     difference: 10    stem: nevand       lemma: nevandabilitatea              \n",
      "Word: functionabilitate    difference: 9     stem: function     lemma: functionabilitate             \n",
      "Word: compatibilitate      difference: 9     stem: compat       lemma: compatibilitate               \n",
      "Word: cm                   difference: 9     stem: cm           lemma: centimetru                    \n",
      "Word: accesibilitate       difference: 9     stem: acces        lemma: accesibilitate                \n"
     ]
    }
   ],
   "source": [
    "from collections import defaultdict\n",
    "word_differences = defaultdict(lambda : (0, '', ''))\n",
    "\n",
    "for index_r, review in enumerate(removed_stopwords_reviews):\n",
    "    for index_w, word in enumerate(review):\n",
    "        stemmed_word = stemmed_reviews[index_r][index_w]\n",
    "        lemmatized_word = lemmatized_reviews[index_r][index_w]\n",
    "        min_length = min(len(stemmed_word), len(lemmatized_word))\n",
    "        difference = sum([stemmed_word[i] != lemmatized_word[i] for i in range(min_length)])\n",
    "        difference += max(len(stemmed_word), len(lemmatized_word)) - min_length\n",
    "        # word_differences[word] = (difference + word_differences[word][0], stemmed_word, lemmatized_word)\n",
    "        word_differences[word] = (max(word_differences[word][0], difference), stemmed_word, lemmatized_word)\n",
    "\n",
    "sorted_word_differences = sorted(word_differences.items(), key=lambda word: word[1][0], reverse=True)\n",
    "# print(sorted_word_differences[:15])\n",
    "for data in sorted_word_differences[:15]:\n",
    "    print(f'Word: {data[0]:<20} difference: {data[1][0]:<5} stem: {data[1][1]:<12} lemma: {data[1][2]:<30}')\n",
    "\n",
    "# The output if we considered the commented formula(basically adding every occurrence of difference between words\n",
    "# Word: bateria              difference: 3876  stem: bater        lemma: baterie\n",
    "# Word: produs               difference: 3704  stem: produs       lemma: produce\n",
    "# Word: recomand             difference: 2992  stem: recomand     lemma: recomanda\n",
    "# Word: aude                 difference: 2732  stem: aud          lemma: auzi\n",
    "# Word: incarcare            difference: 2202  stem: incarc       lemma: incarcare\n",
    "# Word: destul               difference: 2072  stem: dest         lemma: destul\n",
    "# Word: multumit             difference: 1902  stem: multum       lemma: multumit\n",
    "# Word: incarca              difference: 1887  stem: incarc       lemma: incarca\n",
    "# Word: baterie              difference: 1740  stem: bater        lemma: baterie\n",
    "# Word: cumparat             difference: 1714  stem: cumpar       lemma: cumparat\n",
    "# Word: pare                 difference: 1713  stem: par          lemma: părea\n",
    "# Word: calitate             difference: 1688  stem: calitat      lemma: calitate\n",
    "# Word: etc                  difference: 1673  stem: etc          lemma: et_cetera\n",
    "# Word: proasta              difference: 1626  stem: proast       lemma: prost"
   ],
   "metadata": {
    "collapsed": false,
    "pycharm": {
     "name": "#%%\n"
    }
   }
  },
  {
   "cell_type": "code",
   "execution_count": 55,
   "outputs": [
    {
     "name": "stdout",
     "output_type": "stream",
     "text": [
      "[('admir', 'frumusetile', 'romaniei'), ('angry', 'birds', 'racing'), ('apregiez', 'thumbsupemag', 'aztazi'), ('arm', 'cortex', 'mzero'), ('autoturismul', 'honda', 'civic'), ('avizul', 'comisiei', 'europene'), ('browserfacebook', 'tweeeter', 'wattsup'), ('cia', 'fbi', 'kgt'), ('cincisprezecemin', 'browserfacebook', 'tweeeter'), ('contacts', 'crashes', 'freezes'), ('cortex', 'mzero', 'nordic'), ('cpu', 'arm', 'cortex'), ('cunoasterea', 'limbii', 'engleze'), ('custii', 'faraday', 'repeaterul'), ('doesnt', 'immediately', 'pairs'), ('english', 'skills', 'required'), ('frumusetile', 'romaniei', 'ingrijorarea'), ('funga', 'eventualii', 'infractori'), ('imbunatatiti', 'reactualizati', 'obtiune'), ('implinire', 'jurist', 'gratiela')]\n"
     ]
    }
   ],
   "source": [
    "# 1 i)\n",
    "from nltk.collocations import TrigramCollocationFinder, TrigramAssocMeasures\n",
    "\n",
    "all_reviews_words = [word for review in tokenized_reviews for word in review]\n",
    "\n",
    "trigram_finder = TrigramCollocationFinder.from_words(all_reviews_words)\n",
    "trigram_measurer = TrigramAssocMeasures()\n",
    "\n",
    "trigram_results = trigram_finder.nbest(trigram_measurer.pmi, 20)\n",
    "# trigram_results = trigram_finder.nbest(trigram_measurer.raw_freq, 20)\n",
    "print(trigram_results)\n",
    "\n",
    "# If we use the raw_freq method of evaluation\n",
    "# [('se', 'aude', 'foarte'), ('mai', 'mult', 'de'), ('sunt', 'foarte', 'multumit'),\n",
    "# ('isi', 'face', 'treaba'), ('nu', 'se', 'mai'), ('foarte', 'multumit', 'de'), ('la', 'o', 'sută'),\n",
    "# ('am', 'reusit', 'sa'), ('recomand', 'cu', 'incredere'), ('mai', 'mult', 'decat'), ('se', 'aude', 'bine'),\n",
    "# ('de', 'la', 'emag'), ('nu', 'se', 'poate'), ('mi', 'se', 'pare'), ('nu', 'recomand', 'nu'),\n",
    "# ('este', 'un', 'produs'), ('pur', 'si', 'simplu'), ('si', 'nu', 'se'), ('este', 'destul', 'de'), ('aude', 'foarte', 'bine')]"
   ],
   "metadata": {
    "collapsed": false,
    "pycharm": {
     "name": "#%%\n"
    }
   }
  },
  {
   "cell_type": "code",
   "execution_count": 77,
   "outputs": [],
   "source": [
    "# 2.\n",
    "import matplotlib.pyplot as plt\n",
    "N = 40\n",
    "\n",
    "frequency_tokenized = defaultdict(lambda: 0)\n",
    "frequency_stemmed = defaultdict(lambda: 0)\n",
    "for review in tokenized_reviews:\n",
    "    for word in review:\n",
    "        frequency_tokenized[word] += 1\n",
    "for review in stemmed_reviews:\n",
    "    for word in review:\n",
    "        frequency_stemmed[word] += 1\n",
    "\n",
    "sorted_frequency_tokenized = sorted(frequency_tokenized.items(), key=lambda word: word[1], reverse=True)\n",
    "sorted_frequency_stemmed = sorted(frequency_stemmed.items(), key=lambda word: word[1], reverse=True)\n",
    "\n"
   ],
   "metadata": {
    "collapsed": false,
    "pycharm": {
     "name": "#%%\n"
    }
   }
  },
  {
   "cell_type": "code",
   "execution_count": 78,
   "outputs": [
    {
     "data": {
      "text/plain": "<Figure size 1800x720 with 1 Axes>",
      "image/png": "[encoded data removed]"
     },
     "metadata": {
      "needs_background": "light"
     },
     "output_type": "display_data"
    }
   ],
   "source": [
    "N = 40\n",
    "plt.figure(figsize=(25, 10))\n",
    "plt.bar(list(map(lambda el: el[0], sorted_frequency_tokenized[:N])), list(map(lambda el: el[1], sorted_frequency_tokenized[:N])), orientation='vertical')\n",
    "plt.show()\n"
   ],
   "metadata": {
    "collapsed": false,
    "pycharm": {
     "name": "#%%\n"
    }
   }
  },
  {
   "cell_type": "code",
   "execution_count": 79,
   "outputs": [
    {
     "data": {
      "text/plain": "<Figure size 1800x720 with 1 Axes>",
      "image/png": "[encoded data removed]"
     },
     "metadata": {
      "needs_background": "light"
     },
     "output_type": "display_data"
    }
   ],
   "source": [
    "N = 40\n",
    "plt.figure(figsize=(25, 10))\n",
    "plt.bar(list(map(lambda el: el[0], sorted_frequency_stemmed[:N])), list(map(lambda el: el[1], sorted_frequency_stemmed[:N])), orientation='vertical')\n",
    "plt.show()"
   ],
   "metadata": {
    "collapsed": false,
    "pycharm": {
     "name": "#%%\n"
    }
   }
  },
  {
   "cell_type": "markdown",
   "source": [
    "### Se poate observa ca frecventele de stopwords iau primele 30+ locuri de frecventa, deoarece in frecventa care le include top 30+ nu se pooate regasi in cea de-a doua plotare care exclude stopwords, deci am putea spune ca scoaterea stopwords-urilor reduce numarul de date destul de mult dar in acelasi timp pierdem probabil destul de putin continut, deoarece stopwords nu cred ca au o importanta asa mare in invatare"
   ],
   "metadata": {
    "collapsed": false
   }
  },
  {
   "cell_type": "code",
   "execution_count": null,
   "outputs": [],
   "source": [
    "# 3.\n",
    "\n"
   ],
   "metadata": {
    "collapsed": false,
    "pycharm": {
     "name": "#%%\n"
    }
   }
  }
 ],
 "metadata": {
  "kernelspec": {
   "display_name": "Python 3",
   "language": "python",
   "name": "python3"
  },
  "language_info": {
   "codemirror_mode": {
    "name": "ipython",
    "version": 2
   },
   "file_extension": ".py",
   "mimetype": "text/x-python",
   "name": "python",
   "nbconvert_exporter": "python",
   "pygments_lexer": "ipython2",
   "version": "2.7.6"
  }
 },
 "nbformat": 4,
 "nbformat_minor": 0
}