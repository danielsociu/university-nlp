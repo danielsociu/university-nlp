{
 "cells": [
  {
   "cell_type": "markdown",
   "metadata": {
    "id": "-X1jyzr2-0CU"
   },
   "source": [
    "## Lab 2. Text Normalization (cleaning)"
   ]
  },
  {
   "cell_type": "markdown",
   "metadata": {
    "id": "7N56fAnP_Y5q"
   },
   "source": [
    "În funcție de task-ul pe care îl avem de realizat, putem alege una sau mai multe modalități de curățare a textului:\n",
    "- Transformarea textului în litere mici\n",
    "- Eliminarea cifrelor și numerelor (sau transformarea lor în cuvinte)\n",
    "- Eliminarea link-urilor\n",
    "- Eliminarea emoticoanelor ( :) :D) și a emoji-urilor (💙 🐱)\n",
    "- Eliminarea punctuației\n",
    "- Eliminarea stopwords\n",
    "- Stemming/Lematizare\n",
    "- Tokenizare"
   ]
  },
  {
   "cell_type": "markdown",
   "metadata": {
    "id": "MB3R1dTTAxfH"
   },
   "source": [
    "Vom folosi setul de date `twitter_samples` din `nltk` (https://www.nltk.org/), care conține tweeturi pozitive și negative. Vom folosi mai departe doar tweeturile pozitive.\n",
    "\n"
   ]
  },
  {
   "cell_type": "code",
   "execution_count": 1,
   "metadata": {
    "colab": {
     "base_uri": "https://localhost:8080/"
    },
    "id": "D9IhXFIGB0DT",
    "outputId": "0d38ec86-dc1e-49c5-ec9e-d497b9d32776"
   },
   "outputs": [
    {
     "name": "stderr",
     "output_type": "stream",
     "text": [
      "[nltk_data] Downloading package twitter_samples to\n",
      "[nltk_data]     /home/alhiris/nltk_data...\n",
      "[nltk_data]   Unzipping corpora/twitter_samples.zip.\n"
     ]
    },
    {
     "data": {
      "text/plain": "True"
     },
     "execution_count": 1,
     "metadata": {},
     "output_type": "execute_result"
    }
   ],
   "source": [
    "import nltk\n",
    "nltk.download('twitter_samples')"
   ]
  },
  {
   "cell_type": "code",
   "execution_count": 2,
   "metadata": {
    "colab": {
     "base_uri": "https://localhost:8080/"
    },
    "id": "sf12x8hR-fJH",
    "outputId": "4a924129-ce1f-452b-e69a-98b184ec0acc"
   },
   "outputs": [
    {
     "data": {
      "text/plain": "['Dang that is some rad @AbzuGame #fanart! :D https://t.co/bI8k8tb9ht',\n '@HardcoreGooners @tashagunners @kirstyburns3 @aprilburton21 @liztc2 @Miss_Boots1 @zannatur @NativeNoddy @NatG_22 @Ms_T_P CHEERS #TGIF :-)',\n 'Massive congrats to Niamh Fennell here :)  Journalism Graduate Lands Dream Job Copying &amp; Pasting Tweets http://t.co/3db8Bj5trk',\n '@ice_crystal @Elbow @MeatBingo @govindajeggy Thank you! :)',\n 'Stats for the day have arrived. 5 new followers and NO unfollowers :) via http://t.co/KfqcXZSVOT.',\n '@mrkennyt90 Yesss I am thank you :D',\n 'I have Ariana grande Selena Gomez Louis tomlinson Rita  Liam Payne \\nCaradelevingne 🌷I trade solo dm :)',\n '@DomSequitur tired. But fine :) you??',\n '@ohvdqohcdjroc Nope you can definitely still apply for this year if you want to :D #iamCA',\n '@ashleylynch @wetsprocket Ah, found it, thanks :)',\n '@BOYFI_MW aftie :p',\n 'Goodmorning :)',\n '@AnneMOrbs  follow @jnlazts &amp; http://t.co/RCvcYYO0Iq follow u back :)',\n '@bjoernknafla @s_whiteant that’s EXACTLY the look I’m going for :D',\n '#ProKabaddi Koel Mallick @YourKoel recites the \"National Anthem\" for @StarSportsIndia On Day-6!!:) http://t.co/ORqau4PvVz',\n '#YourNaturalLeaders and #YoungNaturalLeaders\\nMon27July #Cumbria UK :) @yournaturallead \\n\\n&amp; #Flockstars Thur30July ITV\\nhttp://t.co/lYxDIByo2o',\n 'For most of you it is #GoodMorning but for me it is #GoodNight...\\n#sleeptight for me and #haveagoodday for you!  :)',\n 'Only one leg on September. So perhaps BB will promote the full album on September :D\\nhttp://t.co/ZV1HdZB7Nm',\n 'I still fully intend to write as many game designs as possible while there. And an attack plan for the next 6 months. &gt;:D',\n 'To all the birds out there, come here and join us for a little fun :) #teamAdmicro http://t.co/35EZmlW16u']"
     },
     "execution_count": 2,
     "metadata": {},
     "output_type": "execute_result"
    }
   ],
   "source": [
    "from nltk.corpus  import twitter_samples\n",
    "tweets = twitter_samples.strings('positive_tweets.json')\n",
    "tweets = tweets[500:520]\n",
    "tweets"
   ]
  },
  {
   "cell_type": "markdown",
   "metadata": {
    "id": "ssjEnSunB6M-"
   },
   "source": [
    "### Transformarea textului în litere mici"
   ]
  },
  {
   "cell_type": "code",
   "execution_count": 3,
   "metadata": {
    "colab": {
     "base_uri": "https://localhost:8080/"
    },
    "id": "Pb1BgZksCvof",
    "outputId": "1477de8c-73ce-47d0-d120-7d2dbddcea9e"
   },
   "outputs": [
    {
     "data": {
      "text/plain": "['dang that is some rad @abzugame #fanart! :d https://t.co/bi8k8tb9ht',\n '@hardcoregooners @tashagunners @kirstyburns3 @aprilburton21 @liztc2 @miss_boots1 @zannatur @nativenoddy @natg_22 @ms_t_p cheers #tgif :-)',\n 'massive congrats to niamh fennell here :)  journalism graduate lands dream job copying &amp; pasting tweets http://t.co/3db8bj5trk',\n '@ice_crystal @elbow @meatbingo @govindajeggy thank you! :)',\n 'stats for the day have arrived. 5 new followers and no unfollowers :) via http://t.co/kfqcxzsvot.',\n '@mrkennyt90 yesss i am thank you :d',\n 'i have ariana grande selena gomez louis tomlinson rita  liam payne \\ncaradelevingne 🌷i trade solo dm :)',\n '@domsequitur tired. but fine :) you??',\n '@ohvdqohcdjroc nope you can definitely still apply for this year if you want to :d #iamca',\n '@ashleylynch @wetsprocket ah, found it, thanks :)',\n '@boyfi_mw aftie :p',\n 'goodmorning :)',\n '@annemorbs  follow @jnlazts &amp; http://t.co/rcvcyyo0iq follow u back :)',\n '@bjoernknafla @s_whiteant that’s exactly the look i’m going for :d',\n '#prokabaddi koel mallick @yourkoel recites the \"national anthem\" for @starsportsindia on day-6!!:) http://t.co/orqau4pvvz',\n '#yournaturalleaders and #youngnaturalleaders\\nmon27july #cumbria uk :) @yournaturallead \\n\\n&amp; #flockstars thur30july itv\\nhttp://t.co/lyxdibyo2o',\n 'for most of you it is #goodmorning but for me it is #goodnight...\\n#sleeptight for me and #haveagoodday for you!  :)',\n 'only one leg on september. so perhaps bb will promote the full album on september :d\\nhttp://t.co/zv1hdzb7nm',\n 'i still fully intend to write as many game designs as possible while there. and an attack plan for the next 6 months. &gt;:d',\n 'to all the birds out there, come here and join us for a little fun :) #teamadmicro http://t.co/35ezmlw16u']"
     },
     "execution_count": 3,
     "metadata": {},
     "output_type": "execute_result"
    }
   ],
   "source": [
    "tweets_lower = [tweet.lower() for tweet in tweets]\n",
    "tweets_lower"
   ]
  },
  {
   "cell_type": "markdown",
   "metadata": {
    "id": "N7XWK416Cuv5"
   },
   "source": [
    "### Eliminarea cifrelor și numerelor (sau transformarea lor în cuvinte)"
   ]
  },
  {
   "cell_type": "markdown",
   "metadata": {
    "id": "XDcI3R7fD-ys"
   },
   "source": [
    "Eliminarea cifrelor folosind regex `re`"
   ]
  },
  {
   "cell_type": "code",
   "execution_count": 4,
   "metadata": {
    "colab": {
     "base_uri": "https://localhost:8080/"
    },
    "id": "u8TXNqflDN5O",
    "outputId": "21e60d89-8e95-49ab-bb6e-0b52345e7c4b"
   },
   "outputs": [
    {
     "data": {
      "text/plain": "['dang that is some rad @abzugame #fanart! :d https://t.co/biktbht',\n '@hardcoregooners @tashagunners @kirstyburns @aprilburton @liztc @miss_boots @zannatur @nativenoddy @natg_ @ms_t_p cheers #tgif :-)',\n 'massive congrats to niamh fennell here :)  journalism graduate lands dream job copying &amp; pasting tweets http://t.co/dbbjtrk',\n '@ice_crystal @elbow @meatbingo @govindajeggy thank you! :)',\n 'stats for the day have arrived.  new followers and no unfollowers :) via http://t.co/kfqcxzsvot.',\n '@mrkennyt yesss i am thank you :d',\n 'i have ariana grande selena gomez louis tomlinson rita  liam payne \\ncaradelevingne 🌷i trade solo dm :)',\n '@domsequitur tired. but fine :) you??',\n '@ohvdqohcdjroc nope you can definitely still apply for this year if you want to :d #iamca',\n '@ashleylynch @wetsprocket ah, found it, thanks :)',\n '@boyfi_mw aftie :p',\n 'goodmorning :)',\n '@annemorbs  follow @jnlazts &amp; http://t.co/rcvcyyoiq follow u back :)',\n '@bjoernknafla @s_whiteant that’s exactly the look i’m going for :d',\n '#prokabaddi koel mallick @yourkoel recites the \"national anthem\" for @starsportsindia on day-!!:) http://t.co/orqaupvvz',\n '#yournaturalleaders and #youngnaturalleaders\\nmonjuly #cumbria uk :) @yournaturallead \\n\\n&amp; #flockstars thurjuly itv\\nhttp://t.co/lyxdibyoo',\n 'for most of you it is #goodmorning but for me it is #goodnight...\\n#sleeptight for me and #haveagoodday for you!  :)',\n 'only one leg on september. so perhaps bb will promote the full album on september :d\\nhttp://t.co/zvhdzbnm',\n 'i still fully intend to write as many game designs as possible while there. and an attack plan for the next  months. &gt;:d',\n 'to all the birds out there, come here and join us for a little fun :) #teamadmicro http://t.co/ezmlwu']"
     },
     "execution_count": 4,
     "metadata": {},
     "output_type": "execute_result"
    }
   ],
   "source": [
    "import re\n",
    "\n",
    "tweets_no_digits = [re.sub(r'\\d+', '', tweet) for tweet in tweets_lower]\n",
    "tweets_no_digits"
   ]
  },
  {
   "cell_type": "markdown",
   "metadata": {
    "id": "zvGx46VNEqfg"
   },
   "source": [
    "Convertirea cifrelor în numere folosind `num2words`"
   ]
  },
  {
   "cell_type": "code",
   "execution_count": null,
   "metadata": {
    "id": "ls6HyuBnEOxP"
   },
   "outputs": [],
   "source": [
    "# ! pip install num2words"
   ]
  },
  {
   "cell_type": "code",
   "execution_count": 5,
   "metadata": {
    "colab": {
     "base_uri": "https://localhost:8080/"
    },
    "id": "JDnBiJAHE1Y-",
    "outputId": "ba7d80e8-ff01-4c23-f4ef-cdf71ab9fe1b"
   },
   "outputs": [
    {
     "data": {
      "text/plain": "['dang that is some rad @abzugame #fanart! :d https://t.co/bi8k8tb9ht',\n '@hardcoregooners @tashagunners @kirstyburns3 @aprilburton21 @liztc2 @miss_boots1 @zannatur @nativenoddy @natg_22 @ms_t_p cheers #tgif :-)',\n 'massive congrats to niamh fennell here :) journalism graduate lands dream job copying &amp; pasting tweets http://t.co/3db8bj5trk',\n '@ice_crystal @elbow @meatbingo @govindajeggy thank you! :)',\n 'stats for the day have arrived. five new followers and no unfollowers :) via http://t.co/kfqcxzsvot.',\n '@mrkennyt90 yesss i am thank you :d',\n 'i have ariana grande selena gomez louis tomlinson rita liam payne caradelevingne 🌷i trade solo dm :)',\n '@domsequitur tired. but fine :) you??',\n '@ohvdqohcdjroc nope you can definitely still apply for this year if you want to :d #iamca',\n '@ashleylynch @wetsprocket ah, found it, thanks :)',\n '@boyfi_mw aftie :p',\n 'goodmorning :)',\n '@annemorbs follow @jnlazts &amp; http://t.co/rcvcyyo0iq follow u back :)',\n '@bjoernknafla @s_whiteant that’s exactly the look i’m going for :d',\n '#prokabaddi koel mallick @yourkoel recites the \"national anthem\" for @starsportsindia on day-6!!:) http://t.co/orqau4pvvz',\n '#yournaturalleaders and #youngnaturalleaders mon27july #cumbria uk :) @yournaturallead &amp; #flockstars thur30july itv http://t.co/lyxdibyo2o',\n 'for most of you it is #goodmorning but for me it is #goodnight... #sleeptight for me and #haveagoodday for you! :)',\n 'only one leg on september. so perhaps bb will promote the full album on september :d http://t.co/zv1hdzb7nm',\n 'i still fully intend to write as many game designs as possible while there. and an attack plan for the next six months. &gt;:d',\n 'to all the birds out there, come here and join us for a little fun :) #teamadmicro http://t.co/35ezmlw16u']"
     },
     "execution_count": 5,
     "metadata": {},
     "output_type": "execute_result"
    }
   ],
   "source": [
    "from num2words import num2words\n",
    "\n",
    "tweets_num2words = []\n",
    "for tweet in tweets_lower:\n",
    "    tweets_num2words.append(' '.join([num2words(word) if word.isdigit() else word for word in tweet.split()]))\n",
    "\n",
    "tweets_num2words"
   ]
  },
  {
   "cell_type": "markdown",
   "metadata": {
    "id": "Wh-Y021CI2uJ"
   },
   "source": [
    "### Eliminarea link-urilor"
   ]
  },
  {
   "cell_type": "code",
   "execution_count": 6,
   "metadata": {
    "colab": {
     "base_uri": "https://localhost:8080/"
    },
    "id": "inao55xqFz21",
    "outputId": "e51ac15c-2db2-4210-8f8c-4b6e06f63ee0"
   },
   "outputs": [
    {
     "data": {
      "text/plain": "['dang that is some rad @abzugame #fanart! :d ',\n '@hardcoregooners @tashagunners @kirstyburns @aprilburton @liztc @miss_boots @zannatur @nativenoddy @natg_ @ms_t_p cheers #tgif :-)',\n 'massive congrats to niamh fennell here :)  journalism graduate lands dream job copying &amp; pasting tweets ',\n '@ice_crystal @elbow @meatbingo @govindajeggy thank you! :)',\n 'stats for the day have arrived.  new followers and no unfollowers :) via ',\n '@mrkennyt yesss i am thank you :d',\n 'i have ariana grande selena gomez louis tomlinson rita  liam payne \\ncaradelevingne 🌷i trade solo dm :)',\n '@domsequitur tired. but fine :) you??',\n '@ohvdqohcdjroc nope you can definitely still apply for this year if you want to :d #iamca',\n '@ashleylynch @wetsprocket ah, found it, thanks :)',\n '@boyfi_mw aftie :p',\n 'goodmorning :)',\n '@annemorbs  follow @jnlazts &amp;  follow u back :)',\n '@bjoernknafla @s_whiteant that’s exactly the look i’m going for :d',\n '#prokabaddi koel mallick @yourkoel recites the \"national anthem\" for @starsportsindia on day-!!:) ',\n '#yournaturalleaders and #youngnaturalleaders\\nmonjuly #cumbria uk :) @yournaturallead \\n\\n&amp; #flockstars thurjuly itv\\n',\n 'for most of you it is #goodmorning but for me it is #goodnight...\\n#sleeptight for me and #haveagoodday for you!  :)',\n 'only one leg on september. so perhaps bb will promote the full album on september :d\\n',\n 'i still fully intend to write as many game designs as possible while there. and an attack plan for the next  months. &gt;:d',\n 'to all the birds out there, come here and join us for a little fun :) #teamadmicro ']"
     },
     "execution_count": 6,
     "metadata": {},
     "output_type": "execute_result"
    }
   ],
   "source": [
    "tweets_no_links = [re.sub(r'http\\S+', '', tweet) for tweet in tweets_no_digits]\n",
    "tweets_no_links"
   ]
  },
  {
   "cell_type": "markdown",
   "metadata": {
    "id": "jh64SAwgJWWC"
   },
   "source": [
    "### Eliminarea emoticoanelor ( :) :D) și a emoji-urilor (💙 🐱)"
   ]
  },
  {
   "cell_type": "markdown",
   "metadata": {
    "id": "xaviYAToJkYQ"
   },
   "source": [
    "Eliminarea emoticoanelor folosind regexul din [ nltk Twitter Tokenizer](https://github.com/nltk/nltk/blob/develop/nltk/tokenize/casual.py)"
   ]
  },
  {
   "cell_type": "code",
   "execution_count": 7,
   "metadata": {
    "colab": {
     "base_uri": "https://localhost:8080/"
    },
    "id": "x8_oVbzhJNnx",
    "outputId": "71e88e9a-c7d8-4e74-b050-b3538ac081f4"
   },
   "outputs": [
    {
     "data": {
      "text/plain": "['dang that is some rad @abzugame #fanart!  ',\n '@hardcoregooners @tashagunners @kirstyburns @aprilburton @liztc @miss_boots @zannatur @nativenoddy @natg_ @ms_t_p cheers #tgif ',\n 'massive congrats to niamh fennell here   journalism graduate lands dream job copying &am pasting tweets ',\n '@ice_crystal @elbow @meatbingo @govindajeggy thank you! ',\n 'stats for the day have arrived.  new followers and no unfollowers  via ',\n '@mrkennyt yesss i am thank you ',\n 'i have ariana grande selena gomez louis tomlinson rita  liam payne \\ncaradelevingne 🌷i trade solo dm ',\n '@domsequitur tired. but fine  you??',\n '@ohvdqohcdjroc nope you can definitely still apply for this year if you want to  #iamca',\n '@ashleylynch @wetsprocket ah, found it, thanks ',\n '@boyfi_mw aftie ',\n 'goodmorning ',\n '@annemorbs  follow @jnlazts &am  follow u back ',\n '@bjoernknafla @s_whiteant that’s exactly the look i’m going for ',\n '#prokabaddi koel mallick @yourkoel recites the \"national anthem\" for @starsportsindia on day-!! ',\n '#yournaturalleaders and #youngnaturalleaders\\nmonjuly #cumbria uk  @yournaturallead \\n\\n&am #flockstars thurjuly itv\\n',\n 'for most of you it is #goodmorning but for me it is #goodnight...\\n#sleeptight for me and #haveagoodday for you!  ',\n 'only one leg on september. so perhaps bb will promote the full album on september \\n',\n 'i still fully intend to write as many game designs as possible while there. and an attack plan for the next  months. &gtd',\n 'to all the birds out there, come here and join us for a little fun  #teamadmicro ']"
     },
     "execution_count": 7,
     "metadata": {},
     "output_type": "execute_result"
    }
   ],
   "source": [
    "emoticon_string = r\"\"\"\n",
    "    (?:\n",
    "      [<>]?\n",
    "      [:;=8]                     # eyes\n",
    "      [\\-o\\*\\']?                 # optional nose\n",
    "      [\\)\\]\\(\\[dDpP/\\:\\}\\{@\\|\\\\] # mouth\n",
    "      |\n",
    "      [\\)\\]\\(\\[dDpP/\\:\\}\\{@\\|\\\\] # mouth\n",
    "      [\\-o\\*\\']?                 # optional nose\n",
    "      [:;=8]                     # eyes\n",
    "      [<>]?\n",
    "      |\n",
    "      </?3                       # heart\n",
    "    )\"\"\"\n",
    "    \n",
    "emoticon_re = re.compile(emoticon_string, re.VERBOSE | re.I | re.UNICODE)\n",
    "tweets_no_emoticons = [re.sub(emoticon_re, '', tweet) for tweet in tweets_no_links]\n",
    "tweets_no_emoticons"
   ]
  },
  {
   "cell_type": "markdown",
   "metadata": {
    "id": "gnBMWrqZKJqz"
   },
   "source": [
    "Eliminarea emoji-urilor folosind `emoji` [library](https://github.com/carpedm20/emoji)"
   ]
  },
  {
   "cell_type": "code",
   "execution_count": null,
   "metadata": {
    "id": "s6t2BEfIKFSU"
   },
   "outputs": [],
   "source": [
    "# ! pip install emoji"
   ]
  },
  {
   "cell_type": "markdown",
   "metadata": {
    "id": "xhnQ2Q4NKVs0"
   },
   "source": [
    "`get_emoji_regexp()` returnează un regex care cuprinde toate emoji-urile."
   ]
  },
  {
   "cell_type": "code",
   "execution_count": 8,
   "metadata": {
    "colab": {
     "base_uri": "https://localhost:8080/"
    },
    "id": "o7uDKw1kKjyD",
    "outputId": "f54b74f3-f5fc-40e0-f53c-be17ea478425"
   },
   "outputs": [
    {
     "data": {
      "text/plain": "['dang that is some rad @abzugame #fanart!  ',\n '@hardcoregooners @tashagunners @kirstyburns @aprilburton @liztc @miss_boots @zannatur @nativenoddy @natg_ @ms_t_p cheers #tgif ',\n 'massive congrats to niamh fennell here   journalism graduate lands dream job copying &am pasting tweets ',\n '@ice_crystal @elbow @meatbingo @govindajeggy thank you! ',\n 'stats for the day have arrived.  new followers and no unfollowers  via ',\n '@mrkennyt yesss i am thank you ',\n 'i have ariana grande selena gomez louis tomlinson rita  liam payne \\ncaradelevingne i trade solo dm ',\n '@domsequitur tired. but fine  you??',\n '@ohvdqohcdjroc nope you can definitely still apply for this year if you want to  #iamca',\n '@ashleylynch @wetsprocket ah, found it, thanks ',\n '@boyfi_mw aftie ',\n 'goodmorning ',\n '@annemorbs  follow @jnlazts &am  follow u back ',\n '@bjoernknafla @s_whiteant that’s exactly the look i’m going for ',\n '#prokabaddi koel mallick @yourkoel recites the \"national anthem\" for @starsportsindia on day-!! ',\n '#yournaturalleaders and #youngnaturalleaders\\nmonjuly #cumbria uk  @yournaturallead \\n\\n&am #flockstars thurjuly itv\\n',\n 'for most of you it is #goodmorning but for me it is #goodnight...\\n#sleeptight for me and #haveagoodday for you!  ',\n 'only one leg on september. so perhaps bb will promote the full album on september \\n',\n 'i still fully intend to write as many game designs as possible while there. and an attack plan for the next  months. &gtd',\n 'to all the birds out there, come here and join us for a little fun  #teamadmicro ']"
     },
     "execution_count": 8,
     "metadata": {},
     "output_type": "execute_result"
    }
   ],
   "source": [
    "import emoji\n",
    "\n",
    "emoji_re = emoji.get_emoji_regexp()\n",
    "\n",
    "tweets_no_emoji = [re.sub(emoji_re,'', tweet) for tweet in tweets_no_emoticons]\n",
    "tweets_no_emoji"
   ]
  },
  {
   "cell_type": "markdown",
   "metadata": {
    "id": "Jdin258uOTnl"
   },
   "source": [
    "### Eliminarea hashtag-urilor și a mențiunilor"
   ]
  },
  {
   "cell_type": "code",
   "execution_count": 10,
   "metadata": {
    "colab": {
     "base_uri": "https://localhost:8080/"
    },
    "id": "tFwfk66HOYid",
    "outputId": "6c2076e4-addd-4d82-cf10-b7deba18ef44"
   },
   "outputs": [
    {
     "data": {
      "text/plain": "['dang that is some rad @abzugame !  ',\n '@hardcoregooners @tashagunners @kirstyburns @aprilburton @liztc @miss_boots @zannatur @nativenoddy @natg_ @ms_t_p cheers  ',\n 'massive congrats to niamh fennell here   journalism graduate lands dream job copying &am pasting tweets ',\n '@ice_crystal @elbow @meatbingo @govindajeggy thank you! ',\n 'stats for the day have arrived.  new followers and no unfollowers  via ',\n '@mrkennyt yesss i am thank you ',\n 'i have ariana grande selena gomez louis tomlinson rita  liam payne \\ncaradelevingne i trade solo dm ',\n '@domsequitur tired. but fine  you??',\n '@ohvdqohcdjroc nope you can definitely still apply for this year if you want to  ',\n '@ashleylynch @wetsprocket ah, found it, thanks ',\n '@boyfi_mw aftie ',\n 'goodmorning ',\n '@annemorbs  follow @jnlazts &am  follow u back ',\n '@bjoernknafla @s_whiteant that’s exactly the look i’m going for ',\n ' koel mallick @yourkoel recites the \"national anthem\" for @starsportsindia on day-!! ',\n ' and \\nmonjuly  uk  @yournaturallead \\n\\n&am  thurjuly itv\\n',\n 'for most of you it is  but for me it is ...\\n for me and  for you!  ',\n 'only one leg on september. so perhaps bb will promote the full album on september \\n',\n 'i still fully intend to write as many game designs as possible while there. and an attack plan for the next  months. &gtd',\n 'to all the birds out there, come here and join us for a little fun   ']"
     },
     "execution_count": 10,
     "metadata": {},
     "output_type": "execute_result"
    }
   ],
   "source": [
    "tweets_no_hashtags = [re.sub(r'#[a-zA-Z0-9_]+','', tweet) for tweet in tweets_no_emoji]\n",
    "tweets_no_hashtags"
   ]
  },
  {
   "cell_type": "code",
   "execution_count": 11,
   "metadata": {
    "colab": {
     "base_uri": "https://localhost:8080/"
    },
    "id": "3zHnOHf2PSWQ",
    "outputId": "210fa440-f433-4b9d-8e67-9167653d47e4"
   },
   "outputs": [
    {
     "data": {
      "text/plain": "['dang that is some rad  !  ',\n '          cheers  ',\n 'massive congrats to niamh fennell here   journalism graduate lands dream job copying &am pasting tweets ',\n '    thank you! ',\n 'stats for the day have arrived.  new followers and no unfollowers  via ',\n ' yesss i am thank you ',\n 'i have ariana grande selena gomez louis tomlinson rita  liam payne \\ncaradelevingne i trade solo dm ',\n ' tired. but fine  you??',\n ' nope you can definitely still apply for this year if you want to  ',\n '  ah, found it, thanks ',\n ' aftie ',\n 'goodmorning ',\n '  follow  &am  follow u back ',\n '  that’s exactly the look i’m going for ',\n ' koel mallick  recites the \"national anthem\" for  on day-!! ',\n ' and \\nmonjuly  uk   \\n\\n&am  thurjuly itv\\n',\n 'for most of you it is  but for me it is ...\\n for me and  for you!  ',\n 'only one leg on september. so perhaps bb will promote the full album on september \\n',\n 'i still fully intend to write as many game designs as possible while there. and an attack plan for the next  months. &gtd',\n 'to all the birds out there, come here and join us for a little fun   ']"
     },
     "execution_count": 11,
     "metadata": {},
     "output_type": "execute_result"
    }
   ],
   "source": [
    "tweets_no_mentions = [re.sub(r'@[a-zA-Z0-9_]+','', tweet) for tweet in tweets_no_hashtags]\n",
    "tweets_no_mentions"
   ]
  },
  {
   "cell_type": "markdown",
   "metadata": {
    "id": "aNCIM801Pd5s"
   },
   "source": [
    "Eliminăm spațiile multiple dintre cuvinte"
   ]
  },
  {
   "cell_type": "code",
   "execution_count": 12,
   "metadata": {
    "colab": {
     "base_uri": "https://localhost:8080/"
    },
    "id": "rghP6xOoPlOv",
    "outputId": "806d14b4-aa04-4540-ec8d-456b1bbb207e"
   },
   "outputs": [
    {
     "data": {
      "text/plain": "['dang that is some rad !',\n 'cheers',\n 'massive congrats to niamh fennell here journalism graduate lands dream job copying &am pasting tweets',\n 'thank you!',\n 'stats for the day have arrived. new followers and no unfollowers via',\n 'yesss i am thank you',\n 'i have ariana grande selena gomez louis tomlinson rita liam payne caradelevingne i trade solo dm',\n 'tired. but fine you??',\n 'nope you can definitely still apply for this year if you want to',\n 'ah, found it, thanks',\n 'aftie',\n 'goodmorning',\n 'follow &am follow u back',\n 'that’s exactly the look i’m going for',\n 'koel mallick recites the \"national anthem\" for on day-!!',\n 'and monjuly uk &am thurjuly itv',\n 'for most of you it is but for me it is ... for me and for you!',\n 'only one leg on september. so perhaps bb will promote the full album on september',\n 'i still fully intend to write as many game designs as possible while there. and an attack plan for the next months. &gtd',\n 'to all the birds out there, come here and join us for a little fun']"
     },
     "execution_count": 12,
     "metadata": {},
     "output_type": "execute_result"
    }
   ],
   "source": [
    "tweets_no_spaces = [re.sub(r'\\s+', ' ', tweet).strip() for tweet in tweets_no_mentions]\n",
    "tweets_no_spaces"
   ]
  },
  {
   "cell_type": "markdown",
   "metadata": {
    "id": "HKUvVGcCP499"
   },
   "source": [
    "### Tokenizare\n",
    "\n",
    "- La nivel de propoziție: putem împărți un text în propoziții după punctuație, sau folosind [nltk.sent_tokenize](https://www.nltk.org/api/nltk.tokenize.html)\n",
    "\n",
    "- La nivel de cuvânt: putem împărți după spațiu, sau să folosim [nltk.word_tokenize](https://www.nltk.org/api/nltk.tokenize.html)"
   ]
  },
  {
   "cell_type": "markdown",
   "metadata": {
    "id": "5BzS9XSCQn_Z"
   },
   "source": [
    "Tokenizare la nivel de popoziție folosind regex\n",
    "\n"
   ]
  },
  {
   "cell_type": "code",
   "execution_count": 13,
   "metadata": {
    "colab": {
     "base_uri": "https://localhost:8080/"
    },
    "id": "aM7KEg-1RGxN",
    "outputId": "73bada5e-ea8a-456d-b5e2-87140da6c699"
   },
   "outputs": [
    {
     "data": {
      "text/plain": "[['dang that is some rad !'],\n ['cheers'],\n ['massive congrats to niamh fennell here journalism graduate lands dream job copying &am pasting tweets'],\n ['thank you!'],\n ['stats for the day have arrived.', 'new followers and no unfollowers via'],\n ['yesss i am thank you'],\n ['i have ariana grande selena gomez louis tomlinson rita liam payne caradelevingne i trade solo dm'],\n ['tired.', 'but fine you??'],\n ['nope you can definitely still apply for this year if you want to'],\n ['ah, found it, thanks'],\n ['aftie'],\n ['goodmorning'],\n ['follow &am follow u back'],\n ['that’s exactly the look i’m going for'],\n ['koel mallick recites the \"national anthem\" for on day-!!'],\n ['and monjuly uk &am thurjuly itv'],\n ['for most of you it is but for me it is ...', 'for me and for you!'],\n ['only one leg on september.',\n  'so perhaps bb will promote the full album on september'],\n ['i still fully intend to write as many game designs as possible while there.',\n  'and an attack plan for the next months.',\n  '&gtd'],\n ['to all the birds out there, come here and join us for a little fun']]"
     },
     "execution_count": 13,
     "metadata": {},
     "output_type": "execute_result"
    }
   ],
   "source": [
    "twitter_sent_tokenized = [re.split('(?<=[.!?])\\s+', tweet) for tweet in tweets_no_spaces]\n",
    "twitter_sent_tokenized"
   ]
  },
  {
   "cell_type": "markdown",
   "metadata": {
    "id": "203iv3ESRblX"
   },
   "source": [
    "Folosind `nltk.sent_tokenize`"
   ]
  },
  {
   "cell_type": "markdown",
   "metadata": {
    "id": "6UllfcSeRndQ"
   },
   "source": [
    "Mai întâi trebuie să downloadăm punctuația din `nltk`"
   ]
  },
  {
   "cell_type": "code",
   "execution_count": 14,
   "metadata": {
    "colab": {
     "base_uri": "https://localhost:8080/"
    },
    "id": "h4XsEbgFRt-S",
    "outputId": "2d76630c-76a3-4093-a2a2-b0ae036d5c3e"
   },
   "outputs": [
    {
     "name": "stderr",
     "output_type": "stream",
     "text": [
      "[nltk_data] Downloading package punkt to /home/alhiris/nltk_data...\n",
      "[nltk_data]   Unzipping tokenizers/punkt.zip.\n"
     ]
    },
    {
     "data": {
      "text/plain": "True"
     },
     "execution_count": 14,
     "metadata": {},
     "output_type": "execute_result"
    }
   ],
   "source": [
    "nltk.download('punkt')"
   ]
  },
  {
   "cell_type": "code",
   "execution_count": 15,
   "metadata": {
    "colab": {
     "base_uri": "https://localhost:8080/"
    },
    "id": "S2o6EMlSRfYZ",
    "outputId": "8a49f7d6-5ecc-4031-a9e3-ea3598f72f31"
   },
   "outputs": [
    {
     "data": {
      "text/plain": "[['dang that is some rad !'],\n ['cheers'],\n ['massive congrats to niamh fennell here journalism graduate lands dream job copying &am pasting tweets'],\n ['thank you!'],\n ['stats for the day have arrived.', 'new followers and no unfollowers via'],\n ['yesss i am thank you'],\n ['i have ariana grande selena gomez louis tomlinson rita liam payne caradelevingne i trade solo dm'],\n ['tired.', 'but fine you?', '?'],\n ['nope you can definitely still apply for this year if you want to'],\n ['ah, found it, thanks'],\n ['aftie'],\n ['goodmorning'],\n ['follow &am follow u back'],\n ['that’s exactly the look i’m going for'],\n ['koel mallick recites the \"national anthem\" for on day-!', '!'],\n ['and monjuly uk &am thurjuly itv'],\n ['for most of you it is but for me it is ... for me and for you!'],\n ['only one leg on september.',\n  'so perhaps bb will promote the full album on september'],\n ['i still fully intend to write as many game designs as possible while there.',\n  'and an attack plan for the next months.',\n  '&gtd'],\n ['to all the birds out there, come here and join us for a little fun']]"
     },
     "execution_count": 15,
     "metadata": {},
     "output_type": "execute_result"
    }
   ],
   "source": [
    "from nltk import sent_tokenize\n",
    "\n",
    "twitter_sent_tokenized = [nltk.sent_tokenize(tweet) for tweet in tweets_no_spaces]\n",
    "twitter_sent_tokenized"
   ]
  },
  {
   "cell_type": "markdown",
   "metadata": {
    "id": "TNrcChKlSAuV"
   },
   "source": [
    "Tokenizare la nivel de cuvânt după spații"
   ]
  },
  {
   "cell_type": "code",
   "execution_count": 16,
   "metadata": {
    "colab": {
     "base_uri": "https://localhost:8080/"
    },
    "id": "DLJXmphYSFG0",
    "outputId": "3492d486-6faa-453c-f80b-343bd8864d7e"
   },
   "outputs": [
    {
     "name": "stdout",
     "output_type": "stream",
     "text": [
      "[['dang', 'that', 'is', 'some', 'rad', '!']]\n",
      "[['cheers']]\n",
      "[['massive', 'congrats', 'to', 'niamh', 'fennell', 'here', 'journalism', 'graduate', 'lands', 'dream', 'job', 'copying', '&am', 'pasting', 'tweets']]\n",
      "[['thank', 'you!']]\n",
      "[['stats', 'for', 'the', 'day', 'have', 'arrived.'], ['new', 'followers', 'and', 'no', 'unfollowers', 'via']]\n",
      "[['yesss', 'i', 'am', 'thank', 'you']]\n",
      "[['i', 'have', 'ariana', 'grande', 'selena', 'gomez', 'louis', 'tomlinson', 'rita', 'liam', 'payne', 'caradelevingne', 'i', 'trade', 'solo', 'dm']]\n",
      "[['tired.'], ['but', 'fine', 'you?'], ['?']]\n",
      "[['nope', 'you', 'can', 'definitely', 'still', 'apply', 'for', 'this', 'year', 'if', 'you', 'want', 'to']]\n",
      "[['ah,', 'found', 'it,', 'thanks']]\n",
      "[['aftie']]\n",
      "[['goodmorning']]\n",
      "[['follow', '&am', 'follow', 'u', 'back']]\n",
      "[['that’s', 'exactly', 'the', 'look', 'i’m', 'going', 'for']]\n",
      "[['koel', 'mallick', 'recites', 'the', '\"national', 'anthem\"', 'for', 'on', 'day-!'], ['!']]\n",
      "[['and', 'monjuly', 'uk', '&am', 'thurjuly', 'itv']]\n",
      "[['for', 'most', 'of', 'you', 'it', 'is', 'but', 'for', 'me', 'it', 'is', '...', 'for', 'me', 'and', 'for', 'you!']]\n",
      "[['only', 'one', 'leg', 'on', 'september.'], ['so', 'perhaps', 'bb', 'will', 'promote', 'the', 'full', 'album', 'on', 'september']]\n",
      "[['i', 'still', 'fully', 'intend', 'to', 'write', 'as', 'many', 'game', 'designs', 'as', 'possible', 'while', 'there.'], ['and', 'an', 'attack', 'plan', 'for', 'the', 'next', 'months.'], ['&gtd']]\n",
      "[['to', 'all', 'the', 'birds', 'out', 'there,', 'come', 'here', 'and', 'join', 'us', 'for', 'a', 'little', 'fun']]\n"
     ]
    }
   ],
   "source": [
    "for tweet_list in twitter_sent_tokenized:\n",
    "    print([tweet.split() for tweet in tweet_list])"
   ]
  },
  {
   "cell_type": "markdown",
   "metadata": {
    "id": "niyRmQ86SyOg"
   },
   "source": [
    "Tokenizare la nivel de cuvânt folosind `nltk.word_tokenize`"
   ]
  },
  {
   "cell_type": "code",
   "execution_count": 17,
   "metadata": {
    "colab": {
     "base_uri": "https://localhost:8080/"
    },
    "id": "4nZasrqFVE-h",
    "outputId": "a042aefe-9a5e-4851-8474-f78947ef6ce3"
   },
   "outputs": [
    {
     "data": {
      "text/plain": "[['dang', 'that', 'is', 'some', 'rad', '!'],\n ['cheers'],\n ['massive',\n  'congrats',\n  'to',\n  'niamh',\n  'fennell',\n  'here',\n  'journalism',\n  'graduate',\n  'lands',\n  'dream',\n  'job',\n  'copying',\n  '&',\n  'am',\n  'pasting',\n  'tweets'],\n ['thank', 'you', '!'],\n ['stats',\n  'for',\n  'the',\n  'day',\n  'have',\n  'arrived',\n  '.',\n  'new',\n  'followers',\n  'and',\n  'no',\n  'unfollowers',\n  'via'],\n ['yesss', 'i', 'am', 'thank', 'you'],\n ['i',\n  'have',\n  'ariana',\n  'grande',\n  'selena',\n  'gomez',\n  'louis',\n  'tomlinson',\n  'rita',\n  'liam',\n  'payne',\n  'caradelevingne',\n  'i',\n  'trade',\n  'solo',\n  'dm'],\n ['tired', '.', 'but', 'fine', 'you', '?', '?'],\n ['nope',\n  'you',\n  'can',\n  'definitely',\n  'still',\n  'apply',\n  'for',\n  'this',\n  'year',\n  'if',\n  'you',\n  'want',\n  'to'],\n ['ah', ',', 'found', 'it', ',', 'thanks'],\n ['aftie'],\n ['goodmorning'],\n ['follow', '&', 'am', 'follow', 'u', 'back'],\n ['that', '’', 's', 'exactly', 'the', 'look', 'i', '’', 'm', 'going', 'for'],\n ['koel',\n  'mallick',\n  'recites',\n  'the',\n  '``',\n  'national',\n  'anthem',\n  \"''\",\n  'for',\n  'on',\n  'day-',\n  '!',\n  '!'],\n ['and', 'monjuly', 'uk', '&', 'am', 'thurjuly', 'itv'],\n ['for',\n  'most',\n  'of',\n  'you',\n  'it',\n  'is',\n  'but',\n  'for',\n  'me',\n  'it',\n  'is',\n  '...',\n  'for',\n  'me',\n  'and',\n  'for',\n  'you',\n  '!'],\n ['only',\n  'one',\n  'leg',\n  'on',\n  'september',\n  '.',\n  'so',\n  'perhaps',\n  'bb',\n  'will',\n  'promote',\n  'the',\n  'full',\n  'album',\n  'on',\n  'september'],\n ['i',\n  'still',\n  'fully',\n  'intend',\n  'to',\n  'write',\n  'as',\n  'many',\n  'game',\n  'designs',\n  'as',\n  'possible',\n  'while',\n  'there',\n  '.',\n  'and',\n  'an',\n  'attack',\n  'plan',\n  'for',\n  'the',\n  'next',\n  'months',\n  '.',\n  '&',\n  'gtd'],\n ['to',\n  'all',\n  'the',\n  'birds',\n  'out',\n  'there',\n  ',',\n  'come',\n  'here',\n  'and',\n  'join',\n  'us',\n  'for',\n  'a',\n  'little',\n  'fun']]"
     },
     "execution_count": 17,
     "metadata": {},
     "output_type": "execute_result"
    }
   ],
   "source": [
    "from nltk import word_tokenize\n",
    "\n",
    "twitter_word_tokenized = [word_tokenize(tweet) for tweet in tweets_no_spaces]\n",
    "twitter_word_tokenized"
   ]
  },
  {
   "cell_type": "markdown",
   "metadata": {
    "id": "MdT8MOurLMnj"
   },
   "source": [
    "### Eliminarea punctuației"
   ]
  },
  {
   "cell_type": "markdown",
   "metadata": {
    "id": "f3PfeT7dNcxa"
   },
   "source": [
    "Folosind regex"
   ]
  },
  {
   "cell_type": "code",
   "execution_count": 18,
   "metadata": {
    "colab": {
     "base_uri": "https://localhost:8080/"
    },
    "id": "BhhOuUZqK6ix",
    "outputId": "31000e5f-65bf-4e15-ca66-dfacf450ddf6"
   },
   "outputs": [
    {
     "data": {
      "text/plain": "['dang that is some rad ',\n 'cheers',\n 'massive congrats to niamh fennell here journalism graduate lands dream job copying am pasting tweets',\n 'thank you',\n 'stats for the day have arrived new followers and no unfollowers via',\n 'yesss i am thank you',\n 'i have ariana grande selena gomez louis tomlinson rita liam payne caradelevingne i trade solo dm',\n 'tired but fine you',\n 'nope you can definitely still apply for this year if you want to',\n 'ah found it thanks',\n 'aftie',\n 'goodmorning',\n 'follow am follow u back',\n 'thats exactly the look im going for',\n 'koel mallick recites the national anthem for on day',\n 'and monjuly uk am thurjuly itv',\n 'for most of you it is but for me it is  for me and for you',\n 'only one leg on september so perhaps bb will promote the full album on september',\n 'i still fully intend to write as many game designs as possible while there and an attack plan for the next months gtd',\n 'to all the birds out there come here and join us for a little fun']"
     },
     "execution_count": 18,
     "metadata": {},
     "output_type": "execute_result"
    }
   ],
   "source": [
    "tweets_no_punct = [re.sub(r'[^\\w\\s]', '', tweet) for tweet in tweets_no_spaces]\n",
    "tweets_no_punct"
   ]
  },
  {
   "cell_type": "markdown",
   "metadata": {
    "id": "zQfBOGzoNnLp"
   },
   "source": [
    "Folosind `string.punctuation()`"
   ]
  },
  {
   "cell_type": "code",
   "execution_count": 19,
   "metadata": {
    "colab": {
     "base_uri": "https://localhost:8080/",
     "height": 35
    },
    "id": "MgdMyLm_Nl1D",
    "outputId": "ec244fee-0b52-4a3b-fdc0-644e800508e7"
   },
   "outputs": [
    {
     "data": {
      "text/plain": "'!\"#$%&\\'()*+,-./:;<=>?@[\\\\]^_`{|}~'"
     },
     "execution_count": 19,
     "metadata": {},
     "output_type": "execute_result"
    }
   ],
   "source": [
    "import string\n",
    "\n",
    "string.punctuation"
   ]
  },
  {
   "cell_type": "markdown",
   "metadata": {
    "id": "JnxNzTCBNyUS"
   },
   "source": [
    "Traducem fiecare semn de punctuație în ' '."
   ]
  },
  {
   "cell_type": "code",
   "execution_count": 20,
   "metadata": {
    "colab": {
     "base_uri": "https://localhost:8080/"
    },
    "id": "Oov3nDzoNulb",
    "outputId": "eedc98a5-b6b6-47e3-c9b0-facd7bf97f42"
   },
   "outputs": [
    {
     "data": {
      "text/plain": "['dang that is some rad ',\n 'cheers',\n 'massive congrats to niamh fennell here journalism graduate lands dream job copying am pasting tweets',\n 'thank you',\n 'stats for the day have arrived new followers and no unfollowers via',\n 'yesss i am thank you',\n 'i have ariana grande selena gomez louis tomlinson rita liam payne caradelevingne i trade solo dm',\n 'tired but fine you',\n 'nope you can definitely still apply for this year if you want to',\n 'ah found it thanks',\n 'aftie',\n 'goodmorning',\n 'follow am follow u back',\n 'that’s exactly the look i’m going for',\n 'koel mallick recites the national anthem for on day',\n 'and monjuly uk am thurjuly itv',\n 'for most of you it is but for me it is  for me and for you',\n 'only one leg on september so perhaps bb will promote the full album on september',\n 'i still fully intend to write as many game designs as possible while there and an attack plan for the next months gtd',\n 'to all the birds out there come here and join us for a little fun']"
     },
     "execution_count": 20,
     "metadata": {},
     "output_type": "execute_result"
    }
   ],
   "source": [
    "tweets_no_punct = [tweet.translate(str.maketrans('', '', string.punctuation)) for tweet in tweets_no_spaces]\n",
    "tweets_no_punct"
   ]
  },
  {
   "cell_type": "markdown",
   "metadata": {
    "id": "QSoToGH2VEV7"
   },
   "source": [
    "Tokenizare la nivel de cuvânt după eliminarea punctuației."
   ]
  },
  {
   "cell_type": "code",
   "execution_count": 21,
   "metadata": {
    "colab": {
     "base_uri": "https://localhost:8080/"
    },
    "id": "6fQBkaVdVJVH",
    "outputId": "e51b64d8-dcd3-4435-8388-49e40da584f0"
   },
   "outputs": [
    {
     "data": {
      "text/plain": "[['dang', 'that', 'is', 'some', 'rad'],\n ['cheers'],\n ['massive',\n  'congrats',\n  'to',\n  'niamh',\n  'fennell',\n  'here',\n  'journalism',\n  'graduate',\n  'lands',\n  'dream',\n  'job',\n  'copying',\n  'am',\n  'pasting',\n  'tweets'],\n ['thank', 'you'],\n ['stats',\n  'for',\n  'the',\n  'day',\n  'have',\n  'arrived',\n  'new',\n  'followers',\n  'and',\n  'no',\n  'unfollowers',\n  'via'],\n ['yesss', 'i', 'am', 'thank', 'you'],\n ['i',\n  'have',\n  'ariana',\n  'grande',\n  'selena',\n  'gomez',\n  'louis',\n  'tomlinson',\n  'rita',\n  'liam',\n  'payne',\n  'caradelevingne',\n  'i',\n  'trade',\n  'solo',\n  'dm'],\n ['tired', 'but', 'fine', 'you'],\n ['nope',\n  'you',\n  'can',\n  'definitely',\n  'still',\n  'apply',\n  'for',\n  'this',\n  'year',\n  'if',\n  'you',\n  'want',\n  'to'],\n ['ah', 'found', 'it', 'thanks'],\n ['aftie'],\n ['goodmorning'],\n ['follow', 'am', 'follow', 'u', 'back'],\n ['that', '’', 's', 'exactly', 'the', 'look', 'i', '’', 'm', 'going', 'for'],\n ['koel',\n  'mallick',\n  'recites',\n  'the',\n  'national',\n  'anthem',\n  'for',\n  'on',\n  'day'],\n ['and', 'monjuly', 'uk', 'am', 'thurjuly', 'itv'],\n ['for',\n  'most',\n  'of',\n  'you',\n  'it',\n  'is',\n  'but',\n  'for',\n  'me',\n  'it',\n  'is',\n  'for',\n  'me',\n  'and',\n  'for',\n  'you'],\n ['only',\n  'one',\n  'leg',\n  'on',\n  'september',\n  'so',\n  'perhaps',\n  'bb',\n  'will',\n  'promote',\n  'the',\n  'full',\n  'album',\n  'on',\n  'september'],\n ['i',\n  'still',\n  'fully',\n  'intend',\n  'to',\n  'write',\n  'as',\n  'many',\n  'game',\n  'designs',\n  'as',\n  'possible',\n  'while',\n  'there',\n  'and',\n  'an',\n  'attack',\n  'plan',\n  'for',\n  'the',\n  'next',\n  'months',\n  'gtd'],\n ['to',\n  'all',\n  'the',\n  'birds',\n  'out',\n  'there',\n  'come',\n  'here',\n  'and',\n  'join',\n  'us',\n  'for',\n  'a',\n  'little',\n  'fun']]"
     },
     "execution_count": 21,
     "metadata": {},
     "output_type": "execute_result"
    }
   ],
   "source": [
    "from nltk import word_tokenize\n",
    "\n",
    "twitter_word_tokenized = [word_tokenize(tweet) for tweet in tweets_no_punct]\n",
    "twitter_word_tokenized"
   ]
  },
  {
   "cell_type": "markdown",
   "metadata": {
    "id": "lye6YT5oWF-T"
   },
   "source": [
    "Aveti grija la cazurile de tipul \"unu,doi\". Daca eliminati punctuatia direct, cele doua cuvinte vor fi concatenate obtinand un singur cuvant \"unudoi\". O alternativa ar fi sa inlocuim mai intai toate caracterele de punctuatie cu spatiu, apoi sa aplicam inca o data metoda de contractie a spatiilor."
   ]
  },
  {
   "cell_type": "code",
   "execution_count": 22,
   "metadata": {
    "colab": {
     "base_uri": "https://localhost:8080/"
    },
    "id": "wJzIIFJZW2XO",
    "outputId": "ab79163b-f3b1-4445-ddbc-a1ebd5d62660"
   },
   "outputs": [
    {
     "data": {
      "text/plain": "['dang that is some rad ',\n 'cheers',\n 'massive congrats to niamh fennell here journalism graduate lands dream job copying am pasting tweets',\n 'thank you ',\n 'stats for the day have arrived new followers and no unfollowers via',\n 'yesss i am thank you',\n 'i have ariana grande selena gomez louis tomlinson rita liam payne caradelevingne i trade solo dm',\n 'tired but fine you ',\n 'nope you can definitely still apply for this year if you want to',\n 'ah found it thanks',\n 'aftie',\n 'goodmorning',\n 'follow am follow u back',\n 'that s exactly the look i m going for',\n 'koel mallick recites the national anthem for on day ',\n 'and monjuly uk am thurjuly itv',\n 'for most of you it is but for me it is for me and for you ',\n 'only one leg on september so perhaps bb will promote the full album on september',\n 'i still fully intend to write as many game designs as possible while there and an attack plan for the next months gtd',\n 'to all the birds out there come here and join us for a little fun']"
     },
     "execution_count": 22,
     "metadata": {},
     "output_type": "execute_result"
    }
   ],
   "source": [
    "tweets_no_punct = [re.sub(r'[^\\w\\s]', ' ', tweet) for tweet in tweets_no_spaces]\n",
    "tweets_no_punct = [re.sub(r'\\s+', ' ', tweet) for tweet in tweets_no_punct]\n",
    "tweets_no_punct"
   ]
  },
  {
   "cell_type": "markdown",
   "metadata": {
    "id": "ihBAuh1VUTlb"
   },
   "source": [
    "### Eliminarea stopwords\n",
    "\n",
    "![stopwords.jpg](https://user.oc-static.com/upload/2021/01/06/16099626487943_P1C2.png) "
   ]
  },
  {
   "cell_type": "markdown",
   "metadata": {
    "id": "Jq21UVgTSRQQ"
   },
   "source": [
    "Stopwords-urile sunt cele mai folosite cuvinte din limba engleza si au valoare sintactic morfologica, dar nu au si una semantica.\n",
    "Primele 4 stopwords-uri ale limbii engleze in ordinea aparitiei lor in limba: the, of, and, to.  \n",
    "Cele mai multe sunt pronume, prepozitii sau conjuctii. \n",
    "\n",
    "[The Zipf Law](https://www.youtube.com/watch?v=fCn8zs912OE) afirma ca daca notam $x$ = numarul de aparitii a lui \"the\", atunci numarul de aparitii al lui \"of\" va fi foarte apropiat de $\\frac{x}{2}$, al lui \"and\", de $\\frac{x}{3}$, al celui de-al n-lea cu $\\frac{x}{n}$ (distributia de probabilitati Pareto)."
   ]
  },
  {
   "cell_type": "markdown",
   "metadata": {
    "id": "s9KsFEcKUhk2"
   },
   "source": [
    "Eliminare stopwords folosind `nltk`"
   ]
  },
  {
   "cell_type": "code",
   "execution_count": 23,
   "metadata": {
    "colab": {
     "base_uri": "https://localhost:8080/"
    },
    "id": "R0DX_U3ZUlI7",
    "outputId": "37e262f5-bd3e-4b8f-b46b-a14e9d4887dd"
   },
   "outputs": [
    {
     "name": "stderr",
     "output_type": "stream",
     "text": [
      "[nltk_data] Downloading package stopwords to\n",
      "[nltk_data]     /home/alhiris/nltk_data...\n",
      "[nltk_data]   Unzipping corpora/stopwords.zip.\n"
     ]
    },
    {
     "data": {
      "text/plain": "True"
     },
     "execution_count": 23,
     "metadata": {},
     "output_type": "execute_result"
    }
   ],
   "source": [
    "nltk.download('stopwords')"
   ]
  },
  {
   "cell_type": "code",
   "execution_count": 24,
   "metadata": {
    "colab": {
     "base_uri": "https://localhost:8080/"
    },
    "id": "vPTyM23bOKOK",
    "outputId": "3b482654-a067-4062-8754-3edac5dde9e8"
   },
   "outputs": [
    {
     "name": "stdout",
     "output_type": "stream",
     "text": [
      "179\n",
      "{'weren', 'over', 'should', 'now', 'what', 'few', 'while', 'no', 'yourselves', 'he', 'too', 'hadn', 'both', 'further', \"hadn't\", 'which', 'who', 'his', 's', 'me', 'any', \"shan't\", 'won', \"you've\", 'yourself', 'those', 'above', \"shouldn't\", 'ourselves', 'where', 'why', 'itself', 'on', 'once', 'all', \"couldn't\", \"that'll\", 'is', 'with', 'it', 'yours', 'out', 'in', 'under', 're', 'how', 'into', 'mightn', \"should've\", 'do', 'ma', \"aren't\", 'only', 'not', 'has', 'whom', 'at', \"wasn't\", 'for', 'am', 'an', 'being', 'after', 'she', 'can', 'don', 'each', \"haven't\", 'most', 've', 'down', 'there', 'shouldn', \"you're\", 'than', \"mustn't\", 'her', 'they', 'aren', 'are', 'you', \"it's\", 'their', 'some', 'himself', 'been', 'y', 'needn', \"wouldn't\", \"you'll\", 'herself', 'hasn', 'm', 'will', 'to', 'the', \"mightn't\", 'very', 'more', 'we', 'have', 'through', 'if', 'off', 'here', 'this', 'but', 'about', 'd', 'myself', \"hasn't\", 'be', \"isn't\", 'o', 'so', \"didn't\", 'or', 'him', 'your', 'having', 'these', 'doing', 'them', 'wouldn', 'below', 'and', 'during', 'does', 'shan', 'such', 'then', 'll', 'of', 'from', 'was', 'themselves', 'because', 'a', 'same', 'couldn', 'isn', 'just', 'until', 'wasn', 'that', 'between', \"weren't\", 'did', 'haven', 'ours', 'other', 'by', 'had', 'against', 'again', 'up', 'when', 'were', 'before', 'our', 't', 'own', 'ain', 'didn', 'doesn', 'hers', 'nor', \"she's\", \"you'd\", 'mustn', 'theirs', \"doesn't\", 'its', \"won't\", \"needn't\", \"don't\", 'i', 'as', 'my'}\n"
     ]
    }
   ],
   "source": [
    "from nltk.corpus import stopwords\n",
    "\n",
    "stop_words_nltk = set(stopwords.words('english'))\n",
    "print(len(stop_words_nltk))\n",
    "print(stop_words_nltk)"
   ]
  },
  {
   "cell_type": "code",
   "execution_count": 25,
   "metadata": {
    "colab": {
     "base_uri": "https://localhost:8080/"
    },
    "id": "s3xGtKBuUrW1",
    "outputId": "2f8526da-6b1c-4c42-85c3-d22973622817"
   },
   "outputs": [
    {
     "data": {
      "text/plain": "['dang',\n 'that',\n 'is',\n 'some',\n 'rad',\n 'cheers',\n 'massive',\n 'congrats',\n 'to',\n 'niamh']"
     },
     "execution_count": 25,
     "metadata": {},
     "output_type": "execute_result"
    }
   ],
   "source": [
    "# flatten the lists\n",
    "all_words = [word for sent in twitter_word_tokenized for word in sent]\n",
    "all_words[:10]"
   ]
  },
  {
   "cell_type": "code",
   "execution_count": 26,
   "metadata": {
    "colab": {
     "base_uri": "https://localhost:8080/"
    },
    "id": "kvidsxsBSfgp",
    "outputId": "0c740408-c819-4c5f-9598-99dc5751f21b"
   },
   "outputs": [
    {
     "data": {
      "text/plain": "['dang',\n 'rad',\n 'cheers',\n 'massive',\n 'congrats',\n 'niamh',\n 'fennell',\n 'journalism',\n 'graduate',\n 'lands']"
     },
     "execution_count": 26,
     "metadata": {},
     "output_type": "execute_result"
    }
   ],
   "source": [
    "all_words_without_stops = [word for word in all_words if word not in stop_words_nltk]\n",
    "all_words_without_stops[:10]"
   ]
  },
  {
   "cell_type": "markdown",
   "metadata": {
    "id": "omPFUw0jVhVd"
   },
   "source": [
    "Eliminare stopwords folosind `spacy`"
   ]
  },
  {
   "cell_type": "code",
   "execution_count": 28,
   "metadata": {
    "id": "a5_sNJXFXryH"
   },
   "outputs": [
    {
     "name": "stdout",
     "output_type": "stream",
     "text": [
      "Defaulting to user installation because normal site-packages is not writeable\r\n",
      "Collecting en-core-web-sm==3.2.0\r\n",
      "  Downloading https://github.com/explosion/spacy-models/releases/download/en_core_web_sm-3.2.0/en_core_web_sm-3.2.0-py3-none-any.whl (13.9 MB)\r\n",
      "     |████████████████████████████████| 13.9 MB 1.3 MB/s            \r\n",
      "\u001B[?25hRequirement already satisfied: spacy<3.3.0,>=3.2.0 in /usr/lib/python3.10/site-packages (from en-core-web-sm==3.2.0) (3.2.2)\r\n",
      "Requirement already satisfied: blis<0.8.0,>=0.4.0 in /usr/lib/python3.10/site-packages (from spacy<3.3.0,>=3.2.0->en-core-web-sm==3.2.0) (0.7.5)\r\n",
      "Requirement already satisfied: cymem<2.1.0,>=2.0.2 in /usr/lib/python3.10/site-packages (from spacy<3.3.0,>=3.2.0->en-core-web-sm==3.2.0) (2.0.6)\r\n",
      "Requirement already satisfied: wasabi<1.1.0,>=0.8.1 in /usr/lib/python3.10/site-packages (from spacy<3.3.0,>=3.2.0->en-core-web-sm==3.2.0) (0.9.0)\r\n",
      "Requirement already satisfied: jinja2 in /usr/lib/python3.10/site-packages (from spacy<3.3.0,>=3.2.0->en-core-web-sm==3.2.0) (3.0.3)\r\n",
      "Requirement already satisfied: langcodes<4.0.0,>=3.2.0 in /usr/lib/python3.10/site-packages (from spacy<3.3.0,>=3.2.0->en-core-web-sm==3.2.0) (3.3.0)\r\n",
      "Requirement already satisfied: catalogue<2.1.0,>=2.0.6 in /usr/lib/python3.10/site-packages (from spacy<3.3.0,>=3.2.0->en-core-web-sm==3.2.0) (2.0.6)\r\n",
      "Requirement already satisfied: pydantic!=1.8,!=1.8.1,<1.9.0,>=1.7.4 in /usr/lib/python3.10/site-packages (from spacy<3.3.0,>=3.2.0->en-core-web-sm==3.2.0) (1.8.2)\r\n",
      "Requirement already satisfied: tqdm<5.0.0,>=4.38.0 in /usr/lib/python3.10/site-packages (from spacy<3.3.0,>=3.2.0->en-core-web-sm==3.2.0) (4.62.3)\r\n",
      "Requirement already satisfied: thinc<8.1.0,>=8.0.12 in /usr/lib/python3.10/site-packages (from spacy<3.3.0,>=3.2.0->en-core-web-sm==3.2.0) (8.0.13)\r\n",
      "Requirement already satisfied: spacy-loggers<2.0.0,>=1.0.0 in /usr/lib/python3.10/site-packages (from spacy<3.3.0,>=3.2.0->en-core-web-sm==3.2.0) (1.0.1)\r\n",
      "Requirement already satisfied: typer<0.5.0,>=0.3.0 in /usr/lib/python3.10/site-packages (from spacy<3.3.0,>=3.2.0->en-core-web-sm==3.2.0) (0.4.0)\r\n",
      "Requirement already satisfied: pathy>=0.3.5 in /usr/lib/python3.10/site-packages (from spacy<3.3.0,>=3.2.0->en-core-web-sm==3.2.0) (0.6.1)\r\n",
      "Requirement already satisfied: numpy>=1.15.0 in /usr/lib/python3.10/site-packages (from spacy<3.3.0,>=3.2.0->en-core-web-sm==3.2.0) (1.22.2)\r\n",
      "Requirement already satisfied: setuptools in /usr/lib/python3.10/site-packages (from spacy<3.3.0,>=3.2.0->en-core-web-sm==3.2.0) (59.1.1)\r\n",
      "Requirement already satisfied: preshed<3.1.0,>=3.0.2 in /usr/lib/python3.10/site-packages (from spacy<3.3.0,>=3.2.0->en-core-web-sm==3.2.0) (3.0.6)\r\n",
      "Requirement already satisfied: spacy-legacy<3.1.0,>=3.0.8 in /usr/lib/python3.10/site-packages (from spacy<3.3.0,>=3.2.0->en-core-web-sm==3.2.0) (3.0.8)\r\n",
      "Requirement already satisfied: murmurhash<1.1.0,>=0.28.0 in /usr/lib/python3.10/site-packages (from spacy<3.3.0,>=3.2.0->en-core-web-sm==3.2.0) (1.0.6)\r\n",
      "Requirement already satisfied: requests<3.0.0,>=2.13.0 in /usr/lib/python3.10/site-packages (from spacy<3.3.0,>=3.2.0->en-core-web-sm==3.2.0) (2.26.0)\r\n",
      "Requirement already satisfied: srsly<3.0.0,>=2.4.1 in /usr/lib/python3.10/site-packages (from spacy<3.3.0,>=3.2.0->en-core-web-sm==3.2.0) (2.4.2)\r\n",
      "Requirement already satisfied: packaging>=20.0 in /usr/lib/python3.10/site-packages (from spacy<3.3.0,>=3.2.0->en-core-web-sm==3.2.0) (20.9)\r\n",
      "Requirement already satisfied: pyparsing>=2.0.2 in /usr/lib/python3.10/site-packages (from packaging>=20.0->spacy<3.3.0,>=3.2.0->en-core-web-sm==3.2.0) (2.4.7)\r\n",
      "Requirement already satisfied: smart-open<6.0.0,>=5.0.0 in /usr/lib/python3.10/site-packages (from pathy>=0.3.5->spacy<3.3.0,>=3.2.0->en-core-web-sm==3.2.0) (5.2.1)\r\n",
      "Requirement already satisfied: typing-extensions>=3.7.4.3 in /usr/lib/python3.10/site-packages (from pydantic!=1.8,!=1.8.1,<1.9.0,>=1.7.4->spacy<3.3.0,>=3.2.0->en-core-web-sm==3.2.0) (4.0.1)\r\n",
      "Requirement already satisfied: chardet>=3.0.2 in /usr/lib/python3.10/site-packages (from requests<3.0.0,>=2.13.0->spacy<3.3.0,>=3.2.0->en-core-web-sm==3.2.0) (4.0.0)\r\n",
      "Requirement already satisfied: idna>=2.5 in /usr/lib/python3.10/site-packages (from requests<3.0.0,>=2.13.0->spacy<3.3.0,>=3.2.0->en-core-web-sm==3.2.0) (3.3)\r\n",
      "Requirement already satisfied: urllib3>=1.21.1 in /usr/lib/python3.10/site-packages (from requests<3.0.0,>=2.13.0->spacy<3.3.0,>=3.2.0->en-core-web-sm==3.2.0) (1.26.8)\r\n",
      "Requirement already satisfied: click<9.0.0,>=7.1.1 in /usr/lib/python3.10/site-packages (from typer<0.5.0,>=0.3.0->spacy<3.3.0,>=3.2.0->en-core-web-sm==3.2.0) (8.0.3)\r\n",
      "Requirement already satisfied: MarkupSafe>=2.0 in /usr/lib/python3.10/site-packages (from jinja2->spacy<3.3.0,>=3.2.0->en-core-web-sm==3.2.0) (2.0.1)\r\n",
      "Installing collected packages: en-core-web-sm\r\n",
      "Successfully installed en-core-web-sm-3.2.0\r\n",
      "\u001B[38;5;2m✔ Download and installation successful\u001B[0m\r\n",
      "You can now load the package via spacy.load('en_core_web_sm')\r\n"
     ]
    }
   ],
   "source": [
    "# ! python -m spacy download en_core_web_sm"
   ]
  },
  {
   "cell_type": "code",
   "execution_count": 29,
   "metadata": {
    "colab": {
     "base_uri": "https://localhost:8080/"
    },
    "id": "bPHXLGa0Vkzz",
    "outputId": "73aac33f-91f9-4c2c-a961-ff2dae2d1edf"
   },
   "outputs": [
    {
     "name": "stdout",
     "output_type": "stream",
     "text": [
      "326\n",
      "{'over', 'five', 'six', 'what', 'whenever', 'enough', 'back', 'due', 'any', 'much', 'itself', 'therefore', 'is', 'whither', 'yours', 'per', 'upon', 'anyhow', 'would', 'many', 'whence', 'has', 'eleven', 'seeming', 'being', 'make', 'twelve', 'indeed', 'her', 'others', 'are', 'himself', 'former', 'various', 'unless', 'herself', 'yet', 'will', 'to', 'have', 'we', 'through', 'but', 'rather', 'still', 'namely', 'whereby', 'thereby', 'fifty', 'so', 'sometimes', 'thus', 'him', 'your', 'call', 'thence', 'somewhere', 'hundred', 'one', '’re', 'afterwards', 'using', 'was', 'whereas', 'often', 'that', 'ours', 'becomes', 'another', 'had', 'when', 'since', 'done', 'our', 'though', '‘d', 'front', 'full', 'via', 'hers', 'nor', 'became', 'anywhere', 'say', 'whoever', 'few', 'no', 'within', 'around', 'both', 'otherwise', 'who', 'cannot', 'yourself', 'get', \"'re\", 'ourselves', 'where', 'put', 'take', 'once', 'in', 'someone', 're', 'us', 'for', 'am', 'anyway', 'really', 'after', 'serious', 'she', 'may', 'each', 'hereafter', '’s', 'they', 'seemed', 'meanwhile', 'you', 'some', \"'m\", 'everyone', 'less', 'without', '‘s', 'if', 'about', 'anyone', 'beforehand', 'mine', 'below', 'during', 'every', 'does', 'such', 'then', 'nothing', 'quite', 'wherever', 'already', 'none', 'side', 'seem', 'other', 'were', 'own', '’ve', 'bottom', 'nowhere', 'might', 'nine', 'throughout', 'i', 'should', 'latterly', 'whether', 'go', 'yourselves', 'too', 'as', 'which', 'nevertheless', 'behind', \"'d\", 'on', 'latter', 'all', 'it', 'out', 'do', 'only', 'not', 'at', 'first', '‘re', 'moreover', 'can', 'down', 'there', 'sometime', 'beyond', '’m', 'towards', 'nobody', 'last', 'been', 'forty', 'onto', 'give', 'always', 'whatever', 'also', '’ll', 'twenty', 'show', 'more', 'everything', 'off', 'hence', 'formerly', 'elsewhere', 'these', 'neither', 'part', 'them', 'several', 'ever', 'however', 'themselves', 'across', 'something', 'else', 'n‘t', 'a', 'empty', 'ca', 'just', 'until', 'must', 'amount', 'did', '‘ve', 'three', 'perhaps', 'anything', 'together', 'herein', 'although', 'my', 'everywhere', 'whereafter', 'regarding', '‘ll', 'now', 'top', 'third', 'ten', 'while', 'become', 'he', 'never', 'further', 'seems', \"'ve\", 'his', 'beside', 'me', 'those', 'above', 'whose', 'why', 'with', 'whereupon', 'under', 'thereafter', 'how', 'into', \"n't\", 'whom', 'an', 'toward', 'either', 'sixty', 'most', 'among', 'four', 'than', 'thereupon', 'alone', 'their', 'amongst', 'next', 'see', 'move', 'the', 'please', 'here', 'this', 'used', 'name', 'myself', 'n’t', 'be', '‘m', 'least', 'hereby', 'fifteen', 'or', 'made', 'two', 'therein', 'could', 'doing', 'wherein', 'almost', 'eight', 'keep', 'somehow', \"'ll\", 'of', 'whole', 'from', 'along', 'because', '’d', 'hereupon', 'same', 'mostly', 'thru', 'noone', 'between', 'except', 'besides', 'even', 'again', 'against', 'by', 'up', 'before', 'well', 'becoming', 'its', 'very', 'and', \"'s\"}\n"
     ]
    }
   ],
   "source": [
    "import spacy\n",
    "nlp = spacy.load('en_core_web_sm')\n",
    "stop_words_spacy = nlp.Defaults.stop_words\n",
    "print(len(stop_words_spacy))\n",
    "print(stop_words_spacy)"
   ]
  },
  {
   "cell_type": "code",
   "execution_count": 30,
   "metadata": {
    "colab": {
     "base_uri": "https://localhost:8080/"
    },
    "id": "osjomF35VqTd",
    "outputId": "d384155d-3ad9-4b5c-c3ce-03b3b57fae35"
   },
   "outputs": [
    {
     "data": {
      "text/plain": "['dang',\n 'rad',\n 'cheers',\n 'massive',\n 'congrats',\n 'niamh',\n 'fennell',\n 'journalism',\n 'graduate',\n 'lands']"
     },
     "execution_count": 30,
     "metadata": {},
     "output_type": "execute_result"
    }
   ],
   "source": [
    "all_words_without_stops = [word for word in all_words if word not in stop_words_spacy]\n",
    "all_words_without_stops[:10]"
   ]
  },
  {
   "cell_type": "markdown",
   "metadata": {
    "id": "8Oenw_Uhxw31"
   },
   "source": [
    "Putem vizualiza distributia stopwords-urilor folosind matplolib sau wordcloud."
   ]
  },
  {
   "cell_type": "code",
   "execution_count": 32,
   "metadata": {
    "id": "NDF2bRh6xxYv"
   },
   "outputs": [],
   "source": [
    "import matplotlib.pyplot as plt\n",
    "import numpy as np"
   ]
  },
  {
   "cell_type": "code",
   "execution_count": 33,
   "metadata": {
    "colab": {
     "base_uri": "https://localhost:8080/",
     "height": 592
    },
    "id": "_tmNf1g3TWl_",
    "outputId": "6103a419-43b0-4684-eb82-78de0fc43d6d"
   },
   "outputs": [
    {
     "data": {
      "text/plain": "<Figure size 1800x720 with 1 Axes>",
      "image/png": "[encoded data removed]"
     },
     "metadata": {
      "needs_background": "light"
     },
     "output_type": "display_data"
    }
   ],
   "source": [
    "tweets_stopwords = [word for word in all_words if word in stop_words_spacy]\n",
    "values, frequencies = np.unique(tweets_stopwords, return_counts=True)\n",
    "stopwords_dict = {value: freq for value, freq in zip(values, frequencies)}\n",
    "\n",
    "plt.figure(figsize=(25, 10))\n",
    "plt.bar(values, frequencies, orientation='vertical')\n",
    "plt.show()\n"
   ]
  },
  {
   "cell_type": "code",
   "execution_count": null,
   "metadata": {
    "id": "LVd4-qbi0_fO"
   },
   "outputs": [],
   "source": [
    "# !pip install wordcloud"
   ]
  },
  {
   "cell_type": "code",
   "execution_count": 35,
   "metadata": {
    "colab": {
     "base_uri": "https://localhost:8080/",
     "height": 449
    },
    "id": "g39Nkrwm0Tbr",
    "outputId": "2224a1a8-2127-4a0e-ae47-3960485d4fb2"
   },
   "outputs": [
    {
     "data": {
      "text/plain": "<Figure size 1080x720 with 1 Axes>",
      "image/png": "[encoded data removed]"
     },
     "metadata": {
      "needs_background": "light"
     },
     "output_type": "display_data"
    }
   ],
   "source": [
    "from wordcloud import WordCloud\n",
    "wordcloud = WordCloud(max_font_size=50, max_words=1000, background_color=\"white\")\n",
    "wordcloud_picture = wordcloud.generate_from_frequencies(stopwords_dict)\n",
    "\n",
    "plt.figure(figsize=(15, 10))\n",
    "plt.imshow(wordcloud, interpolation='bilinear')\n",
    "plt.axis('off')\n",
    "plt.show()"
   ]
  },
  {
   "cell_type": "markdown",
   "metadata": {
    "id": "BUbSWMrXVsFU"
   },
   "source": [
    "### Lematizare/Stemming\n",
    "\n",
    "Au rolul de a elimina inflexiunile cuvintelor: acele caractere care pot ingloba:\n",
    "- persoana unui verb, in romana: voi cauta**ți** - persoana a2a plural\n",
    "- timpul unui verb, in romana: voi cauta**seră**ți - mai mult ca perfectul\n",
    "- etc."
   ]
  },
  {
   "cell_type": "markdown",
   "metadata": {
    "id": "5IgxY-nAVvai"
   },
   "source": [
    "![1_HLQgkMt5-g5WO5VpNuTl_g.jpeg](https://miro.medium.com/max/564/1*HLQgkMt5-g5WO5VpNuTl_g.jpeg)"
   ]
  },
  {
   "cell_type": "markdown",
   "metadata": {
    "id": "Zgx71FdXStx7"
   },
   "source": [
    "## Lematizarea\n",
    "Aduce cuvintele la forma lor din dictionar.\n",
    "\n",
    "\"Lemmatization is the process where we take individual tokens from a sentence and we try to reduce them to their base form. The process that makes this possible is having a vocabulary and performing morphological analysis to remove inflectional endings. The output of the lemmatization process (as shown in the figure above) is the lemma or the base form of the word. For instance, a lemmatization process reduces the inflections, \"am\", \"are\", and \"is\", to the base form, \"be\". Take a look at the figure above for a full example and try to understand what it's doing.\n",
    "\n",
    "Lemmatization is helpful for normalizing text for text classification tasks or search engines, and a variety of other NLP tasks such as sentiment classification. It is particularly important when dealing with complex languages like Arabic and Spanish.\" ([sursa](https://colab.research.google.com/github/dair-ai/notebooks/blob/master/_notebooks/2020-03-19-nlp_basics_tokenization_segmentation.ipynb#scrollTo=dcaLqxPX5CJa))\n",
    "\n",
    "## Pros:\n",
    "- rezultatele sunt cuvinte existente in limba\n",
    "\n",
    "## Cons\n",
    "- procesul de cautare poate fi costisitor dpdv. computational\n",
    "- limba este intr-o continua evolutie, iar de cele mai multe ori, dictionarele nu \"tin pasul\" cu toate cuvintele noi aparute sau imprumutate\n",
    "\n",
    "## Stemming\n",
    "Aplica algoiritmi ce folosesc automate finite (remember LFA). Multe dintre ele sunt scrise in limbajul [Snowball](http://snowball.tartarus.org/).\n",
    "\n",
    "\"Stemming is just a simpler version of lemmatization where we are interested in stripping the suffix at the end of the word. When stemming we are interesting in reducing the inflected or derived word to it's base form. Take a look at the figure above to get some intuition about the process.\n",
    "\n",
    "Both the stemming and the lemmatization processes involve morphological analysis where the stems and affixes (called the morphemes) are extracted and used to reduce inflections to their base form. For instance, the word cats has two morphemes, cat and s, the cat being the stem and the s being the affix representing plurality.\" ([sursa](https://colab.research.google.com/github/dair-ai/notebooks/blob/master/_notebooks/2020-03-19-nlp_basics_tokenization_segmentation.ipynb#scrollTo=dcaLqxPX5CJa))\n",
    "\n",
    "## Pros:\n",
    "- este mai rapida ca lematizarea\n",
    "- se adapteaza mai usor la cuvinte noi aparute in limba\n",
    "\n",
    "## Cons\n",
    "- rezultatele nu sunt intotdeauna, cuvinte existente in limba\n"
   ]
  },
  {
   "cell_type": "code",
   "execution_count": 36,
   "metadata": {
    "colab": {
     "base_uri": "https://localhost:8080/"
    },
    "id": "xp-zkrcdV2B9",
    "outputId": "f04fc56a-ca8e-4245-da4a-a4768ff9125d"
   },
   "outputs": [
    {
     "name": "stdout",
     "output_type": "stream",
     "text": [
      "Apples => apple\n",
      "and => and\n",
      "oranges => orange\n",
      "are => be\n",
      "similar => similar\n",
      "boots => boot\n",
      "and => and\n",
      "hippos => hippo\n",
      "are => be\n",
      "n't => not\n"
     ]
    }
   ],
   "source": [
    "doc = nlp(\"Apples and oranges are similar boots and hippos aren't\")\n",
    "for word in doc:\n",
    "    print(word, '=>', word.lemma_)"
   ]
  },
  {
   "cell_type": "code",
   "execution_count": 37,
   "metadata": {
    "colab": {
     "base_uri": "https://localhost:8080/"
    },
    "id": "JzFUBINBSybR",
    "outputId": "fd66b136-0de2-4638-abf9-5f9ec8076ec9"
   },
   "outputs": [
    {
     "name": "stdout",
     "output_type": "stream",
     "text": [
      "I => i\n",
      "prefer => prefer\n",
      "not => not\n",
      "to => to\n",
      "argue => argu\n"
     ]
    }
   ],
   "source": [
    "# spaCy doesn't support stemming so for this part we are going to use NLTK, which is another fantastic Python NLP library.\n",
    "from nltk.stem.snowball import SnowballStemmer\n",
    "\n",
    "stemmer = SnowballStemmer(language='english')\n",
    "doc = 'I prefer not to argue'\n",
    "for token in doc.split(\" \"):\n",
    "    print(token, '=>' , stemmer.stem(token))"
   ]
  },
  {
   "cell_type": "markdown",
   "metadata": {
    "id": "UNYz-8XPOlm7"
   },
   "source": [
    "Pentru procesarea datelor din social media putem folosi și librării dedicate, cum ar fi `Preprocessor`: https://github.com/s/preprocessor"
   ]
  },
  {
   "cell_type": "markdown",
   "metadata": {
    "id": "FRqdyJYsS4dZ"
   },
   "source": [
    "Collocations: in functie de context, putem analiza din toate n-gramele (de cuvinte sau caractere) cel mai probabile sa apara impreuna.\n",
    "\n",
    "Exemlu: bigrama - pereche de cuvinte cu sanse mari sa coexiste:\n",
    "('Jegar', 'Sahadutha'), ('Salt', 'Sea'), ('aromatic', 'resin').\n",
    "\n",
    "Putem aplica cateva functii din pachetul [collocations](https://www.nltk.org/howto/collocations.html) pe cuvintele gasite pe twitter, pentru a gasi top 15 bigrame folosind [Pointwise Mutual Information](https://en.wikipedia.org/wiki/Pointwise_mutual_information)."
   ]
  },
  {
   "cell_type": "code",
   "execution_count": 38,
   "metadata": {
    "colab": {
     "base_uri": "https://localhost:8080/"
    },
    "id": "-ZNzug2iS7tV",
    "outputId": "3e84ba2f-b5f4-42fd-b7a7-546e3c326e72"
   },
   "outputs": [
    {
     "data": {
      "text/plain": "[('a', 'little'),\n ('aftie', 'goodmorning'),\n ('ah', 'found'),\n ('an', 'attack'),\n ('ariana', 'grande'),\n ('arrived', 'new'),\n ('attack', 'plan'),\n ('bb', 'will'),\n ('birds', 'out'),\n ('can', 'definitely'),\n ('cheers', 'massive'),\n ('dm', 'tired'),\n ('dream', 'job'),\n ('full', 'album'),\n ('fully', 'intend')]"
     },
     "execution_count": 38,
     "metadata": {},
     "output_type": "execute_result"
    }
   ],
   "source": [
    "from nltk.collocations import BigramAssocMeasures, BigramCollocationFinder\n",
    "bigram_measures = BigramAssocMeasures()\n",
    "colloc_founder = BigramCollocationFinder.from_words(all_words)\n",
    "\n",
    "bigram_results = colloc_founder.nbest(bigram_measures.pmi, 15)\n",
    "bigram_results"
   ]
  },
  {
   "cell_type": "markdown",
   "metadata": {
    "id": "C2fNsFHSwAhU"
   },
   "source": [
    "## Unidecode \n",
    "Aduce caracterele utf8 la cea mai apropiata forma ASCII a lor. Este utila atat  pentru inlocuirea diacriticilor limbii romane, cat si pentru a gasi un echivalent pentru 'romanizarea' caracterele asiatice (desi obtine rezultate diferite de Hepburn)."
   ]
  },
  {
   "cell_type": "code",
   "execution_count": 39,
   "metadata": {
    "colab": {
     "base_uri": "https://localhost:8080/"
    },
    "id": "u5BIgaTjvwwt",
    "outputId": "327adfdc-441f-4c56-d0a2-90fb700cbc08"
   },
   "outputs": [
    {
     "name": "stdout",
     "output_type": "stream",
     "text": [
      "\u001B[33mDEPRECATION: Python 2.7 reached the end of its life on January 1st, 2020. Please upgrade your Python as Python 2.7 is no longer maintained. pip 21.0 will drop support for Python 2.7 in January 2021. More details about Python 2 support in pip can be found at https://pip.pypa.io/en/latest/development/release-process/#python-2-support pip 21.0 will remove support for this functionality.\u001B[0m\r\n",
      "Defaulting to user installation because normal site-packages is not writeable\r\n",
      "Collecting Unidecode\r\n",
      "  Downloading Unidecode-1.2.0-py2.py3-none-any.whl (241 kB)\r\n",
      "\u001B[K     |████████████████████████████████| 241 kB 1.1 MB/s eta 0:00:01\r\n",
      "\u001B[?25hInstalling collected packages: Unidecode\r\n",
      "Successfully installed Unidecode-1.2.0\r\n",
      "\u001B[33mWARNING: You are using pip version 20.3.4; however, version 22.0.3 is available.\r\n",
      "You should consider upgrading via the '/usr/bin/python2.7 -m pip install --upgrade pip' command.\u001B[0m\r\n"
     ]
    }
   ],
   "source": [
    "!pip install Unidecode"
   ]
  },
  {
   "cell_type": "code",
   "execution_count": 4,
   "metadata": {
    "colab": {
     "base_uri": "https://localhost:8080/",
     "height": 35
    },
    "id": "T4s4gTk5TdEm",
    "outputId": "a814a9de-eae5-4cc2-8eac-8d4452b2f582"
   },
   "outputs": [
    {
     "data": {
      "text/plain": "'Lenesul mai mult alearga, scumpul mai mult pagubeste'"
     },
     "execution_count": 4,
     "metadata": {},
     "output_type": "execute_result"
    }
   ],
   "source": [
    "from unidecode import unidecode\n",
    "unidecode('Leneşul mai mult aleargă, scumpul mai mult păgubeşte')"
   ]
  },
  {
   "cell_type": "code",
   "execution_count": 5,
   "metadata": {
    "colab": {
     "base_uri": "https://localhost:8080/",
     "height": 35
    },
    "id": "EByAQYdDwZmc",
    "outputId": "3a816d0e-6dc1-49d8-bf8e-a3151f48649f"
   },
   "outputs": [
    {
     "data": {
      "text/plain": "'Bei Jing '"
     },
     "execution_count": 5,
     "metadata": {},
     "output_type": "execute_result"
    }
   ],
   "source": [
    "unidecode('北京')"
   ]
  },
  {
   "cell_type": "markdown",
   "metadata": {
    "id": "fESW_eHdTEL9"
   },
   "source": [
    "# TASK:\n",
    "\n",
    "###Deadline: 10 martie ora 23:59.\n",
    "###Formular pentru trimiterea temei: https://forms.gle/kMcWxv8e39wwXy1W7.\n",
    "\n",
    "\n",
    "Folosind datasetul urmator, https://github.com/ancatache/LaRoSeDa/tree/main/data - o colectie de review-uri pentru produse in romana, rezolvati urmatoarele cerinte:"
   ]
  },
  {
   "cell_type": "markdown",
   "metadata": {
    "id": "XTPecjhoTEAJ"
   },
   "source": [
    "1. Curatati si normalizati corpus-ul aplicand urmatoarele operatiii:\n",
    "\n",
    "    a) afisati caracterele diferite de literele mici ale alfabetului englez\n",
    "\n",
    "    b) transformati numerele in cuvinte folosind num2words   \n",
    "\n",
    "    c) eliminati linkurile si alte referinte\n",
    "\n",
    "    d) curatati-l de semnele de punctuatie\n",
    "\n",
    "    e) impartiti textele in cuvinte (tokens), va recomandam sa folositi `spacy` incarcand unul din modelele pentru limba romana (https://spacy.io/models/ro)\n",
    "\n",
    "    f) eliminati stopwords  \n",
    "\n",
    "    g) aplicati stemming  \n",
    "\n",
    "    h) aplicati lematizare peste cuvintele obtinute la punctul f. Comparand cu rezultatele de la punctul g, afisati top 15 cuvinte pentru care stemul este diferit de lema, sortate descrescator dupa numarul de caractere prin care stemul difera de lema.\n",
    "\n",
    "    i) cautati top 20 trigrame (collocations)\n",
    "\n",
    "\n",
    "2. Calculati frecventele de aparitie ale fiecarui token la punctul e) si punctul g). Plotati-le cum doriti, prin wordcloud sau plotbar. Ce diferente observati? (intrucat numarul de cuvinte distincte poate fi mare, puteti plota informatii doar despre cele mai frecvente N cuvinte)\n",
    "\n",
    "\n",
    "3. Plotati distributia numarului de tokens per review (nr. de reviews vs. nr. de tokens), atat pentru review-urile negative, cat si, separat, pentru cele pozitive. Ce observati?"
   ]
  },
  {
   "cell_type": "code",
   "execution_count": 2,
   "outputs": [],
   "source": [
    "import json\n",
    "import re\n",
    "from num2words import num2words\n"
   ],
   "metadata": {
    "collapsed": false,
    "pycharm": {
     "name": "#%%\n"
    }
   }
  },
  {
   "cell_type": "code",
   "execution_count": 7,
   "outputs": [
    {
     "name": "stdout",
     "output_type": "stream",
     "text": [
      "['am analizat la sange toate bratarile de fitness si smartwatch-urile de pe piata de pana la 1.000 lei (bugetul maxim alocat de mine pentru aceasta investitie) si pot sa spun ca acesta avea cele mai pozite review-uri mai peste tot.... alternativa era un apple watch, al carui baterie nu tinea mult din ce am inteles (in jur de 1 zi jumatate).    despre ceas:    pro:   - l-am pus la incarcat in a 4-a zi, cu mentiunea ca inca mai avea 20% baterie (m-ar mai fi tinut o zi);  - pulsul este foarte precis - am testat comparativ cu un tensiometru si au aparut diferente de 1-2 batai pe minut (ceea ce este foarte bine);  - pasii sunt cat de cat corecti, cu o eroare de pana la 5% maximum, insa nu am stat sa verific fix pe fix sa vad daca e asa sau nu, aceasta fiind doar o estimare;  - alergatul il inregistreaza cum trebuie, la fel si exercitiile (le-am introdus la categoria \"workout\", insa sunt sigura ca si la celelalte functioneaza ok;  - somnul il monitorizeaza destul de foarte exact (daca ma ridic sa beau apa sau pana la toaleta si inapoi apare \"awake\", urmand sa inregistreze somnul in continuare daca te pui inapoi in pat sa dormi);  - este rezistent la apa;  - pot prelua sau respinge apelurile de pe telefon (functie foarte utila), insa odata ce ai raspuns, trebuie sa iei telefonul sa vorbesti efectiv.    contra:  - nu poti raspunde la mesaje de pe ceas (functie doar pentru android), insa pe mine nu ma deranjeaza asa tare;  - imi intra notificari doar pentru mesaje si apeluri.    una peste alta este un dispozitiv foarte bun si clar nu il voi returna (aveam de gand sa fac asta daca nu s-ar fi ridicat la inaltimea asteptarile pe care le aveam de la un astfel de dispozitiv).    recomand!:)', 'super', 'este un produs de calitate, iar livrarea comenzii a fost facuta intr-un timp scurt.', 'foarte ok suportul. sta bine fixat de bordul masinii. raport calitate pret bun.', 'daca aveti acest ceas si se descarca bateria foarte repede (20%-25% pe zi) trebuie sa faceti update la versiune de soft peste 12.30 (faceti cu auto update sau manual cu garmin express)  aici puteti verifica ultima versiune de soft (momentan este 12.40):  www8.garmin.com/support/download_details.jsp    cu versiunea 12.40 consuma cam 3-4% pe zi (cu senzorul de puls activ)', 'merge foarte bine! recomand', 'tableta e foarte buna. este cea originala cu meniul la prima pornire in romana. sunt multumit!', 'l-am primit cadou si sunt foarte incantata! nu este doar un smartwatch, dar si eu accesoriu, bratara metalica aratand foarte bine la mana.', 'o super boxa micuta si inimoasa de la un producator de top achizitionata la un pret wow.', 'este ok sunt multumit, cu toate ca nu am prins o reducere buna.']\n"
     ]
    }
   ],
   "source": [
    "with open(\"positive_reviews.json\", 'r') as fin:\n",
    "    positive_reviews = json.load(fin)\n",
    "with open(\"negative_reviews.json\", 'r') as fin:\n",
    "    negative_reviews = json.load(fin)\n",
    "reviews_data = [review['content'] for review in [*positive_reviews['reviews'], *negative_reviews['reviews']]]\n",
    "# small_reviews_data = reviews_data[:100]\n",
    "print(reviews_data[:10])\n"
   ],
   "metadata": {
    "collapsed": false,
    "pycharm": {
     "name": "#%%\n"
    }
   }
  },
  {
   "cell_type": "code",
   "execution_count": 35,
   "metadata": {
    "id": "i1WBKZ7ZcOd6"
   },
   "outputs": [
    {
     "name": "stdout",
     "output_type": "stream",
     "text": [
      "×✌ƒ~«<”£&>—1(}™\\°.'️^ğ–“í！|¡☺8=̶ā✓à@3é…•0‘ű/ī¿ á_4↓2%+\"5`$⭐®6!:;{*€åω⛤[▪7#❤9]»̇’→)„ä,?-\n"
     ]
    }
   ],
   "source": [
    "# 1 a)\n",
    "# aici am 2 variante, prima e fara litere de orice fel si spatii, al 2-lea e mai permisiv\n",
    "punctuation_set = []\n",
    "# reviews_no_letters = [re.sub(r'[\\w\\s]', '', review) for review in reviews_data]\n",
    "# >=✓¿»%↓\"?@£¡}°✌‘…•\\]$;❤“`'&×⛤☺”:—™’,̇！̶{⭐#–^|(+.-▪/!~)️→®<«*[€„\n",
    "reviews_no_letters = [re.sub(r'[a-z]', '', review) for review in reviews_data]\n",
    "# ✓»%ä↓?@é¡° ✌‘6$;❤8'×4☺”53™’！̶ğ9å–⭐#á^7|▪_-02~️)«®€„\">=à¿ű1£}…•\\]`“&⛤:—,íī̇{*ā+./ω!→ƒ<([\n",
    "for punctuation in reviews_no_letters:\n",
    "    punctuation_set = list(set(punctuation_set) | set(punctuation))\n",
    "punctuation_set = \"\".join(punctuation_set)\n",
    "\n",
    "print(punctuation_set)\n"
   ]
  },
  {
   "cell_type": "code",
   "execution_count": 9,
   "outputs": [
    {
     "name": "stdout",
     "output_type": "stream",
     "text": [
      "['am analizat la sange toate bratarile de fitness si smartwatch-urile de pe piata de pana la unu.zero lei (bugetul maxim alocat de mine pentru aceasta investitie) si pot sa spun ca acesta avea cele mai pozite review-uri mai peste tot.... alternativa era un apple watch, al carui baterie nu tinea mult din ce am inteles (in jur de unu zi jumatate).    despre ceas:    pro:   - l-am pus la incarcat in a patru-a zi, cu mentiunea ca inca mai avea douăzeci% baterie (m-ar mai fi tinut o zi);  - pulsul este foarte precis - am testat comparativ cu un tensiometru si au aparut diferente de unu-doi batai pe minut (ceea ce este foarte bine);  - pasii sunt cat de cat corecti, cu o eroare de pana la cinci% maximum, insa nu am stat sa verific fix pe fix sa vad daca e asa sau nu, aceasta fiind doar o estimare;  - alergatul il inregistreaza cum trebuie, la fel si exercitiile (le-am introdus la categoria \"workout\", insa sunt sigura ca si la celelalte functioneaza ok;  - somnul il monitorizeaza destul de foarte exact (daca ma ridic sa beau apa sau pana la toaleta si inapoi apare \"awake\", urmand sa inregistreze somnul in continuare daca te pui inapoi in pat sa dormi);  - este rezistent la apa;  - pot prelua sau respinge apelurile de pe telefon (functie foarte utila), insa odata ce ai raspuns, trebuie sa iei telefonul sa vorbesti efectiv.    contra:  - nu poti raspunde la mesaje de pe ceas (functie doar pentru android), insa pe mine nu ma deranjeaza asa tare;  - imi intra notificari doar pentru mesaje si apeluri.    una peste alta este un dispozitiv foarte bun si clar nu il voi returna (aveam de gand sa fac asta daca nu s-ar fi ridicat la inaltimea asteptarile pe care le aveam de la un astfel de dispozitiv).    recomand!:)', 'super', 'este un produs de calitate, iar livrarea comenzii a fost facuta intr-un timp scurt.', 'foarte ok suportul. sta bine fixat de bordul masinii. raport calitate pret bun.', 'daca aveti acest ceas si se descarca bateria foarte repede (douăzeci%-douăzeci și cinci% pe zi) trebuie sa faceti update la versiune de soft peste doisprezece.treizeci (faceti cu auto update sau manual cu garmin express)  aici puteti verifica ultima versiune de soft (momentan este doisprezece.patruzeci):  wwwopt.garmin.com/support/download_details.jsp    cu versiunea doisprezece.patruzeci consuma cam trei-patru% pe zi (cu senzorul de puls activ)', 'merge foarte bine! recomand', 'tableta e foarte buna. este cea originala cu meniul la prima pornire in romana. sunt multumit!', 'l-am primit cadou si sunt foarte incantata! nu este doar un smartwatch, dar si eu accesoriu, bratara metalica aratand foarte bine la mana.', 'o super boxa micuta si inimoasa de la un producator de top achizitionata la un pret wow.', 'este ok sunt multumit, cu toate ca nu am prins o reducere buna.']\n"
     ]
    }
   ],
   "source": [
    "# 1 b)\n",
    "reviews_with_numbers = []\n",
    "for review in reviews_data:\n",
    "    modified_data = re.sub(r\"(\\d+)\", lambda x: num2words(int(x.group(0)), lang=\"romanian\" ), review)\n",
    "    reviews_with_numbers.append(modified_data)\n",
    "print(reviews_with_numbers[:10])\n"
   ],
   "metadata": {
    "collapsed": false,
    "pycharm": {
     "name": "#%%\n"
    }
   }
  },
  {
   "cell_type": "code",
   "execution_count": 11,
   "outputs": [
    {
     "name": "stdout",
     "output_type": "stream",
     "text": [
      "['am analizat la sange toate bratarile de fitness si smartwatch-urile de pe piata de pana la unu.zero lei (bugetul maxim alocat de mine pentru aceasta investitie) si pot sa spun ca acesta avea cele mai pozite review-uri mai peste tot.... alternativa era un apple watch, al carui baterie nu tinea mult din ce am inteles (in jur de unu zi jumatate).    despre ceas:    pro:   - l-am pus la incarcat in a patru-a zi, cu mentiunea ca inca mai avea douăzeci% baterie (m-ar mai fi tinut o zi);  - pulsul este foarte precis - am testat comparativ cu un tensiometru si au aparut diferente de unu-doi batai pe minut (ceea ce este foarte bine);  - pasii sunt cat de cat corecti, cu o eroare de pana la cinci% maximum, insa nu am stat sa verific fix pe fix sa vad daca e asa sau nu, aceasta fiind doar o estimare;  - alergatul il inregistreaza cum trebuie, la fel si exercitiile (le-am introdus la categoria \"workout\", insa sunt sigura ca si la celelalte functioneaza ok;  - somnul il monitorizeaza destul de foarte exact (daca ma ridic sa beau apa sau pana la toaleta si inapoi apare \"awake\", urmand sa inregistreze somnul in continuare daca te pui inapoi in pat sa dormi);  - este rezistent la apa;  - pot prelua sau respinge apelurile de pe telefon (functie foarte utila), insa odata ce ai raspuns, trebuie sa iei telefonul sa vorbesti efectiv.    contra:  - nu poti raspunde la mesaje de pe ceas (functie doar pentru android), insa pe mine nu ma deranjeaza asa tare;  - imi intra notificari doar pentru mesaje si apeluri.    una peste alta este un dispozitiv foarte bun si clar nu il voi returna (aveam de gand sa fac asta daca nu s-ar fi ridicat la inaltimea asteptarile pe care le aveam de la un astfel de dispozitiv).    recomand!:)', 'super', 'este un produs de calitate, iar livrarea comenzii a fost facuta intr-un timp scurt.', 'foarte ok suportul. sta bine fixat de bordul masinii. raport calitate pret bun.', 'daca aveti acest ceas si se descarca bateria foarte repede (douăzeci%-douăzeci și cinci% pe zi) trebuie sa faceti update la versiune de soft peste doisprezece.treizeci (faceti cu auto update sau manual cu garmin express)  aici puteti verifica ultima versiune de soft (momentan este doisprezece.patruzeci):      cu versiunea doisprezece.patruzeci consuma cam trei-patru% pe zi (cu senzorul de puls activ)', 'merge foarte bine! recomand', 'tableta e foarte buna. este cea originala cu meniul la prima pornire in romana. sunt multumit!', 'l-am primit cadou si sunt foarte incantata! nu este doar un smartwatch, dar si eu accesoriu, bratara metalica aratand foarte bine la mana.', 'o super boxa micuta si inimoasa de la un producator de top achizitionata la un pret wow.', 'este ok sunt multumit, cu toate ca nu am prins o reducere buna.']\n"
     ]
    }
   ],
   "source": [
    "# 1 c)\n",
    "reviews_no_links = [re.sub(r'http\\S+|www\\S+', '', review) for review in reviews_with_numbers]\n",
    "print(reviews_no_links[:10])\n"
   ],
   "metadata": {
    "collapsed": false,
    "pycharm": {
     "name": "#%%\n"
    }
   }
  },
  {
   "cell_type": "code",
   "execution_count": 20,
   "outputs": [
    {
     "name": "stdout",
     "output_type": "stream",
     "text": [
      "['am analizat la sange toate bratarile de fitness si smartwatchurile de pe piata de pana la unuzero lei bugetul maxim alocat de mine pentru aceasta investitie si pot sa spun ca acesta avea cele mai pozite reviewuri mai peste tot alternativa era un apple watch al carui baterie nu tinea mult din ce am inteles in jur de unu zi jumatate despre ceas pro lam pus la incarcat in a patrua zi cu mentiunea ca inca mai avea douăzeci baterie mar mai fi tinut o zi pulsul este foarte precis am testat comparativ cu un tensiometru si au aparut diferente de unudoi batai pe minut ceea ce este foarte bine pasii sunt cat de cat corecti cu o eroare de pana la cinci maximum insa nu am stat sa verific fix pe fix sa vad daca e asa sau nu aceasta fiind doar o estimare alergatul il inregistreaza cum trebuie la fel si exercitiile leam introdus la categoria workout insa sunt sigura ca si la celelalte functioneaza ok somnul il monitorizeaza destul de foarte exact daca ma ridic sa beau apa sau pana la toaleta si inapoi apare awake urmand sa inregistreze somnul in continuare daca te pui inapoi in pat sa dormi este rezistent la apa pot prelua sau respinge apelurile de pe telefon functie foarte utila insa odata ce ai raspuns trebuie sa iei telefonul sa vorbesti efectiv contra nu poti raspunde la mesaje de pe ceas functie doar pentru android insa pe mine nu ma deranjeaza asa tare imi intra notificari doar pentru mesaje si apeluri una peste alta este un dispozitiv foarte bun si clar nu il voi returna aveam de gand sa fac asta daca nu sar fi ridicat la inaltimea asteptarile pe care le aveam de la un astfel de dispozitiv recomand', 'super', 'este un produs de calitate iar livrarea comenzii a fost facuta intrun timp scurt', 'foarte ok suportul sta bine fixat de bordul masinii raport calitate pret bun', 'daca aveti acest ceas si se descarca bateria foarte repede douăzecidouăzeci și cinci pe zi trebuie sa faceti update la versiune de soft peste doisprezecetreizeci faceti cu auto update sau manual cu garmin express aici puteti verifica ultima versiune de soft momentan este doisprezecepatruzeci cu versiunea doisprezecepatruzeci consuma cam treipatru pe zi cu senzorul de puls activ', 'merge foarte bine recomand', 'tableta e foarte buna este cea originala cu meniul la prima pornire in romana sunt multumit', 'lam primit cadou si sunt foarte incantata nu este doar un smartwatch dar si eu accesoriu bratara metalica aratand foarte bine la mana', 'o super boxa micuta si inimoasa de la un producator de top achizitionata la un pret wow', 'este ok sunt multumit cu toate ca nu am prins o reducere buna']\n"
     ]
    }
   ],
   "source": [
    "# 1 d)\n",
    "reviews_no_punctuation = [re.sub(r'[^\\w\\s]', '', review) for review in reviews_no_links]\n",
    "reviews_no_punctuation = [re.sub(r'\\s+', ' ', review) for review in reviews_no_punctuation] # removing the extra spaces.\n",
    "print(reviews_no_punctuation[:10])\n",
    "\n"
   ],
   "metadata": {
    "collapsed": false,
    "pycharm": {
     "name": "#%%\n"
    }
   }
  },
  {
   "cell_type": "code",
   "execution_count": null,
   "outputs": [],
   "source": [],
   "metadata": {
    "collapsed": false,
    "pycharm": {
     "name": "#%%\n"
    }
   }
  },
  {
   "cell_type": "code",
   "execution_count": null,
   "outputs": [],
   "source": [],
   "metadata": {
    "collapsed": false,
    "pycharm": {
     "name": "#%%\n"
    }
   }
  },
  {
   "cell_type": "code",
   "execution_count": 22,
   "outputs": [
    {
     "name": "stdout",
     "output_type": "stream",
     "text": [
      "Defaulting to user installation because normal site-packages is not writeable\r\n",
      "Collecting ro-core-news-sm==3.2.0\r\n",
      "  Downloading https://github.com/explosion/spacy-models/releases/download/ro_core_news_sm-3.2.0/ro_core_news_sm-3.2.0-py3-none-any.whl (16.6 MB)\r\n",
      "     |████████████████████████████████| 16.6 MB 1.2 MB/s            \r\n",
      "\u001B[?25hRequirement already satisfied: spacy<3.3.0,>=3.2.0 in /usr/lib/python3.10/site-packages (from ro-core-news-sm==3.2.0) (3.2.2)\r\n",
      "Requirement already satisfied: spacy-legacy<3.1.0,>=3.0.8 in /usr/lib/python3.10/site-packages (from spacy<3.3.0,>=3.2.0->ro-core-news-sm==3.2.0) (3.0.8)\r\n",
      "Requirement already satisfied: spacy-loggers<2.0.0,>=1.0.0 in /usr/lib/python3.10/site-packages (from spacy<3.3.0,>=3.2.0->ro-core-news-sm==3.2.0) (1.0.1)\r\n",
      "Requirement already satisfied: jinja2 in /usr/lib/python3.10/site-packages (from spacy<3.3.0,>=3.2.0->ro-core-news-sm==3.2.0) (3.0.3)\r\n",
      "Requirement already satisfied: pathy>=0.3.5 in /usr/lib/python3.10/site-packages (from spacy<3.3.0,>=3.2.0->ro-core-news-sm==3.2.0) (0.6.1)\r\n",
      "Requirement already satisfied: packaging>=20.0 in /usr/lib/python3.10/site-packages (from spacy<3.3.0,>=3.2.0->ro-core-news-sm==3.2.0) (20.9)\r\n",
      "Requirement already satisfied: requests<3.0.0,>=2.13.0 in /usr/lib/python3.10/site-packages (from spacy<3.3.0,>=3.2.0->ro-core-news-sm==3.2.0) (2.26.0)\r\n",
      "Requirement already satisfied: cymem<2.1.0,>=2.0.2 in /usr/lib/python3.10/site-packages (from spacy<3.3.0,>=3.2.0->ro-core-news-sm==3.2.0) (2.0.6)\r\n",
      "Requirement already satisfied: tqdm<5.0.0,>=4.38.0 in /usr/lib/python3.10/site-packages (from spacy<3.3.0,>=3.2.0->ro-core-news-sm==3.2.0) (4.62.3)\r\n",
      "Requirement already satisfied: setuptools in /usr/lib/python3.10/site-packages (from spacy<3.3.0,>=3.2.0->ro-core-news-sm==3.2.0) (59.1.1)\r\n",
      "Requirement already satisfied: blis<0.8.0,>=0.4.0 in /usr/lib/python3.10/site-packages (from spacy<3.3.0,>=3.2.0->ro-core-news-sm==3.2.0) (0.7.5)\r\n",
      "Requirement already satisfied: numpy>=1.15.0 in /usr/lib/python3.10/site-packages (from spacy<3.3.0,>=3.2.0->ro-core-news-sm==3.2.0) (1.22.2)\r\n",
      "Requirement already satisfied: preshed<3.1.0,>=3.0.2 in /usr/lib/python3.10/site-packages (from spacy<3.3.0,>=3.2.0->ro-core-news-sm==3.2.0) (3.0.6)\r\n",
      "Requirement already satisfied: srsly<3.0.0,>=2.4.1 in /usr/lib/python3.10/site-packages (from spacy<3.3.0,>=3.2.0->ro-core-news-sm==3.2.0) (2.4.2)\r\n",
      "Requirement already satisfied: murmurhash<1.1.0,>=0.28.0 in /usr/lib/python3.10/site-packages (from spacy<3.3.0,>=3.2.0->ro-core-news-sm==3.2.0) (1.0.6)\r\n",
      "Requirement already satisfied: catalogue<2.1.0,>=2.0.6 in /usr/lib/python3.10/site-packages (from spacy<3.3.0,>=3.2.0->ro-core-news-sm==3.2.0) (2.0.6)\r\n",
      "Requirement already satisfied: thinc<8.1.0,>=8.0.12 in /usr/lib/python3.10/site-packages (from spacy<3.3.0,>=3.2.0->ro-core-news-sm==3.2.0) (8.0.13)\r\n",
      "Requirement already satisfied: langcodes<4.0.0,>=3.2.0 in /usr/lib/python3.10/site-packages (from spacy<3.3.0,>=3.2.0->ro-core-news-sm==3.2.0) (3.3.0)\r\n",
      "Requirement already satisfied: typer<0.5.0,>=0.3.0 in /usr/lib/python3.10/site-packages (from spacy<3.3.0,>=3.2.0->ro-core-news-sm==3.2.0) (0.4.0)\r\n",
      "Requirement already satisfied: pydantic!=1.8,!=1.8.1,<1.9.0,>=1.7.4 in /usr/lib/python3.10/site-packages (from spacy<3.3.0,>=3.2.0->ro-core-news-sm==3.2.0) (1.8.2)\r\n",
      "Requirement already satisfied: wasabi<1.1.0,>=0.8.1 in /usr/lib/python3.10/site-packages (from spacy<3.3.0,>=3.2.0->ro-core-news-sm==3.2.0) (0.9.0)\r\n",
      "Requirement already satisfied: pyparsing>=2.0.2 in /usr/lib/python3.10/site-packages (from packaging>=20.0->spacy<3.3.0,>=3.2.0->ro-core-news-sm==3.2.0) (2.4.7)\r\n",
      "Requirement already satisfied: smart-open<6.0.0,>=5.0.0 in /usr/lib/python3.10/site-packages (from pathy>=0.3.5->spacy<3.3.0,>=3.2.0->ro-core-news-sm==3.2.0) (5.2.1)\r\n",
      "Requirement already satisfied: typing-extensions>=3.7.4.3 in /usr/lib/python3.10/site-packages (from pydantic!=1.8,!=1.8.1,<1.9.0,>=1.7.4->spacy<3.3.0,>=3.2.0->ro-core-news-sm==3.2.0) (4.0.1)\r\n",
      "Requirement already satisfied: chardet>=3.0.2 in /usr/lib/python3.10/site-packages (from requests<3.0.0,>=2.13.0->spacy<3.3.0,>=3.2.0->ro-core-news-sm==3.2.0) (4.0.0)\r\n",
      "Requirement already satisfied: idna>=2.5 in /usr/lib/python3.10/site-packages (from requests<3.0.0,>=2.13.0->spacy<3.3.0,>=3.2.0->ro-core-news-sm==3.2.0) (3.3)\r\n",
      "Requirement already satisfied: urllib3>=1.21.1 in /usr/lib/python3.10/site-packages (from requests<3.0.0,>=2.13.0->spacy<3.3.0,>=3.2.0->ro-core-news-sm==3.2.0) (1.26.8)\r\n",
      "Requirement already satisfied: click<9.0.0,>=7.1.1 in /usr/lib/python3.10/site-packages (from typer<0.5.0,>=0.3.0->spacy<3.3.0,>=3.2.0->ro-core-news-sm==3.2.0) (8.0.3)\r\n",
      "Requirement already satisfied: MarkupSafe>=2.0 in /usr/lib/python3.10/site-packages (from jinja2->spacy<3.3.0,>=3.2.0->ro-core-news-sm==3.2.0) (2.0.1)\r\n",
      "Installing collected packages: ro-core-news-sm\r\n",
      "Successfully installed ro-core-news-sm-3.2.0\r\n",
      "\u001B[38;5;2m✔ Download and installation successful\u001B[0m\r\n",
      "You can now load the package via spacy.load('ro_core_news_sm')\r\n"
     ]
    }
   ],
   "source": [
    " # ! python -m spacy download ro_core_news_sm\n"
   ],
   "metadata": {
    "collapsed": false,
    "pycharm": {
     "name": "#%%\n"
    }
   }
  },
  {
   "cell_type": "code",
   "execution_count": 37,
   "outputs": [
    {
     "name": "stdout",
     "output_type": "stream",
     "text": [
      "[['am', 'analizat', 'la', 'sange', 'toate', 'bratarile', 'de', 'fitness', 'si', 'smartwatchurile', 'de', 'pe', 'piata', 'de', 'pana', 'la', 'unuzero', 'lei', 'bugetul', 'maxim', 'alocat', 'de', 'mine', 'pentru', 'aceasta', 'investitie', 'si', 'pot', 'sa', 'spun', 'ca', 'acesta', 'avea', 'cele', 'mai', 'pozite', 'reviewuri', 'mai', 'peste', 'tot', 'alternativa', 'era', 'un', 'apple', 'watch', 'al', 'carui', 'baterie', 'nu', 'tinea', 'mult', 'din', 'ce', 'am', 'inteles', 'in', 'jur', 'de', 'unu', 'zi', 'jumatate', 'despre', 'ceas', 'pro', 'lam', 'pus', 'la', 'incarcat', 'in', 'a', 'patrua', 'zi', 'cu', 'mentiunea', 'ca', 'inca', 'mai', 'avea', 'douăzeci', 'baterie', 'mar', 'mai', 'fi', 'tinut', 'o', 'zi', 'pulsul', 'este', 'foarte', 'precis', 'am', 'testat', 'comparativ', 'cu', 'un', 'tensiometru', 'si', 'au', 'aparut', 'diferente', 'de', 'unudoi', 'batai', 'pe', 'minut', 'ceea', 'ce', 'este', 'foarte', 'bine', 'pasii', 'sunt', 'cat', 'de', 'cat', 'corecti', 'cu', 'o', 'eroare', 'de', 'pana', 'la', 'cinci', 'maximum', 'insa', 'nu', 'am', 'stat', 'sa', 'verific', 'fix', 'pe', 'fix', 'sa', 'vad', 'daca', 'e', 'asa', 'sau', 'nu', 'aceasta', 'fiind', 'doar', 'o', 'estimare', 'alergatul', 'il', 'inregistreaza', 'cum', 'trebuie', 'la', 'fel', 'si', 'exercitiile', 'leam', 'introdus', 'la', 'categoria', 'workout', 'insa', 'sunt', 'sigura', 'ca', 'si', 'la', 'celelalte', 'functioneaza', 'ok', 'somnul', 'il', 'monitorizeaza', 'destul', 'de', 'foarte', 'exact', 'daca', 'ma', 'ridic', 'sa', 'beau', 'apa', 'sau', 'pana', 'la', 'toaleta', 'si', 'inapoi', 'apare', 'awake', 'urmand', 'sa', 'inregistreze', 'somnul', 'in', 'continuare', 'daca', 'te', 'pui', 'inapoi', 'in', 'pat', 'sa', 'dormi', 'este', 'rezistent', 'la', 'apa', 'pot', 'prelua', 'sau', 'respinge', 'apelurile', 'de', 'pe', 'telefon', 'functie', 'foarte', 'utila', 'insa', 'odata', 'ce', 'ai', 'raspuns', 'trebuie', 'sa', 'iei', 'telefonul', 'sa', 'vorbesti', 'efectiv', 'contra', 'nu', 'poti', 'raspunde', 'la', 'mesaje', 'de', 'pe', 'ceas', 'functie', 'doar', 'pentru', 'android', 'insa', 'pe', 'mine', 'nu', 'ma', 'deranjeaza', 'asa', 'tare', 'imi', 'intra', 'notificari', 'doar', 'pentru', 'mesaje', 'si', 'apeluri', 'una', 'peste', 'alta', 'este', 'un', 'dispozitiv', 'foarte', 'bun', 'si', 'clar', 'nu', 'il', 'voi', 'returna', 'aveam', 'de', 'gand', 'sa', 'fac', 'asta', 'daca', 'nu', 'sar', 'fi', 'ridicat', 'la', 'inaltimea', 'asteptarile', 'pe', 'care', 'le', 'aveam', 'de', 'la', 'un', 'astfel', 'de', 'dispozitiv', 'recomand'], ['super'], ['este', 'un', 'produs', 'de', 'calitate', 'iar', 'livrarea', 'comenzii', 'a', 'fost', 'facuta', 'intrun', 'timp', 'scurt'], ['foarte', 'ok', 'suportul', 'sta', 'bine', 'fixat', 'de', 'bordul', 'masinii', 'raport', 'calitate', 'pret', 'bun'], ['daca', 'aveti', 'acest', 'ceas', 'si', 'se', 'descarca', 'bateria', 'foarte', 'repede', 'douăzecidouăzeci', 'și', 'cinci', 'pe', 'zi', 'trebuie', 'sa', 'faceti', 'update', 'la', 'versiune', 'de', 'soft', 'peste', 'doisprezecetreizeci', 'faceti', 'cu', 'auto', 'update', 'sau', 'manual', 'cu', 'garmin', 'express', 'aici', 'puteti', 'verifica', 'ultima', 'versiune', 'de', 'soft', 'momentan', 'este', 'doisprezecepatruzeci', 'cu', 'versiunea', 'doisprezecepatruzeci', 'consuma', 'cam', 'treipatru', 'pe', 'zi', 'cu', 'senzorul', 'de', 'puls', 'activ'], ['merge', 'foarte', 'bine', 'recomand'], ['tableta', 'e', 'foarte', 'buna', 'este', 'cea', 'originala', 'cu', 'meniul', 'la', 'prima', 'pornire', 'in', 'romana', 'sunt', 'multumit'], ['lam', 'primit', 'cadou', 'si', 'sunt', 'foarte', 'incantata', 'nu', 'este', 'doar', 'un', 'smartwatch', 'dar', 'si', 'eu', 'accesoriu', 'bratara', 'metalica', 'aratand', 'foarte', 'bine', 'la', 'mana'], ['o', 'super', 'boxa', 'micuta', 'si', 'inimoasa', 'de', 'la', 'un', 'producator', 'de', 'top', 'achizitionata', 'la', 'un', 'pret', 'wow'], ['este', 'ok', 'sunt', 'multumit', 'cu', 'toate', 'ca', 'nu', 'am', 'prins', 'o', 'reducere', 'buna']]\n"
     ]
    }
   ],
   "source": [
    "# 1 e)\n",
    "import spacy\n",
    "\n",
    "nlp = spacy.load(\"ro_core_news_sm\")\n",
    "tokenizer = nlp.tokenizer\n",
    "tokenized_reviews = []\n",
    "\n",
    "# Doc is a sequence of tokens object\n",
    "for doc in tokenizer.pipe(reviews_no_punctuation, batch_size=50):\n",
    "    tokenized_reviews.append([token.text for token in doc])\n",
    "print(tokenized_reviews[:10])\n",
    "\n"
   ],
   "metadata": {
    "collapsed": false,
    "pycharm": {
     "name": "#%%\n"
    }
   }
  },
  {
   "cell_type": "code",
   "execution_count": null,
   "outputs": [],
   "source": [],
   "metadata": {
    "collapsed": false,
    "pycharm": {
     "name": "#%%\n"
    }
   }
  }
 ],
 "metadata": {
  "colab": {
   "collapsed_sections": [],
   "name": "lab_2.ipynb",
   "provenance": []
  },
  "kernelspec": {
   "name": "python3",
   "language": "python",
   "display_name": "Python 3 (ipykernel)"
  },
  "language_info": {
   "codemirror_mode": {
    "name": "ipython",
    "version": 3
   },
   "file_extension": ".py",
   "mimetype": "text/x-python",
   "name": "python",
   "nbconvert_exporter": "python",
   "pygments_lexer": "ipython3",
   "version": "3.8.10"
  }
 },
 "nbformat": 4,
 "nbformat_minor": 0
}