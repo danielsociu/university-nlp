{
 "cells": [
  {
   "cell_type": "markdown",
   "source": [
    "# TASK\n",
    "\n",
    "### Deadline: 24 martie ora 23:59.\n",
    "### Formular pentru trimiterea temei: https://forms.gle/LKCMJmyhS8Z8m7Rc9\n"
   ],
   "metadata": {
    "collapsed": false
   }
  },
  {
   "cell_type": "markdown",
   "source": [
    "1. Porniti de la un dataset artificial generat cu ajutorul metodei [`make_classification`](https://scikit-learn.org/stable/modules/generated/sklearn.datasets.make_classification.html) din sklearn (minim 10000 de exemple, cu cel putin 100 de feature-uri relevante, grupate in cel putin 3 clase) sau puteti folosi un toy-dataset de [aici](https://scikit-learn.org/stable/datasets/toy_dataset.html).\n",
    "\n",
    "2. Definiti un model cu cel putin 3 layere lineare, dintre care ultimul are dimensiunea outputului egala cu numarul de clase. Aplicati dupa fiecare layer linear (cu exceptia ultimului) o functie de activare aleasa de voi.\n",
    "\n",
    "3. Impartiti datasetul in 80% train, 10% validare si 10% test. Creati cele trei dataloadere corespunzatoare fiecarui split.\n",
    "\n",
    "4. Definiti functia de loss (cross-entropy) si un optimizer (SGD, Adam, etc.).\n",
    "\n",
    "5. Antrenati modelul pentru mai multe epoci pe datele de train. La finalul fiecarei epoci evaluati performanta modelului pe datele de validare. Monitorizati la fiecare epoca eroarea medie si acuratetea pentru predictiile facute pe datele de train si separat pe datele de validare, pentru ca in cazul in care observati situatia de *overfit* sa puteti opri antrenarea.\n",
    "\n",
    "6. Salvati modelul cu cea mai buna eroare de validare, calculata la finalul epocii respective.\n",
    "\n",
    "7. Plotati pe acelasi grafic evolutia erorii de train si a erorii de validare la finalul fiecarei epoci. Plotati in alt grafic evolutia acuratetii pe datele de train si pe cele de validare.\n",
    "\n",
    "8. Evaluati modelul (eroare, acuratete, macro-f1, etc.) pe datele de test.\n",
    "\n",
    "9. Incercati sa adaugati dupa fiecare layer din model (cu exceptia ultimului) dropout cu un $p$ ales de voi. Analizati daca performanta unui model antrenat astfel este mai buna.\n"
   ],
   "metadata": {
    "collapsed": false
   }
  },
  {
   "cell_type": "code",
   "execution_count": 7,
   "outputs": [
    {
     "name": "stdout",
     "output_type": "stream",
     "text": [
      "[[  0.32256635   9.56807414   5.5639312  ...  -5.25092757   3.3985659\n",
      "   -2.47976429]\n",
      " [ -0.81052623  11.33103421 -16.37653105 ...   6.25319125   0.91365487\n",
      "    2.69922974]\n",
      " [ -1.27729385  -3.13630879  -8.98495374 ...   8.60008904   3.98029703\n",
      "   10.75129489]\n",
      " ...\n",
      " [ -1.01534994   2.6587725   -4.03618551 ...   9.89684477  -0.16574878\n",
      "    3.81514782]\n",
      " [  0.85715604   2.05073202  -3.81690273 ...  -4.80180125   2.67341345\n",
      "   -3.32629954]\n",
      " [  0.60445274   8.42594061   5.27353489 ... -12.95242205  -0.61731374\n",
      "   -0.81125657]]\n",
      "[4 2 4 3 1 1 3 4 4 1]\n"
     ]
    }
   ],
   "source": [
    "from sklearn.datasets import make_classification\n",
    "from sklearn.model_selection import train_test_split\n",
    "import torch as torch\n",
    "import numpy as np\n",
    "from torch.utils.data import DataLoader\n",
    "import sklearn.metrics as metrics\n",
    "import matplotlib.pyplot as plt\n",
    "\n",
    "# 1\n",
    "N_CLASSES = 5\n",
    "N_FEATURES = 200\n",
    "N_SAMPLES = 100000\n",
    "BATCH_SIZE = 128\n",
    "device = \"cuda\" if torch.cuda.is_available() else \"cpu\"\n",
    "\n",
    "X, y = make_classification(n_samples=N_SAMPLES, n_classes=N_CLASSES, n_features=N_FEATURES, n_informative=150, random_state=42)\n",
    "print(X[:10])\n",
    "print(y[:10])\n"
   ],
   "metadata": {
    "collapsed": false,
    "pycharm": {
     "name": "#%%\n"
    }
   }
  },
  {
   "cell_type": "code",
   "execution_count": 8,
   "outputs": [
    {
     "data": {
      "text/plain": "NetDropout(\n  (dropout): Dropout(p=0.2, inplace=False)\n  (linear1): Linear(in_features=200, out_features=100, bias=True)\n  (linear2): Linear(in_features=100, out_features=40, bias=True)\n  (linear3): Linear(in_features=40, out_features=5, bias=True)\n  (activation): ReLU()\n)"
     },
     "execution_count": 8,
     "metadata": {},
     "output_type": "execute_result"
    }
   ],
   "source": [
    "# 2\n",
    "class Net(torch.nn.Module):\n",
    "    def __init__(self):\n",
    "        super().__init__()\n",
    "        self.linear1 = torch.nn.Linear(in_features=N_FEATURES, out_features=100)\n",
    "        self.linear2 = torch.nn.Linear(in_features=100, out_features=40)\n",
    "        self.linear3 = torch.nn.Linear(in_features=40, out_features=5)\n",
    "        self.activation = torch.nn.ReLU()\n",
    "\n",
    "    def forward(self, x):\n",
    "        x = self.activation(self.linear1(x))\n",
    "        x = self.activation(self.linear2(x))\n",
    "        x = self.linear3(x)\n",
    "        return x\n",
    "\n",
    "# 9\n",
    "class NetDropout(torch.nn.Module):\n",
    "    def __init__(self):\n",
    "        super().__init__()\n",
    "        self.dropout = torch.nn.Dropout(p=0.2)\n",
    "        self.linear1 = torch.nn.Linear(in_features=N_FEATURES, out_features=100)\n",
    "        self.linear2 = torch.nn.Linear(in_features=100, out_features=40)\n",
    "        self.linear3 = torch.nn.Linear(in_features=40, out_features=5)\n",
    "        self.activation = torch.nn.ReLU()\n",
    "\n",
    "    def forward(self, x):\n",
    "        x = self.activation(self.linear1(x))\n",
    "        x= self.dropout(x)\n",
    "        x = self.activation(self.linear2(x))\n",
    "        x= self.dropout(x)\n",
    "        x = self.linear3(x)\n",
    "        return x\n",
    "\n",
    "model1 = Net()\n",
    "model_dropout = NetDropout()\n",
    "my_model = model_dropout\n",
    "my_model.to(device)"
   ],
   "metadata": {
    "collapsed": false,
    "pycharm": {
     "name": "#%%\n"
    }
   }
  },
  {
   "cell_type": "code",
   "execution_count": 9,
   "outputs": [],
   "source": [
    "# 3\n",
    "class RandomDataset(torch.utils.data.Dataset):\n",
    "    def __init__(self, X, y):\n",
    "        super().__init__()\n",
    "        self.X = torch.from_numpy(X.astype(np.float32))\n",
    "        self.y = torch.from_numpy(y)\n",
    "\n",
    "    def __getitem__(self, item):\n",
    "        return (\n",
    "            self.X[item],\n",
    "            self.y[item]\n",
    "        )\n",
    "    def __len__(self):\n",
    "        return len(self.y)\n",
    "\n",
    "\n",
    "X_train, X_test, y_train, y_test = train_test_split(X, y, test_size=0.1, random_state=42)\n",
    "X_train, X_val, y_train, y_val = train_test_split(X_train, y_train, test_size=0.1, random_state=42)\n",
    "\n",
    "train_dataset = RandomDataset(X_train, y_train)\n",
    "test_dataset = RandomDataset(X_test, y_test)\n",
    "val_dataset = RandomDataset(X_val, y_val)\n",
    "\n",
    "train_dataloader = torch.utils.data.DataLoader(train_dataset, batch_size=BATCH_SIZE, shuffle=True)\n",
    "test_dataloader = torch.utils.data.DataLoader(test_dataset, batch_size=BATCH_SIZE, shuffle=True)\n",
    "val_dataloader = torch.utils.data.DataLoader(val_dataset, batch_size=BATCH_SIZE, shuffle=True)\n"
   ],
   "metadata": {
    "collapsed": false,
    "pycharm": {
     "name": "#%%\n"
    }
   }
  },
  {
   "cell_type": "code",
   "execution_count": 10,
   "outputs": [],
   "source": [
    "# 4\n",
    "loss_fn1 = torch.nn.CrossEntropyLoss()\n",
    "optimizer1 = torch.optim.Adam(my_model.parameters(), lr=0.01)\n",
    "\n",
    "def test_fn(model: torch.nn.Module, loss_fn: torch.nn.Module, val_loader: DataLoader):\n",
    "    model.eval()\n",
    "\n",
    "    mean_loss = 0\n",
    "    true_labels = []\n",
    "    predicted_labels = []\n",
    "    loss_data = []\n",
    "\n",
    "    for data, labels in val_loader:\n",
    "        data, labels = data.to(device), labels.to(device)\n",
    "\n",
    "        output = model(data)\n",
    "        loss = loss_fn(output, labels)\n",
    "\n",
    "        mean_loss += loss.item()\n",
    "        true_labels.extend(labels.tolist())\n",
    "        predicted_labels.extend(output.max(1)[1].tolist())\n",
    "\n",
    "    mean_loss /= len(test_dataloader)\n",
    "\n",
    "    return mean_loss, true_labels, predicted_labels\n",
    "\n",
    "\n",
    "\n",
    "def train_fn(epochs: int, train_loader: DataLoader, val_loader: DataLoader,\n",
    "             model: torch.nn.Module, loss_fn: torch.nn.Module, optimizer: torch.optim):\n",
    "    best_loss = None\n",
    "    train_loss = []\n",
    "    val_loss = []\n",
    "    train_acc = []\n",
    "    val_acc = []\n",
    "    for e in range(epochs):\n",
    "        model.train()\n",
    "        running_loss = 0\n",
    "        true_labels_train = []\n",
    "        predicted_labels_train = []\n",
    "\n",
    "        for data, labels in train_loader:\n",
    "            data, labels = data.to(device), labels.to(device)\n",
    "            optimizer.zero_grad()\n",
    "\n",
    "            output = model(data)\n",
    "            loss = loss_fn(output, labels)\n",
    "            loss.backward()\n",
    "            running_loss += loss.item()\n",
    "            optimizer.step()\n",
    "\n",
    "            true_labels_train.extend(labels.tolist())\n",
    "            predicted_labels_train.extend(output.argmax(1).tolist())\n",
    "\n",
    "\n",
    "        mean_loss, true_labels, predicted_labels = test_fn(model, loss_fn, val_loader)\n",
    "        accuracy = metrics.accuracy_score(true_labels, predicted_labels)\n",
    "\n",
    "        print (f'Epoch: {e}')\n",
    "        print (f'Mean loss: {mean_loss}')\n",
    "        print (f'Accuracy:  {accuracy}', end='\\n\\n')\n",
    "\n",
    "        ###################################### 6 #############################################\n",
    "        if best_loss is None or mean_loss < best_loss:\n",
    "            best_loss = mean_loss\n",
    "            torch.save(model.state_dict(), \"sol_model.pt\")\n",
    "        ###################################### 6 #############################################\n",
    "\n",
    "        ###################################### 7 #############################################\n",
    "        train_loss.append(running_loss / len(train_loader))\n",
    "        val_loss.append(mean_loss)\n",
    "        train_acc.append(metrics.accuracy_score(true_labels_train, predicted_labels_train))\n",
    "        val_acc.append(accuracy)\n",
    "\n",
    "    plt.figure(figsize=(13,5))\n",
    "    plt.subplot(1, 2, 1)\n",
    "    plt.plot(train_loss, label=\"train loss\")\n",
    "    plt.plot(val_loss, label=\"val loss\")\n",
    "    plt.legend()\n",
    "    plt.subplot(1, 2, 2)\n",
    "    plt.plot(train_acc, label=\"train acc\")\n",
    "    plt.plot(val_acc, label=\"val acc\")\n",
    "    plt.legend()\n",
    "    plt.show()\n",
    "    ###################################### 7 #############################################\n",
    "\n",
    "\n",
    "\n",
    "\n",
    "\n"
   ],
   "metadata": {
    "collapsed": false,
    "pycharm": {
     "name": "#%%\n"
    }
   }
  },
  {
   "cell_type": "code",
   "execution_count": 11,
   "outputs": [
    {
     "name": "stdout",
     "output_type": "stream",
     "text": [
      "Epoch: 0\n",
      "Mean loss: 0.36830621203289754\n",
      "Accuracy:  0.8813333333333333\n",
      "\n",
      "Epoch: 1\n",
      "Mean loss: 0.29727910157245924\n",
      "Accuracy:  0.9211111111111111\n",
      "\n",
      "Epoch: 2\n",
      "Mean loss: 0.2809056858473186\n",
      "Accuracy:  0.9291111111111111\n",
      "\n",
      "Epoch: 3\n",
      "Mean loss: 0.21680799239798437\n",
      "Accuracy:  0.946\n",
      "\n",
      "Epoch: 4\n",
      "Mean loss: 0.19952110219982605\n",
      "Accuracy:  0.9517777777777777\n",
      "\n",
      "Epoch: 5\n",
      "Mean loss: 0.21605458997095686\n",
      "Accuracy:  0.9478888888888889\n",
      "\n",
      "Epoch: 6\n",
      "Mean loss: 0.23805301664750786\n",
      "Accuracy:  0.9447777777777778\n",
      "\n",
      "Epoch: 7\n",
      "Mean loss: 0.23895699115870875\n",
      "Accuracy:  0.9488888888888889\n",
      "\n",
      "Epoch: 8\n",
      "Mean loss: 0.19056716698068607\n",
      "Accuracy:  0.9598888888888889\n",
      "\n",
      "Epoch: 9\n",
      "Mean loss: 0.21854029954234255\n",
      "Accuracy:  0.9551111111111111\n",
      "\n",
      "Epoch: 10\n",
      "Mean loss: 0.22400053137842613\n",
      "Accuracy:  0.9466666666666667\n",
      "\n",
      "Epoch: 11\n",
      "Mean loss: 0.21089078372792353\n",
      "Accuracy:  0.9471111111111111\n",
      "\n",
      "Epoch: 12\n",
      "Mean loss: 0.21732448116887973\n",
      "Accuracy:  0.9515555555555556\n",
      "\n",
      "Epoch: 13\n",
      "Mean loss: 0.2434290374004388\n",
      "Accuracy:  0.9428888888888889\n",
      "\n",
      "Epoch: 14\n",
      "Mean loss: 0.20636586222467543\n",
      "Accuracy:  0.9625555555555556\n",
      "\n",
      "Epoch: 15\n",
      "Mean loss: 0.21697864587171167\n",
      "Accuracy:  0.9558888888888889\n",
      "\n",
      "Epoch: 16\n",
      "Mean loss: 0.2335047322926642\n",
      "Accuracy:  0.953\n",
      "\n",
      "Epoch: 17\n",
      "Mean loss: 0.20567187308510648\n",
      "Accuracy:  0.9568888888888889\n",
      "\n",
      "Epoch: 18\n",
      "Mean loss: 0.19864594375219527\n",
      "Accuracy:  0.9578888888888889\n",
      "\n",
      "Epoch: 19\n",
      "Mean loss: 0.19896505857947505\n",
      "Accuracy:  0.9585555555555556\n",
      "\n",
      "Epoch: 20\n",
      "Mean loss: 0.1979038367354417\n",
      "Accuracy:  0.9622222222222222\n",
      "\n",
      "Epoch: 21\n",
      "Mean loss: 0.19649668740509432\n",
      "Accuracy:  0.9586666666666667\n",
      "\n",
      "Epoch: 22\n",
      "Mean loss: 0.313146004948435\n",
      "Accuracy:  0.9277777777777778\n",
      "\n",
      "Epoch: 23\n",
      "Mean loss: 0.21419307570668716\n",
      "Accuracy:  0.9544444444444444\n",
      "\n",
      "Epoch: 24\n",
      "Mean loss: 0.1995156429047826\n",
      "Accuracy:  0.9608888888888889\n",
      "\n"
     ]
    },
    {
     "data": {
      "text/plain": "<Figure size 936x360 with 2 Axes>",
      "image/png": "[encoded data removed]"
     },
     "metadata": {
      "needs_background": "light"
     },
     "output_type": "display_data"
    }
   ],
   "source": [
    "# 5\n",
    "train_fn(25, train_dataloader, val_dataloader, my_model, loss_fn1, optimizer1)"
   ],
   "metadata": {
    "collapsed": false,
    "pycharm": {
     "name": "#%%\n"
    }
   }
  },
  {
   "cell_type": "markdown",
   "source": [
    "Plots without dropout:\n",
    "![plots_image](https://i.imgur.com/cMB6bXs.png)\n",
    "\n",
    "We can see that the overfitting is now very heavily reduced.\n"
   ],
   "metadata": {
    "collapsed": false
   }
  },
  {
   "cell_type": "code",
   "execution_count": 12,
   "outputs": [
    {
     "name": "stdout",
     "output_type": "stream",
     "text": [
      "Test mean loss: 0.2377704304136053\n",
      "Test accuracy:  0.9594\n",
      "Test f1-score:  0.959579082683223\n"
     ]
    }
   ],
   "source": [
    "# 8\n",
    "test_mean_loss, test_true_labels, test_predicted_labels = test_fn(my_model, loss_fn1, test_dataloader)\n",
    "test_acc = metrics.accuracy_score(test_true_labels, test_predicted_labels)\n",
    "test_f1 = metrics.f1_score(test_true_labels, test_predicted_labels, average='macro')\n",
    "\n",
    "print (f'Test mean loss: {test_mean_loss}')\n",
    "print (f'Test accuracy:  {test_acc}')\n",
    "print (f'Test f1-score:  {test_f1}')\n"
   ],
   "metadata": {
    "collapsed": false,
    "pycharm": {
     "name": "#%%\n"
    }
   }
  }
 ],
 "metadata": {
  "kernelspec": {
   "display_name": "Python 3",
   "language": "python",
   "name": "python3"
  },
  "language_info": {
   "codemirror_mode": {
    "name": "ipython",
    "version": 2
   },
   "file_extension": ".py",
   "mimetype": "text/x-python",
   "name": "python",
   "nbconvert_exporter": "python",
   "pygments_lexer": "ipython2",
   "version": "2.7.6"
  }
 },
 "nbformat": 4,
 "nbformat_minor": 0
}