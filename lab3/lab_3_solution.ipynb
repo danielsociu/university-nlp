{
 "cells": [
  {
   "cell_type": "markdown",
   "source": [
    "# TASK:\n",
    "\n",
    "### Deadline: 17 martie ora 23:59.\n",
    "### Formular pentru trimiterea temei: https://forms.gle/isPikzbiBdNm7AhA6"
   ],
   "metadata": {
    "collapsed": false
   }
  },
  {
   "cell_type": "markdown",
   "source": [
    "Vom folosi urmatorul dataset: https://www.kaggle.com/rmisra/news-category-dataset (headline-uri de stiri etichetate conform unei liste de categorii).\n",
    "\n",
    "1. (optional) Intrucat setul de date contine multe categorii, puteti pastra exemplele din 4-5 clase (selectate de catre voi) si sa rezolvati problema de clasificare doar pentru aceste exemple\n",
    "2. Incercati mai multe metode de preprocesare si tokenizare a textelor pentru a obtine reprezentari de tip Bag-of-Words (stergeti/nu stergeti stop words, lematizati sau aplicati stemming, pastrati sau eliminati punctuatia, normalizati folosind standardizare, L1, L2 sau Tf-Idf). Implementati **3** astfel de combinatii.\n",
    "3. Impartiti setul de date in 80% train, 20% test, iar pentru fiecare metoda de preprocesare antrenati un model ales de voi (diferit de Decision Tree) pe datele de train\n",
    "4. Evaluati modelul pe datele de test, determinand acuratete, precizie, recall, f1, si stabiliti care metoda de procesare a textelor a adus rezultate mai bune.\n",
    "5. Determinati pentru acest caz care au fost top 10 cele mai importante feature-uri (cuvinte).\n",
    "6. Folosind aceasta metoda de procesare a textelor, antrenati alte doua modele diferite la alegere si comparati performanta cu modelul original.\n",
    "7. Pentru cel mai bun model afisati metricile la nivel de clasa (classification report) si matricea de confuzie."
   ],
   "metadata": {
    "collapsed": false
   }
  },
  {
   "cell_type": "code",
   "execution_count": 184,
   "outputs": [
    {
     "name": "stderr",
     "output_type": "stream",
     "text": [
      "[nltk_data] Downloading package wordnet to /home/alhiris/nltk_data...\n",
      "[nltk_data]   Package wordnet is already up-to-date!\n",
      "[nltk_data] Downloading package omw-1.4 to /home/alhiris/nltk_data...\n",
      "[nltk_data]   Package omw-1.4 is already up-to-date!\n"
     ]
    },
    {
     "name": "stdout",
     "output_type": "stream",
     "text": [
      "[\"'Queer Eye' Star Bobby Berk Gave Me A Desk Makeover -- And It Was Incredible\", \"Older Gay Men Try Out 'New Gay' Slang In This Hilarious Video\", \"How 'RuPaul’s Drag Race' Is Teaching Straight People About Queer Culture\", \"14 Ways To Make Family Road Trips Easier, From Parents Who've Been There\", \"Tig Notaro Tells Ellen DeGeneres About Her Sons' Passion For Trash\", 'Stormy Daniels Thanks ‘Wonderful Gay Dads’ As West Hollywood Hands Her Keys To City', 'Can You Believe? Queer Eye Season 2 Drops Next Month', 'Gay Man Denied Marriage License By Kim Davis Loses Bid To Unseat Her', 'More Americans Than Ever Support Same-Sex Marriage', '14 Trips To Take From New York City On A Long Weekend']\n",
      "['QUEER VOICES', 'QUEER VOICES', 'QUEER VOICES', 'TRAVEL', 'QUEER VOICES', 'QUEER VOICES', 'QUEER VOICES', 'QUEER VOICES', 'QUEER VOICES', 'TRAVEL']\n"
     ]
    }
   ],
   "source": [
    "# 1.\n",
    "import json\n",
    "import nltk\n",
    "import matplotlib.pyplot as plt\n",
    "import seaborn as sns\n",
    "from collections import defaultdict\n",
    "from nltk.corpus import stopwords\n",
    "from nltk.stem import WordNetLemmatizer\n",
    "from num2words import num2words\n",
    "import re\n",
    "import string\n",
    "from sklearn.feature_extraction.text import CountVectorizer, TfidfVectorizer\n",
    "from sklearn import preprocessing, metrics\n",
    "from sklearn.model_selection import train_test_split\n",
    "from sklearn.ensemble import RandomForestClassifier\n",
    "from sklearn.svm import SVC\n",
    "from sklearn.linear_model import LogisticRegression\n",
    "\n",
    "nltk.download('wordnet')\n",
    "nltk.download('omw-1.4')\n",
    "MAX_FEATURES = 100\n",
    "CATEGORIES_NUMBER = 5\n",
    "INITIAL_CATEGORY = 3\n",
    "\n",
    "all_data = []\n",
    "frequency_category = defaultdict(lambda : 0)\n",
    "with open(\"News_Category_Dataset_v2.json\", 'r') as fin:\n",
    "    lines = fin.readlines()\n",
    "    for line in lines:\n",
    "        data_in = json.loads(line)\n",
    "        all_data.append(data_in)\n",
    "        frequency_category[data_in['category']] += 1\n",
    "\n",
    "accepted_categories = list(k for k, v in sorted(frequency_category.items(), key=lambda item: item[1], reverse=True)[INITIAL_CATEGORY:INITIAL_CATEGORY + CATEGORIES_NUMBER])\n",
    "data = []\n",
    "labels = []\n",
    "for din in all_data:\n",
    "    if din['category'] in accepted_categories:\n",
    "        data.append(din['headline'])\n",
    "        labels.append(din['category'])\n",
    "\n",
    "print(data[:10])\n",
    "print(labels[:10])\n"
   ],
   "metadata": {
    "collapsed": false,
    "pycharm": {
     "name": "#%%\n"
    }
   }
  },
  {
   "cell_type": "code",
   "execution_count": 185,
   "outputs": [],
   "source": [
    "# not using this anymore\n",
    "# ! python -m spacy download en_core_web_md\n"
   ],
   "metadata": {
    "collapsed": false,
    "pycharm": {
     "name": "#%%\n"
    }
   }
  },
  {
   "cell_type": "code",
   "execution_count": 186,
   "outputs": [],
   "source": [
    "# Realised we can just use CountVectorizer preprocessor & tokenizer but a lil bit less efficient\n",
    "# data_lower = [headline.lower() for headline in data]\n",
    "# data_numbers = [re.sub(r\"((\\d+\\.)?\\d+)\", lambda x: num2words(x.group(0), lang=\"english\") , headline) for headline in data_lower]\n",
    "# data_punctuation = [headline.translate(str.maketrans('', '', string.punctuation)) for headline in data_numbers]\n",
    "# data_punctuation = [re.sub(r'\\s+', ' ', headline) for headline in data_punctuation]\n",
    "# nlp = spacy.load(\"en_core_web_md\")\n",
    "# tokenizer = nlp.tokenizer\n",
    "# data_tokenized = []\n",
    "# for doc in tokenizer.pipe(data_punctuation, batch_size=1000):\n",
    "#     data_tokenized.append([token.text for token in doc])\n",
    "# stop_words = nlp.defaults.stop_words\n",
    "# data_stopwords = [[word for word in headline if word not in stop_words] for headline in data_tokenized]\n"
   ],
   "metadata": {
    "collapsed": false,
    "pycharm": {
     "name": "#%%\n"
    }
   }
  },
  {
   "cell_type": "code",
   "execution_count": 187,
   "outputs": [
    {
     "name": "stdout",
     "output_type": "stream",
     "text": [
      "['a', 'about', 'after', 'all', 'an', 'and', 'are', 'at', 'baby', 'be', 'beauty', 'best', 'by', 'can', 'child', 'day', 'do', 'dress', 'family', 'fashion', 'first', 'five', 'for', 'from', 'gay', 'get', 'have', 'health', 'her', 'here', 'hotel', 'how', 'i', 'in', 'is', 'it', 'kid', 'know', 'life', 'like', 'look', 'love', 'make', 'me', 'mom', 'more', 'most', 'my', 'need', 'new', 'not', 'of', 'on', 'one', 'or', 'our', 'out', 'parent', 'people', 'photo', 'say', 'seven', 'should', 'show', 'six', 'star', 'style', 'ten', 'that', 'the', 'their', 'thing', 'thirteen', 'this', 'thousand', 'three', 'time', 'tip', 'to', 'top', 'travel', 'twelve', 'two', 'u', 'up', 'video', 'way', 'we', 'week', 'what', 'when', 'who', 'why', 'will', 'with', 'woman', 'world', 'year', 'you', 'your']\n",
      "['america', 'american', 'baby', 'back', 'beauty', 'best', 'child', 'city', 'could', 'dad', 'daughter', 'day', 'dont', 'dress', 'eight', 'fall', 'family', 'fashion', 'find', 'first', 'five', 'four', 'fourteen', 'gay', 'get', 'girl', 'go', 'good', 'guide', 'hair', 'health', 'help', 'here', 'holiday', 'hotel', 'hundred', 'kate', 'kid', 'know', 'lgbt', 'life', 'like', 'look', 'love', 'make', 'men', 'model', 'mom', 'mother', 'need', 'new', 'nine', 'one', 'parent', 'parenting', 'people', 'photo', 'place', 'poll', 'queer', 'really', 'reason', 'right', 'say', 'school', 'see', 'seven', 'show', 'six', 'son', 'star', 'study', 'style', 'summer', 'take', 'talk', 'teen', 'ten', 'thing', 'thirteen', 'thousand', 'three', 'time', 'tip', 'top', 'trans', 'transgender', 'travel', 'twelve', 'two', 'u', 'video', 'want', 'way', 'wear', 'week', 'woman', 'world', 'year', 'york']\n",
      "(41221, 100)\n",
      "<class 'scipy.sparse._csr.csr_matrix'>\n",
      "[[1 0 0 0 0 1 0 0 0 0 0 0 0 0 0 0 0 0 0 0 0 0 0 0 0 0 0 0 0 0 0 0 0 0 0 1\n",
      "  0 0 0 0 0 0 0 1 0 0 0 0 0 0 0 0 0 0 0 0 0 0 0 0 0 0 0 0 0 1 0 0 0 0 0 0\n",
      "  0 0 0 0 0 0 0 0 0 0 0 0 0 0 0 0 0 0 0 0 0 0 0 0 0 0 0 0]\n",
      " [0 0 0 0 0 0 0 0 0 0 0 0 0 0 0 0 0 0 0 0 0 0 0 0 2 0 0 0 0 0 0 0 0 1 0 0\n",
      "  0 0 0 0 0 0 0 0 0 0 0 0 0 1 0 0 0 0 0 0 1 0 0 0 0 0 0 0 0 0 0 0 0 0 0 0\n",
      "  0 1 0 0 0 0 0 0 0 0 0 0 0 1 0 0 0 0 0 0 0 0 0 0 0 0 0 0]\n",
      " [0 1 0 0 0 0 0 0 0 0 0 0 0 0 0 0 0 0 0 0 0 0 0 0 0 0 0 0 0 0 0 1 0 0 1 0\n",
      "  0 0 0 0 0 0 0 0 0 0 0 0 0 0 0 0 0 0 0 0 0 0 1 0 0 0 0 0 0 0 0 0 0 0 0 0\n",
      "  0 0 0 0 0 0 0 0 0 0 0 0 0 0 0 0 0 0 0 0 0 0 0 0 0 0 0 0]\n",
      " [0 0 0 0 0 0 0 0 0 0 0 0 0 0 0 0 0 0 1 0 0 0 0 1 0 0 0 0 0 0 0 0 0 0 0 0\n",
      "  0 0 0 0 0 0 1 0 0 0 0 0 0 0 0 0 0 0 0 0 0 1 0 0 0 0 0 0 0 0 0 0 0 0 0 0\n",
      "  0 0 0 0 0 0 1 0 0 0 0 0 0 0 1 0 0 0 0 0 0 0 0 0 0 0 0 0]\n",
      " [0 1 0 0 0 0 0 0 0 0 0 0 0 0 0 0 0 0 0 0 0 0 1 0 0 0 0 0 1 0 0 0 0 0 0 0\n",
      "  0 0 0 0 0 0 0 0 0 0 0 0 0 0 0 0 0 0 0 0 0 0 0 0 0 0 0 0 0 0 0 0 0 0 0 0\n",
      "  0 0 0 0 0 0 0 0 0 0 0 0 0 0 0 0 0 0 0 0 0 0 0 0 0 0 0 0]]\n"
     ]
    }
   ],
   "source": [
    "# 2.\n",
    "def base_data_preprocessing(text):\n",
    "    text_lower = text.lower()\n",
    "    text_numbers = re.sub(r\"((\\d+\\.)?\\d+)\", lambda x: num2words(x.group(0), lang=\"english\") , text_lower)\n",
    "    text_punctuation = text_numbers.translate(str.maketrans('', '', string.punctuation))\n",
    "    text_punctuation = re.sub(r'\\s+', ' ', text_punctuation) # removing extra spaces just in case\n",
    "    return text_punctuation\n",
    "\n",
    "def base_tokenizer(text):\n",
    "    lemmatizer = WordNetLemmatizer()\n",
    "    text_tokens = text.split(\" \")\n",
    "    text_lemmatized = [lemmatizer.lemmatize(word) for word in text_tokens]\n",
    "    return text_lemmatized\n",
    "\n",
    "def stopwords_tokenizer(text):\n",
    "    lemmatizer = WordNetLemmatizer()\n",
    "    text_tokens = text.split(\" \")\n",
    "    stop_words = set(stopwords.words('english'))\n",
    "    text_lemmatized_stopwords = [lemmatizer.lemmatize(word) for word in text_tokens if word not in stop_words]\n",
    "    return text_lemmatized_stopwords\n",
    "\n",
    "# not removing stopwords\n",
    "count_vectorizer = CountVectorizer(\n",
    "    tokenizer=base_tokenizer,\n",
    "    token_pattern=None,\n",
    "    max_features=MAX_FEATURES,\n",
    "    binary=False\n",
    ")\n",
    "\n",
    "# considering stopwords\n",
    "count_vectorizer_stopwords = CountVectorizer(\n",
    "    tokenizer=stopwords_tokenizer,\n",
    "    token_pattern=None,\n",
    "    max_features=MAX_FEATURES,\n",
    "    binary=False\n",
    ")\n",
    "\n",
    "# considering stopwords and bigrams\n",
    "# count_vectorizer_stopwords_bigrams = CountVectorizer(\n",
    "#     tokenizer=stopwords_tokenizer,\n",
    "#     token_pattern=None,\n",
    "#     max_features=50,\n",
    "#     ngram_range=(2, 2)\n",
    "# )\n",
    "\n",
    "data_preprocessed = [base_data_preprocessing(headline) for headline in data]\n",
    "\n",
    "count_vectorizer.fit(data_preprocessed)\n",
    "count_vectorizer_stopwords.fit(data_preprocessed)\n",
    "# count_vectorizer_stopwords_bigrams.fit(data_preprocessed)\n",
    "\n",
    "print(sorted(list(count_vectorizer.vocabulary_.keys())))\n",
    "print(sorted(list(count_vectorizer_stopwords.vocabulary_.keys())))\n",
    "# print(sorted(list(count_vectorizer_stopwords_bigrams.vocabulary_.keys())))\n",
    "\n",
    "data_features = count_vectorizer.transform(data_preprocessed)\n",
    "data_features_stopwords = count_vectorizer_stopwords.transform(data_preprocessed)\n",
    "# data_features_stopwords_bigrams = count_vectorizer_stopwords_bigrams.transform(data_preprocessed)\n",
    "\n",
    "print(data_features.shape)\n",
    "print(type(data_features))\n",
    "print(data_features.toarray()[:5])  # convertim la numpy array\n"
   ],
   "metadata": {
    "collapsed": false,
    "pycharm": {
     "name": "#%%\n"
    }
   }
  },
  {
   "cell_type": "code",
   "execution_count": 188,
   "outputs": [],
   "source": [
    "# Preparing data for training with multiple methods of preprocessing\n",
    "\n",
    "# 3 splitting the data\n",
    "x_train, x_test, y_train, y_test = train_test_split(data_features.toarray(), labels, test_size=0.2, random_state=42)\n",
    "x_stopwords_train, x_stopwords_test, y_stopwords_train, y_stopwords_test = train_test_split(data_features_stopwords.toarray(), labels, test_size=0.2, random_state=42)\n",
    "\n",
    "x_tfidf_train, x_tfidf_test, y_tfidf_train, y_tfidf_test = train_test_split(data_preprocessed, labels, test_size=0.2, random_state=42)\n",
    "tfidf_vectorizer = TfidfVectorizer(\n",
    "    tokenizer=stopwords_tokenizer,\n",
    "    token_pattern=None,\n",
    "    max_features=MAX_FEATURES,\n",
    ")\n",
    "\n",
    "scaler_standard = preprocessing.StandardScaler()\n",
    "scaler_l2 = preprocessing.Normalizer(norm='l2') # no reason to fit this one\n",
    "\n",
    "scaler_standard.fit(x_stopwords_train)\n",
    "tfidf_vectorizer.fit(x_tfidf_train)\n",
    "\n",
    "models_data = {\n",
    "    'data_features_l2': {\n",
    "        'vectorizer': count_vectorizer,\n",
    "        'x_train': scaler_l2.transform(x_train),\n",
    "        'y_train': y_train,\n",
    "        'x_test': scaler_l2.transform(x_test),\n",
    "        'y_test': y_test\n",
    "    },\n",
    "    'data_features_stopwords_l2': {\n",
    "        'vectorizer': count_vectorizer_stopwords,\n",
    "        'x_train': scaler_l2.transform(x_stopwords_train),\n",
    "        'y_train': y_stopwords_train,\n",
    "        'x_test': scaler_l2.transform(x_stopwords_test),\n",
    "        'y_test': y_stopwords_test\n",
    "    },\n",
    "    'data_features_stopwords_standard': {\n",
    "        'vectorizer': count_vectorizer_stopwords,\n",
    "        'x_train': scaler_standard.transform(x_stopwords_train),\n",
    "        'y_train': y_stopwords_train,\n",
    "        'x_test': scaler_standard.transform(x_stopwords_test),\n",
    "        'y_test': y_stopwords_test\n",
    "    },\n",
    "    'data_features_stopwords_tfidf': {\n",
    "        'vectorizer': tfidf_vectorizer,\n",
    "        'x_train': tfidf_vectorizer.transform(x_tfidf_train).toarray(),\n",
    "        'y_train': y_tfidf_train,\n",
    "        'x_test': tfidf_vectorizer.transform(x_tfidf_test).toarray(),\n",
    "        'y_test': y_tfidf_test\n",
    "    },\n",
    "}"
   ],
   "metadata": {
    "collapsed": false,
    "pycharm": {
     "name": "#%%\n"
    }
   }
  },
  {
   "cell_type": "code",
   "execution_count": 189,
   "outputs": [
    {
     "name": "stdout",
     "output_type": "stream",
     "text": [
      "Training the data_features_l2 model\n"
     ]
    },
    {
     "name": "stderr",
     "output_type": "stream",
     "text": [
      "[Parallel(n_jobs=-1)]: Using backend ThreadingBackend with 16 concurrent workers.\n",
      "[Parallel(n_jobs=-1)]: Done  18 tasks      | elapsed:    0.7s\n",
      "[Parallel(n_jobs=-1)]: Done 168 tasks      | elapsed:    4.6s\n",
      "[Parallel(n_jobs=-1)]: Done 200 out of 200 | elapsed:    5.2s finished\n",
      "[Parallel(n_jobs=-1)]: Using backend ThreadingBackend with 16 concurrent workers.\n"
     ]
    },
    {
     "name": "stdout",
     "output_type": "stream",
     "text": [
      "Training the data_features_stopwords_l2 model\n"
     ]
    },
    {
     "name": "stderr",
     "output_type": "stream",
     "text": [
      "[Parallel(n_jobs=-1)]: Done  18 tasks      | elapsed:    1.0s\n",
      "[Parallel(n_jobs=-1)]: Done 168 tasks      | elapsed:    6.1s\n",
      "[Parallel(n_jobs=-1)]: Done 200 out of 200 | elapsed:    6.9s finished\n",
      "[Parallel(n_jobs=-1)]: Using backend ThreadingBackend with 16 concurrent workers.\n"
     ]
    },
    {
     "name": "stdout",
     "output_type": "stream",
     "text": [
      "Training the data_features_stopwords_standard model\n"
     ]
    },
    {
     "name": "stderr",
     "output_type": "stream",
     "text": [
      "[Parallel(n_jobs=-1)]: Done  18 tasks      | elapsed:    0.9s\n",
      "[Parallel(n_jobs=-1)]: Done 168 tasks      | elapsed:    5.7s\n",
      "[Parallel(n_jobs=-1)]: Done 200 out of 200 | elapsed:    6.6s finished\n",
      "[Parallel(n_jobs=-1)]: Using backend ThreadingBackend with 16 concurrent workers.\n"
     ]
    },
    {
     "name": "stdout",
     "output_type": "stream",
     "text": [
      "Training the data_features_stopwords_tfidf model\n"
     ]
    },
    {
     "name": "stderr",
     "output_type": "stream",
     "text": [
      "[Parallel(n_jobs=-1)]: Done  18 tasks      | elapsed:    1.1s\n",
      "[Parallel(n_jobs=-1)]: Done 168 tasks      | elapsed:    6.9s\n",
      "[Parallel(n_jobs=-1)]: Done 200 out of 200 | elapsed:    7.9s finished\n"
     ]
    }
   ],
   "source": [
    "# 3 (split was done above)\n",
    "# print(models_data['data_features_stopwords_tfidf']['x_train'])\n",
    "for key, model_data in models_data.items():\n",
    "    model = RandomForestClassifier(\n",
    "        n_estimators=200,\n",
    "        min_samples_split=10,\n",
    "        n_jobs=-1,\n",
    "        verbose=True\n",
    "    )\n",
    "    print(f'Training the {key} model')\n",
    "    model.fit(model_data['x_train'], model_data['y_train'])\n",
    "    model_data['model'] = model\n"
   ],
   "metadata": {
    "collapsed": false,
    "pycharm": {
     "name": "#%%\n"
    }
   }
  },
  {
   "cell_type": "code",
   "execution_count": 190,
   "outputs": [
    {
     "name": "stderr",
     "output_type": "stream",
     "text": [
      "[Parallel(n_jobs=16)]: Using backend ThreadingBackend with 16 concurrent workers.\n",
      "[Parallel(n_jobs=16)]: Done  18 tasks      | elapsed:    0.0s\n",
      "[Parallel(n_jobs=16)]: Done 168 tasks      | elapsed:    0.1s\n",
      "[Parallel(n_jobs=16)]: Done 200 out of 200 | elapsed:    0.1s finished\n"
     ]
    },
    {
     "name": "stdout",
     "output_type": "stream",
     "text": [
      "Metric for model data_features_l2:\n",
      "Accuracy:   0.565554881746513\n",
      "Precision:  0.563018941876166\n",
      "Recall:     0.5509676086946305\n",
      "F1:         0.5544405106027065\n"
     ]
    },
    {
     "name": "stderr",
     "output_type": "stream",
     "text": [
      "[Parallel(n_jobs=16)]: Using backend ThreadingBackend with 16 concurrent workers.\n",
      "[Parallel(n_jobs=16)]: Done  18 tasks      | elapsed:    0.0s\n",
      "[Parallel(n_jobs=16)]: Done 168 tasks      | elapsed:    0.1s\n",
      "[Parallel(n_jobs=16)]: Done 200 out of 200 | elapsed:    0.1s finished\n"
     ]
    },
    {
     "name": "stdout",
     "output_type": "stream",
     "text": [
      "Metric for model data_features_stopwords_l2:\n",
      "Accuracy:   0.5995148574893875\n",
      "Precision:  0.6517284489595788\n",
      "Recall:     0.5767939533078277\n",
      "F1:         0.5942953509588992\n"
     ]
    },
    {
     "name": "stderr",
     "output_type": "stream",
     "text": [
      "[Parallel(n_jobs=16)]: Using backend ThreadingBackend with 16 concurrent workers.\n",
      "[Parallel(n_jobs=16)]: Done  18 tasks      | elapsed:    0.0s\n",
      "[Parallel(n_jobs=16)]: Done 168 tasks      | elapsed:    0.1s\n",
      "[Parallel(n_jobs=16)]: Done 200 out of 200 | elapsed:    0.1s finished\n"
     ]
    },
    {
     "name": "stdout",
     "output_type": "stream",
     "text": [
      "Metric for model data_features_stopwords_standard:\n",
      "Accuracy:   0.6014554275318374\n",
      "Precision:  0.6530373655098458\n",
      "Recall:     0.5796515073304547\n",
      "F1:         0.5973832004137044\n"
     ]
    },
    {
     "name": "stderr",
     "output_type": "stream",
     "text": [
      "[Parallel(n_jobs=16)]: Using backend ThreadingBackend with 16 concurrent workers.\n",
      "[Parallel(n_jobs=16)]: Done  18 tasks      | elapsed:    0.0s\n",
      "[Parallel(n_jobs=16)]: Done 168 tasks      | elapsed:    0.1s\n",
      "[Parallel(n_jobs=16)]: Done 200 out of 200 | elapsed:    0.1s finished\n"
     ]
    },
    {
     "name": "stdout",
     "output_type": "stream",
     "text": [
      "Metric for model data_features_stopwords_tfidf:\n",
      "Accuracy:   0.5893268647665252\n",
      "Precision:  0.6369972938309129\n",
      "Recall:     0.5661824271003371\n",
      "F1:         0.5825940548154859\n"
     ]
    }
   ],
   "source": [
    "# 4\n",
    "best_model_data = None\n",
    "for key, model_data in models_data.items():\n",
    "    y_test_prediction = model_data['model'].predict(model_data['x_test'])\n",
    "    y_true = model_data['y_test']\n",
    "    accuracy = metrics.accuracy_score(y_true, y_test_prediction)\n",
    "    precision = metrics.precision_score(y_true, y_test_prediction, average='macro')\n",
    "    recall = metrics.recall_score(y_true, y_test_prediction, average='macro')\n",
    "    f1 = metrics.f1_score(y_true, y_test_prediction, average='macro')\n",
    "    model_data['accuracy'] = accuracy\n",
    "    model_data['precision'] = precision\n",
    "    model_data['recall'] = recall\n",
    "    model_data['f1'] = f1\n",
    "    print(f'Metric for model {key}:')\n",
    "    print(f'Accuracy:   {accuracy}')\n",
    "    print(f'Precision:  {precision}')\n",
    "    print(f'Recall:     {recall}')\n",
    "    print(f'F1:         {f1}')\n",
    "    if best_model_data is None:\n",
    "        best_model_data = model_data\n",
    "    elif best_model_data['accuracy'] < accuracy:\n",
    "        best_model_data = model_data\n",
    "    # print(metrics.classification_report(y_true, y_test_prediction, digits=5))\n",
    "    # print(y_test_prediction[:3])\n",
    "    # print(model_data['y_test'][:3], end='\\n\\n')"
   ],
   "metadata": {
    "collapsed": false,
    "pycharm": {
     "name": "#%%\n"
    }
   }
  },
  {
   "cell_type": "code",
   "execution_count": 191,
   "outputs": [
    {
     "name": "stdout",
     "output_type": "stream",
     "text": [
      "Word: 56 photo      has score 0.11559888166630301\n",
      "Word: 23 gay        has score 0.07411862403485027\n",
      "Word: 37 kid        has score 0.03960243863310655\n",
      "Word: 87 travel     has score 0.0390430298582323\n",
      "Word: 17 fashion    has score 0.03355708855331111\n",
      "Word: 72 style      has score 0.02626702614398256\n",
      "Word: 6  child      has score 0.025633461201480186\n",
      "Word: 34 hotel      has score 0.024811972121750313\n",
      "Word: 47 mom        has score 0.02474140559371624\n",
      "Word: 2  baby       has score 0.02400062332574496\n"
     ]
    },
    {
     "data": {
      "text/plain": "<Figure size 432x288 with 1 Axes>",
      "image/png": "[encoded data removed]"
     },
     "metadata": {
      "needs_background": "light"
     },
     "output_type": "display_data"
    }
   ],
   "source": [
    "# 5\n",
    "best_model = best_model_data['model']\n",
    "vectorizer = best_model_data['vectorizer']\n",
    "index_vocabulary = {v:k for k,v in vectorizer.vocabulary_.items()}\n",
    "feature_importance = list(sorted(enumerate(best_model.feature_importances_), key=lambda x: x[1], reverse=True))\n",
    "\n",
    "for key, value in feature_importance[:10]:\n",
    "    print(f'Word: {key:<2} {index_vocabulary[key]:<10} has score {value}')\n",
    "\n",
    "plt.bar([x for x in range(10)], [data[1] for data in feature_importance[:10]])\n",
    "\n",
    "plt.show()\n"
   ],
   "metadata": {
    "collapsed": false,
    "pycharm": {
     "name": "#%%\n"
    }
   }
  },
  {
   "cell_type": "code",
   "execution_count": 192,
   "outputs": [
    {
     "data": {
      "text/plain": "LogisticRegression(n_jobs=-1)"
     },
     "execution_count": 192,
     "metadata": {},
     "output_type": "execute_result"
    }
   ],
   "source": [
    "# 6\n",
    "SVC_model = SVC(\n",
    "    C=1.0,\n",
    "    kernel='rbf',\n",
    "    decision_function_shape='ovr'\n",
    ")\n",
    "logistic_regression_model = LogisticRegression(\n",
    "    penalty='l2',\n",
    "    n_jobs=-1,\n",
    ")\n",
    "SVC_model.fit(best_model_data['x_train'], best_model_data['y_train'])\n",
    "logistic_regression_model.fit(best_model_data['x_train'], best_model_data['y_train'])\n"
   ],
   "metadata": {
    "collapsed": false,
    "pycharm": {
     "name": "#%%\n"
    }
   }
  },
  {
   "cell_type": "code",
   "execution_count": 193,
   "outputs": [
    {
     "name": "stderr",
     "output_type": "stream",
     "text": [
      "[Parallel(n_jobs=16)]: Using backend ThreadingBackend with 16 concurrent workers.\n",
      "[Parallel(n_jobs=16)]: Done  18 tasks      | elapsed:    0.0s\n",
      "[Parallel(n_jobs=16)]: Done 168 tasks      | elapsed:    0.1s\n",
      "[Parallel(n_jobs=16)]: Done 200 out of 200 | elapsed:    0.1s finished\n"
     ]
    },
    {
     "name": "stdout",
     "output_type": "stream",
     "text": [
      "Original model score:               0.6014554275318374\n",
      "SVC model score:                    0.5991510006064281\n",
      "logistic regression model score:    0.6037598544572468\n"
     ]
    }
   ],
   "source": [
    "best_model_predictions = best_model.predict(best_model_data['x_test'])\n",
    "SVC_predictions = SVC_model.predict(best_model_data['x_test'])\n",
    "logistic_regression_predictions = logistic_regression_model.predict(best_model_data['x_test'])\n",
    "SVC_score = metrics.accuracy_score(best_model_data[\"y_test\"], SVC_predictions)\n",
    "logistic_regression_score = metrics.accuracy_score(best_model_data[\"y_test\"], logistic_regression_predictions)\n",
    "\n",
    "print(f'Original model score:               {best_model_data[\"accuracy\"]}')\n",
    "print(f'SVC model score:                    {SVC_score}')\n",
    "print(f'logistic regression model score:    {logistic_regression_score}')"
   ],
   "metadata": {
    "collapsed": false,
    "pycharm": {
     "name": "#%%\n"
    }
   }
  },
  {
   "cell_type": "code",
   "execution_count": 195,
   "outputs": [
    {
     "name": "stdout",
     "output_type": "stream",
     "text": [
      "[[ 521   75   44   39  664]\n",
      " [ 161 1005   21   74  445]\n",
      " [ 113   89  641   43  400]\n",
      " [  89   46   39 1330  412]\n",
      " [ 212   41   29  231 1481]]\n"
     ]
    },
    {
     "data": {
      "text/plain": "<AxesSubplot:>"
     },
     "execution_count": 195,
     "metadata": {},
     "output_type": "execute_result"
    },
    {
     "data": {
      "text/plain": "<Figure size 432x288 with 2 Axes>",
      "image/png": "[encoded data removed]"
     },
     "metadata": {
      "needs_background": "light"
     },
     "output_type": "display_data"
    }
   ],
   "source": [
    "# 7\n",
    "final_predictions = None\n",
    "max_score = max(best_model_data['accuracy'], SVC_score, logistic_regression_score)\n",
    "if max_score == best_model_data['accuracy']:\n",
    "    final_predictions = best_model_predictions\n",
    "elif max_score == SVC_score:\n",
    "    final_predictions = SVC_predictions\n",
    "else:\n",
    "    final_predictions = logistic_regression_predictions\n",
    "\n",
    "confusion_matrix = metrics.confusion_matrix(best_model_data['y_test'], final_predictions)\n",
    "print(confusion_matrix)\n",
    "sns.heatmap(confusion_matrix, annot=True)\n"
   ],
   "metadata": {
    "collapsed": false,
    "pycharm": {
     "name": "#%%\n"
    }
   }
  }
 ],
 "metadata": {
  "kernelspec": {
   "display_name": "Python 3",
   "language": "python",
   "name": "python3"
  },
  "language_info": {
   "codemirror_mode": {
    "name": "ipython",
    "version": 2
   },
   "file_extension": ".py",
   "mimetype": "text/x-python",
   "name": "python",
   "nbconvert_exporter": "python",
   "pygments_lexer": "ipython2",
   "version": "2.7.6"
  }
 },
 "nbformat": 4,
 "nbformat_minor": 0
}