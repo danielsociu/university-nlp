{
 "cells": [
  {
   "cell_type": "markdown",
   "metadata": {
    "collapsed": true,
    "pycharm": {
     "name": "#%% md\n"
    }
   },
   "source": [
    "# TASK\n",
    "## Deadline: 7 aprilie ora 23:59.\n",
    "\n",
    "Formular pentru trimiterea temei: https://forms.gle/dKdEDhiHkCKQgQbN6\n",
    "\n",
    "1. Descarcati un text mai mare in engleza (ex. un articol de pe wikipedia, vedeti cum mai jos).\n",
    "2. Incarcati modelul Word2Vec de la Google, la fel ca in laborator.\n",
    "3. Afisati cate cuvinte (tokens) distincte din text sunt acoperite de model (modelul contine vectori pentru acele cuvinte), si cate cuvinte distincte din text nu sunt acoperite de model.\n",
    "4. Determinati pentru toate perechile de cuvinte distincte din text care este similaritatea lor. Afisati top 3 cele mai similare perechi, si top 3 cele mai nesimilare.\n",
    "5. In urmatoarele cerinte vom compara modelul Google cu cel antrenat in cadrul laboratorului pe corpusul `text8`. Pentru fiecare cuvand din lista urmatoare determinati lista celor mai similare cuvinte conform modelului Google si lista celor mai similare cuvinte conform modelului text8: `smart, king, big`. Observati diferente?\n",
    "6. Plotati intr-un grafic embeddingurile reduse la 2 dimensiuni (folosind PCA) din modelul Google pentru cuvintele `car, motorcycle, bike, man, person, woman, child, king, queen, prince, plant, tree, flower`, separat construiti acelasi grafic si pentru modelul antrenat folosind text8. Ce asemanari/diferente observati?"
   ]
  },
  {
   "cell_type": "code",
   "execution_count": 1,
   "metadata": {
    "pycharm": {
     "name": "#%%\n"
    }
   },
   "outputs": [
    {
     "name": "stdout",
     "output_type": "stream",
     "text": [
      "Requirement already satisfied: wikipedia in /home/alhiris/.pyenv/versions/3.9.9/lib/python3.9/site-packages (1.4.0)\r\n",
      "Requirement already satisfied: beautifulsoup4 in /home/alhiris/.pyenv/versions/3.9.9/lib/python3.9/site-packages (from wikipedia) (4.10.0)\r\n",
      "Requirement already satisfied: requests<3.0.0,>=2.0.0 in /home/alhiris/.pyenv/versions/3.9.9/lib/python3.9/site-packages (from wikipedia) (2.27.1)\r\n",
      "Requirement already satisfied: idna<4,>=2.5 in /home/alhiris/.pyenv/versions/3.9.9/lib/python3.9/site-packages (from requests<3.0.0,>=2.0.0->wikipedia) (3.3)\r\n",
      "Requirement already satisfied: certifi>=2017.4.17 in /home/alhiris/.pyenv/versions/3.9.9/lib/python3.9/site-packages (from requests<3.0.0,>=2.0.0->wikipedia) (2021.10.8)\r\n",
      "Requirement already satisfied: urllib3<1.27,>=1.21.1 in /home/alhiris/.pyenv/versions/3.9.9/lib/python3.9/site-packages (from requests<3.0.0,>=2.0.0->wikipedia) (1.26.9)\r\n",
      "Requirement already satisfied: charset-normalizer~=2.0.0 in /home/alhiris/.pyenv/versions/3.9.9/lib/python3.9/site-packages (from requests<3.0.0,>=2.0.0->wikipedia) (2.0.12)\r\n",
      "Requirement already satisfied: soupsieve>1.2 in /home/alhiris/.pyenv/versions/3.9.9/lib/python3.9/site-packages (from beautifulsoup4->wikipedia) (2.3.1)\r\n",
      "\u001B[33mWARNING: You are using pip version 21.2.4; however, version 22.0.4 is available.\r\n",
      "You should consider upgrading via the '/home/alhiris/.pyenv/versions/3.9.9/bin/python3.9 -m pip install --upgrade pip' command.\u001B[0m\r\n"
     ]
    }
   ],
   "source": [
    "! pip install wikipedia\n"
   ]
  },
  {
   "cell_type": "code",
   "execution_count": 2,
   "metadata": {
    "pycharm": {
     "name": "#%%\n"
    }
   },
   "outputs": [
    {
     "name": "stdout",
     "output_type": "stream",
     "text": [
      "Twitter is an American microblogging and social networking service on which users post and interact with messages known as \"tweets\". Registered users can post, like, and retweet tweets, but unregister\n",
      "127794\n"
     ]
    }
   ],
   "source": [
    "# 1\n",
    "import wikipedia\n",
    "page_title = \"twitter\"\n",
    "wikipedia.set_lang(\"en\")  # vrem articole in Engleza\n",
    "page = wikipedia.page(page_title, auto_suggest=False)\n",
    "\n",
    "print(page.content[:200])\n",
    "print(len(page.content))\n"
   ]
  },
  {
   "cell_type": "code",
   "execution_count": 3,
   "metadata": {
    "pycharm": {
     "name": "#%%\n"
    }
   },
   "outputs": [
    {
     "name": "stderr",
     "output_type": "stream",
     "text": [
      "/home/alhiris/.pyenv/versions/3.9.9/lib/python3.9/site-packages/gensim/similarities/__init__.py:15: UserWarning: The gensim.similarities.levenshtein submodule is disabled, because the optional Levenshtein package <https://pypi.org/project/python-Levenshtein/> is unavailable. Install Levenhstein (e.g. `pip install python-Levenshtein`) to suppress this warning.\n",
      "  warnings.warn(msg)\n"
     ]
    }
   ],
   "source": [
    "# 2\n",
    "import gensim.downloader as api\n",
    "google_model = api.load(\"word2vec-google-news-300\")\n"
   ]
  },
  {
   "cell_type": "code",
   "execution_count": 16,
   "outputs": [
    {
     "name": "stdout",
     "output_type": "stream",
     "text": [
      "Length of the vocabulary: 3000000\n",
      "['</s>', 'in', 'for', 'that', 'is', 'on', '##', 'The', 'with', 'said', 'was', 'the', 'at', 'not', 'as', 'it', 'be', 'from', 'by', 'are']\n",
      "Length of the words in text: 19898\n",
      "['Twitter', 'is', 'an', 'American', 'microblogging', 'and', 'social', 'networking', 'service', 'on', 'which', 'users', 'post', 'and', 'interact', 'with', 'messages', 'known', 'as', '\"tweets\".']\n",
      "Number of words that are in the vocabulary: 14518\n",
      "Number of words that arent in the vocabulary: 5380\n"
     ]
    }
   ],
   "source": [
    "# 3\n",
    "vocabulary = google_model.index_to_key\n",
    "data = page.content.split(' ')\n",
    "\n",
    "common_data = [word for word in data if word in vocabulary]\n",
    "\n",
    "print(f'Length of the vocabulary: {len(vocabulary)}')\n",
    "print(vocabulary[:20])\n",
    "print(f'Length of the words in text: {len(data)}')\n",
    "print(data[:20])\n",
    "print(f'Number of words that are in the vocabulary: {len(common_data)}')\n",
    "print(f'Number of words that arent in the vocabulary: {len(data) - len(common_data)}')\n"
   ],
   "metadata": {
    "collapsed": false,
    "pycharm": {
     "name": "#%%\n"
    }
   }
  },
  {
   "cell_type": "code",
   "execution_count": 22,
   "outputs": [
    {
     "name": "stderr",
     "output_type": "stream",
     "text": [
      "100%|██████████| 3620/3620 [01:29<00:00, 40.42it/s] \n"
     ]
    }
   ],
   "source": [
    "# 4\n",
    "from copy import deepcopy\n",
    "from tqdm import tqdm\n",
    "\n",
    "def insert_sorted(in_list, element, max_length, order=\"desc\"):\n",
    "    new_list = deepcopy(in_list)\n",
    "    for index in range(len(new_list)):\n",
    "        if order == \"desc\":\n",
    "            if new_list[index][2] < element[2]:\n",
    "                new_list.insert(index, element)\n",
    "        elif order == \"asc\":\n",
    "            if new_list[index][2] > element[2]:\n",
    "                new_list.insert(index, element)\n",
    "    if len(new_list) == 0:\n",
    "        new_list.append(element)\n",
    "    return new_list[:min(max_length, len(new_list))]\n",
    "\n",
    "common_data_unique = list(set(common_data))\n",
    "\n",
    "# top = []\n",
    "# bottom = []\n",
    "# for i in tqdm(range(len(common_data_unique))):\n",
    "#     for j in range(i + 1, len(common_data_unique)):\n",
    "#         similarity = google_model.similarity(common_data_unique[i], common_data_unique[j])\n",
    "#         element = (common_data_unique[i], common_data_unique[j], similarity)\n",
    "#         top = insert_sorted(top, element, max_length=3)\n",
    "#         bottom = insert_sorted(bottom, element, max_length=3, order=\"asc\")\n",
    "#         print(top)\n",
    "#         print(bottom)\n",
    "#\n",
    "# print(\"Top three elements in similarity:\")\n",
    "# print(top)\n",
    "# print(\"Bottom three elements in similarity:\")\n",
    "# print(bottom)\n",
    "\n",
    "all_pairs = []\n",
    "for i in tqdm(range(len(common_data_unique))):\n",
    "    for j in range(i + 1, len(common_data_unique)):\n",
    "        similarity = google_model.similarity(common_data_unique[i], common_data_unique[j])\n",
    "        element = (common_data_unique[i], common_data_unique[j], similarity)\n",
    "        all_pairs.append(element)\n"
   ],
   "metadata": {
    "collapsed": false,
    "pycharm": {
     "name": "#%%\n"
    }
   }
  },
  {
   "cell_type": "code",
   "execution_count": 24,
   "outputs": [
    {
     "name": "stdout",
     "output_type": "stream",
     "text": [
      "Top three elements in similarity:\n",
      "[('four', 'three', 0.9703434), ('January', 'February', 0.96759385), ('February', 'October', 0.96359354)]\n",
      "Bottom three elements in similarity:\n",
      "[('8.', 'however', -0.24982508), ('another', 'Founded', -0.2534207), ('foreword', 'or', -0.25518972)]\n"
     ]
    }
   ],
   "source": [
    "sorted_pairs = sorted(all_pairs, key=lambda x: x[2], reverse=True)\n",
    "print(\"Top three elements in similarity:\")\n",
    "print(sorted_pairs[:3])\n",
    "print(\"Bottom three elements in similarity:\")\n",
    "print(sorted_pairs[-3:])"
   ],
   "metadata": {
    "collapsed": false,
    "pycharm": {
     "name": "#%%\n"
    }
   }
  },
  {
   "cell_type": "code",
   "execution_count": null,
   "outputs": [],
   "source": [
    "# 5\n",
    "# skip"
   ],
   "metadata": {
    "collapsed": false,
    "pycharm": {
     "name": "#%%\n"
    }
   }
  },
  {
   "cell_type": "code",
   "execution_count": 25,
   "outputs": [
    {
     "data": {
      "text/plain": "<Figure size 432x288 with 1 Axes>",
      "image/png": "[encoded data removed]"
     },
     "metadata": {
      "needs_background": "light"
     },
     "output_type": "display_data"
    }
   ],
   "source": [
    "# 6\n",
    "# only for Google model\n",
    "from sklearn.decomposition import PCA\n",
    "import matplotlib.pyplot as plt\n",
    "words = ['car', 'motorcycle', 'bike', 'man', 'person', 'woman', 'child', 'king', 'queen', 'prince', 'plant', 'tree', 'flower']\n",
    "vectors = [google_model[word] for word in words]\n",
    "\n",
    "pca = PCA(n_components=2)\n",
    "pca.fit(vectors)\n",
    "vectors_2d = pca.transform(vectors)\n",
    "\n",
    "x = [v[0] for v in vectors_2d]\n",
    "y = [v[1] for v in vectors_2d]\n",
    "fig, ax = plt.subplots()\n",
    "ax.scatter(x, y)\n",
    "\n",
    "for i, txt in enumerate(words):\n",
    "    ax.annotate(txt, (x[i], y[i]))\n",
    "\n",
    "plt.show()\n"
   ],
   "metadata": {
    "collapsed": false,
    "pycharm": {
     "name": "#%%\n"
    }
   }
  }
 ],
 "metadata": {
  "kernelspec": {
   "display_name": "Python 3 (ipykernel)",
   "language": "python",
   "name": "python3"
  },
  "language_info": {
   "codemirror_mode": {
    "name": "ipython",
    "version": 3
   },
   "file_extension": ".py",
   "mimetype": "text/x-python",
   "name": "python",
   "nbconvert_exporter": "python",
   "pygments_lexer": "ipython3",
   "version": "3.9.9"
  }
 },
 "nbformat": 4,
 "nbformat_minor": 1
}