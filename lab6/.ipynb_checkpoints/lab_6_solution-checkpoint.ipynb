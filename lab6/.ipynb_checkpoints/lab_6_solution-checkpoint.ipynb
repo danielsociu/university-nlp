{
 "cells": [
  {
   "cell_type": "markdown",
   "metadata": {
    "collapsed": true,
    "pycharm": {
     "name": "#%% md\n"
    }
   },
   "source": [
    "# TASK\n",
    "## Deadline: 7 aprilie ora 23:59.\n",
    "\n",
    "Formular pentru trimiterea temei: https://forms.gle/dKdEDhiHkCKQgQbN6\n",
    "\n",
    "1. Descarcati un text mai mare in engleza (ex. un articol de pe wikipedia, vedeti cum mai jos).\n",
    "2. Incarcati modelul Word2Vec de la Google, la fel ca in laborator.\n",
    "3. Afisati cate cuvinte (tokens) distincte din text sunt acoperite de model (modelul contine vectori pentru acele cuvinte), si cate cuvinte distincte din text nu sunt acoperite de model.\n",
    "4. Determinati pentru toate perechile de cuvinte distincte din text care este similaritatea lor. Afisati top 3 cele mai similare perechi, si top 3 cele mai nesimilare.\n",
    "5. In urmatoarele cerinte vom compara modelul Google cu cel antrenat in cadrul laboratorului pe corpusul `text8`. Pentru fiecare cuvand din lista urmatoare determinati lista celor mai similare cuvinte conform modelului Google si lista celor mai similare cuvinte conform modelului text8: `smart, king, big`. Observati diferente?\n",
    "6. Plotati intr-un grafic embeddingurile reduse la 2 dimensiuni (folosind PCA) din modelul Google pentru cuvintele `car, motorcycle, bike, man, person, woman, child, king, queen, prince, plant, tree, flower`, separat construiti acelasi grafic si pentru modelul antrenat folosind text8. Ce asemanari/diferente observati?"
   ]
  },
  {
   "cell_type": "code",
   "execution_count": 2,
   "metadata": {
    "pycharm": {
     "name": "#%%\n"
    }
   },
   "outputs": [
    {
     "name": "stdout",
     "output_type": "stream",
     "text": [
      "Requirement already satisfied: wikipedia in /home/alhiris/.pyenv/versions/3.9.9/lib/python3.9/site-packages (1.4.0)\r\n",
      "Requirement already satisfied: beautifulsoup4 in /home/alhiris/.pyenv/versions/3.9.9/lib/python3.9/site-packages (from wikipedia) (4.10.0)\r\n",
      "Requirement already satisfied: requests<3.0.0,>=2.0.0 in /home/alhiris/.pyenv/versions/3.9.9/lib/python3.9/site-packages (from wikipedia) (2.27.1)\r\n",
      "Requirement already satisfied: urllib3<1.27,>=1.21.1 in /home/alhiris/.pyenv/versions/3.9.9/lib/python3.9/site-packages (from requests<3.0.0,>=2.0.0->wikipedia) (1.26.9)\r\n",
      "Requirement already satisfied: certifi>=2017.4.17 in /home/alhiris/.pyenv/versions/3.9.9/lib/python3.9/site-packages (from requests<3.0.0,>=2.0.0->wikipedia) (2021.10.8)\r\n",
      "Requirement already satisfied: charset-normalizer~=2.0.0 in /home/alhiris/.pyenv/versions/3.9.9/lib/python3.9/site-packages (from requests<3.0.0,>=2.0.0->wikipedia) (2.0.12)\r\n",
      "Requirement already satisfied: idna<4,>=2.5 in /home/alhiris/.pyenv/versions/3.9.9/lib/python3.9/site-packages (from requests<3.0.0,>=2.0.0->wikipedia) (3.3)\r\n",
      "Requirement already satisfied: soupsieve>1.2 in /home/alhiris/.pyenv/versions/3.9.9/lib/python3.9/site-packages (from beautifulsoup4->wikipedia) (2.3.1)\r\n",
      "\u001b[33mWARNING: You are using pip version 21.2.4; however, version 22.0.4 is available.\r\n",
      "You should consider upgrading via the '/home/alhiris/.pyenv/versions/3.9.9/bin/python3.9 -m pip install --upgrade pip' command.\u001b[0m\r\n"
     ]
    }
   ],
   "source": [
    "! pip install wikipedia\n"
   ]
  },
  {
   "cell_type": "code",
   "execution_count": 7,
   "metadata": {
    "pycharm": {
     "name": "#%%\n"
    }
   },
   "outputs": [
    {
     "name": "stdout",
     "output_type": "stream",
     "text": [
      "Twitter is an American microblogging and social networking service on which users post and interact with messages known as \"tweets\". Registered users can post, like, and retweet tweets, but unregister\n",
      "127794\n"
     ]
    }
   ],
   "source": [
    "import wikipedia\n",
    "page_title = \"twitter\"\n",
    "wikipedia.set_lang(\"en\")  # vrem articole in Engleza\n",
    "page = wikipedia.page(page_title, auto_suggest=False)\n",
    "\n",
    "print(page.content[:200])\n",
    "print(len(page.content))"
   ]
  },
  {
   "cell_type": "code",
   "execution_count": 8,
   "metadata": {
    "pycharm": {
     "name": "#%%\n"
    }
   },
   "outputs": [
    {
     "name": "stderr",
     "output_type": "stream",
     "text": [
      "/home/alhiris/.pyenv/versions/3.9.9/lib/python3.9/site-packages/gensim/similarities/__init__.py:15: UserWarning: The gensim.similarities.levenshtein submodule is disabled, because the optional Levenshtein package <https://pypi.org/project/python-Levenshtein/> is unavailable. Install Levenhstein (e.g. `pip install python-Levenshtein`) to suppress this warning.\n",
      "  warnings.warn(msg)\n"
     ]
    },
    {
     "name": "stdout",
     "output_type": "stream",
     "text": [
      "[--------------------------------------------------] 1.4% 23.4/1662.8MB downloaded"
     ]
    },
    {
     "name": "stderr",
     "output_type": "stream",
     "text": [
      "IOPub message rate exceeded.\n",
      "The notebook server will temporarily stop sending output\n",
      "to the client in order to avoid crashing it.\n",
      "To change this limit, set the config variable\n",
      "`--NotebookApp.iopub_msg_rate_limit`.\n",
      "\n",
      "Current values:\n",
      "NotebookApp.iopub_msg_rate_limit=1000.0 (msgs/sec)\n",
      "NotebookApp.rate_limit_window=3.0 (secs)\n",
      "\n"
     ]
    },
    {
     "name": "stdout",
     "output_type": "stream",
     "text": [
      "[==------------------------------------------------] 4.7% 77.4/1662.8MB downloaded"
     ]
    },
    {
     "name": "stderr",
     "output_type": "stream",
     "text": [
      "IOPub message rate exceeded.\n",
      "The notebook server will temporarily stop sending output\n",
      "to the client in order to avoid crashing it.\n",
      "To change this limit, set the config variable\n",
      "`--NotebookApp.iopub_msg_rate_limit`.\n",
      "\n",
      "Current values:\n",
      "NotebookApp.iopub_msg_rate_limit=1000.0 (msgs/sec)\n",
      "NotebookApp.rate_limit_window=3.0 (secs)\n",
      "\n"
     ]
    },
    {
     "name": "stdout",
     "output_type": "stream",
     "text": [
      "[===-----------------------------------------------] 7.5% 124.3/1662.8MB downloaded"
     ]
    },
    {
     "name": "stderr",
     "output_type": "stream",
     "text": [
      "IOPub message rate exceeded.\n",
      "The notebook server will temporarily stop sending output\n",
      "to the client in order to avoid crashing it.\n",
      "To change this limit, set the config variable\n",
      "`--NotebookApp.iopub_msg_rate_limit`.\n",
      "\n",
      "Current values:\n",
      "NotebookApp.iopub_msg_rate_limit=1000.0 (msgs/sec)\n",
      "NotebookApp.rate_limit_window=3.0 (secs)\n",
      "\n"
     ]
    },
    {
     "name": "stdout",
     "output_type": "stream",
     "text": [
      "[=====---------------------------------------------] 10.1% 167.5/1662.8MB downloaded"
     ]
    },
    {
     "name": "stderr",
     "output_type": "stream",
     "text": [
      "IOPub message rate exceeded.\n",
      "The notebook server will temporarily stop sending output\n",
      "to the client in order to avoid crashing it.\n",
      "To change this limit, set the config variable\n",
      "`--NotebookApp.iopub_msg_rate_limit`.\n",
      "\n",
      "Current values:\n",
      "NotebookApp.iopub_msg_rate_limit=1000.0 (msgs/sec)\n",
      "NotebookApp.rate_limit_window=3.0 (secs)\n",
      "\n"
     ]
    },
    {
     "name": "stdout",
     "output_type": "stream",
     "text": [
      "[======--------------------------------------------] 13.7% 228.4/1662.8MB downloaded"
     ]
    },
    {
     "name": "stderr",
     "output_type": "stream",
     "text": [
      "IOPub message rate exceeded.\n",
      "The notebook server will temporarily stop sending output\n",
      "to the client in order to avoid crashing it.\n",
      "To change this limit, set the config variable\n",
      "`--NotebookApp.iopub_msg_rate_limit`.\n",
      "\n",
      "Current values:\n",
      "NotebookApp.iopub_msg_rate_limit=1000.0 (msgs/sec)\n",
      "NotebookApp.rate_limit_window=3.0 (secs)\n",
      "\n"
     ]
    },
    {
     "name": "stdout",
     "output_type": "stream",
     "text": [
      "[========------------------------------------------] 16.9% 280.2/1662.8MB downloaded"
     ]
    },
    {
     "name": "stderr",
     "output_type": "stream",
     "text": [
      "IOPub message rate exceeded.\n",
      "The notebook server will temporarily stop sending output\n",
      "to the client in order to avoid crashing it.\n",
      "To change this limit, set the config variable\n",
      "`--NotebookApp.iopub_msg_rate_limit`.\n",
      "\n",
      "Current values:\n",
      "NotebookApp.iopub_msg_rate_limit=1000.0 (msgs/sec)\n",
      "NotebookApp.rate_limit_window=3.0 (secs)\n",
      "\n"
     ]
    }
   ],
   "source": [
    "import gensim.downloader as api\n",
    "google_model = api.load(\"word2vec-google-news-300\")\n"
   ]
  }
 ],
 "metadata": {
  "kernelspec": {
   "display_name": "Python 3 (ipykernel)",
   "language": "python",
   "name": "python3"
  },
  "language_info": {
   "codemirror_mode": {
    "name": "ipython",
    "version": 3
   },
   "file_extension": ".py",
   "mimetype": "text/x-python",
   "name": "python",
   "nbconvert_exporter": "python",
   "pygments_lexer": "ipython3",
   "version": "3.9.9"
  }
 },
 "nbformat": 4,
 "nbformat_minor": 1
}
